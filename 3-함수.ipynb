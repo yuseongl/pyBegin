{
 "cells": [
  {
   "cell_type": "markdown",
   "metadata": {},
   "source": [
    "### 1. 함수의 정의\n",
    "\n",
    "+ 일정한 작업을 수행하는 코드 블럭\n",
    "\n",
    "### 2. 함수의 장점\n",
    "\n",
    "+ 반복적인 코드를 없애주며, 전체코드를 짧게 만들어 준다.(재사용)\n",
    "+ 유지보수를 쉽게 만들어준다.\n",
    "\n",
    "### 3. 함수의 구현\n",
    "\n",
    "def 함수이름(...):\n",
    "    코드 ...\n",
    "    ...\n",
    "    \n",
    "    (return...)\n",
    "    \n",
    "### 4. 함수의 호출방식\n",
    "\n",
    "    1) 인자가 있는 방식\n",
    "    2) 인자가 없는 방식\n",
    "    3) 반한값이 있는 방식\n",
    "    4) return의 두 가지 가능\n",
    "        - 값의 반환 : 값은 한개만 반환\n",
    "        - 함수의 강제 종료\n",
    "        \n",
    "### 5. 함수의 설계\n",
    "    \n",
    "    1) 단일기능\n",
    "    2) 재사용가능성\n",
    "    \n",
    "### 6. 함수의 종류\n",
    "    \n",
    "    1) 사용자 정의 함수(user define function)\n",
    "    2) 내장 함수(built-in)\n",
    "    3) 외장 함수"
   ]
  },
  {
   "cell_type": "code",
   "execution_count": 27,
   "metadata": {},
   "outputs": [],
   "source": [
    "def line(cnt,type):\n",
    "    for v in range(cnt):\n",
    "        print(type,end='')\n",
    "        \n",
    "    print()"
   ]
  },
  {
   "cell_type": "code",
   "execution_count": 28,
   "metadata": {},
   "outputs": [
    {
     "name": "stdout",
     "output_type": "stream",
     "text": [
      "------------------------------\n",
      "     친구관리 프로그램      \n",
      "%%%%%%%%%%%%%%%%%%%%\n",
      "1. 리스트출력\n",
      "2. 친구추가\n",
      "3. 종료\n",
      "----------------------------------------\n"
     ]
    }
   ],
   "source": [
    "line(30, \"-\")\n",
    "print('     친구관리 프로그램      ')\n",
    "line(20, \"%\")\n",
    "print('1. 리스트출력')\n",
    "print('2. 친구추가')\n",
    "print('3. 종료')\n",
    "line(40, \"-\")"
   ]
  },
  {
   "cell_type": "code",
   "execution_count": 39,
   "metadata": {},
   "outputs": [
    {
     "name": "stdout",
     "output_type": "stream",
     "text": [
      "두 수의 교환\n",
      "결과: (5, 10)\n"
     ]
    }
   ],
   "source": [
    "def swap(num1,num2):\n",
    "    #temp = num1\n",
    "   # num1 = num2\n",
    "   # num2 = temp\n",
    "    \n",
    "    num1,num2 = num2,num1\n",
    "    \n",
    "    return num1,num2\n",
    "    \n",
    "    print('이문장이 보이는가?')\n",
    "#############################\n",
    "\n",
    "num1, num2 = 10,5\n",
    "\n",
    "print('두 수의 교환')\n",
    "\n",
    "#n1,n2 = swap(num1,num2)\n",
    "\n",
    "print(\"결과:\",swap(num1,num2))"
   ]
  },
  {
   "cell_type": "markdown",
   "metadata": {},
   "source": [
    "### 파이썬에서 함수를 지원하기 위한 문법\n"
   ]
  },
  {
   "cell_type": "code",
   "execution_count": 51,
   "metadata": {},
   "outputs": [
    {
     "name": "stdout",
     "output_type": "stream",
     "text": [
      "홍길동 지역 대표\n",
      "지역 대표\n"
     ]
    }
   ],
   "source": [
    "### 변수와 유효(생존) 범위 : 지역변수, 전역변수\n",
    "\n",
    "player = '전국 대표'\n",
    "\n",
    "\n",
    "def funsoccer():\n",
    "    global player\n",
    "    name = \"홍길동\"\n",
    "    player = '지역 대표'\n",
    "    print(name,player)\n",
    "   \n",
    "funsoccer()\n",
    "print(player)\n",
    "\n",
    "    "
   ]
  },
  {
   "cell_type": "code",
   "execution_count": 66,
   "metadata": {},
   "outputs": [
    {
     "name": "stdout",
     "output_type": "stream",
     "text": [
      "******************************\n",
      "**********\n",
      "안녕하세요 ㅇㅇㅇ님\n",
      "입력하세요\n",
      "안녕하세요.수원에사는 이유성님 당신의 나이는26세 입니다\n",
      "안녕하세요.스울에사는 dd님 당신의 나이는25세 입니다\n"
     ]
    }
   ],
   "source": [
    "### default 인수\n",
    "\n",
    "def line(cnt=10):\n",
    "    for v in range(cnt):\n",
    "        print('*',end='')\n",
    "        \n",
    "    print()\n",
    "def hello(name = None):\n",
    "    if name == None:\n",
    "        print('입력하세요')\n",
    "        return\n",
    "    print('안녕하세요 %s님'%name)\n",
    "    \n",
    "def hello2(name,age,addr):\n",
    "    print('안녕하세요.{}에사는 {}님 당신의 나이는{}세 입니다'.format(addr,name,age))\n",
    "##############################################\n",
    "\n",
    "line(30)\n",
    "line()\n",
    "\n",
    "hello(\"ㅇㅇㅇ\")\n",
    "hello()\n",
    "\n",
    "hello2('이유성',26,'수원')\n",
    "\n",
    "hello2(age = 25,name = 'dd',addr = '스울')"
   ]
  },
  {
   "cell_type": "code",
   "execution_count": 9,
   "metadata": {},
   "outputs": [
    {
     "name": "stdout",
     "output_type": "stream",
     "text": [
      "('홍길동',) 안녕하세요\n",
      "('d', 'a', 'b') 안녕하세요\n",
      "[1, 2] [2, 4] [5, 6]\n",
      "[1, 2] [2, 4] [5, 6]\n",
      "75 175 홍길동 {'a': 'ggg'}\n"
     ]
    }
   ],
   "source": [
    "### 가변 인수 \n",
    "#=================\n",
    "# *: 곱셈, 반복, 매개변수(가변인수,tuple)\n",
    "# **: 거듭제곱, 매개변수(가변인수,dict)\n",
    "\n",
    "def greeting(*name):\n",
    "    print(name,'안녕하세요')\n",
    "\n",
    "def info(weight,height,name,**other):\n",
    "    print(weight,height,name,other)\n",
    "    #print(other)\n",
    "#########################################\n",
    "\n",
    "greeting('홍길동')\n",
    "greeting('d','a','b')\n",
    "\n",
    "a, b, c = ([1,2],[2,4],[5,6])\n",
    "\n",
    "print(a,b,c)\n",
    "\n",
    "c = ([1,2],[2,4],[5,6])\n",
    "print(*c)\n",
    "\n",
    "info(75,175,'홍길동',a='ggg')"
   ]
  },
  {
   "cell_type": "markdown",
   "metadata": {},
   "source": [
    "### 내장함수"
   ]
  },
  {
   "cell_type": "code",
   "execution_count": 14,
   "metadata": {},
   "outputs": [
    {
     "name": "stdout",
     "output_type": "stream",
     "text": [
      "False\n",
      "False\n"
     ]
    }
   ],
   "source": [
    "#-----------------------\n",
    "# all(), any() :and or 연산자(함수화(0과 빈값들은 false로 처리))\n",
    "#-----------------------\n",
    "\n",
    "print(all([1,0,3,4]))\n",
    "print(all([1,None,2]))"
   ]
  },
  {
   "cell_type": "code",
   "execution_count": 22,
   "metadata": {},
   "outputs": [
    {
     "name": "stdout",
     "output_type": "stream",
     "text": [
      "100 dl\n",
      "101 sb\n",
      "102 tjd\n"
     ]
    }
   ],
   "source": [
    "#-----------------------\n",
    "# enumerate(iterator): 순서가 있는 자료형을 입력받아 인덱스 값을 포함해서 리턴\n",
    "#-----------------------\n",
    "for a, i in enumerate(['dl','sb','tjd'], start = 100):\n",
    "    print(a,i)"
   ]
  },
  {
   "cell_type": "code",
   "execution_count": 30,
   "metadata": {},
   "outputs": [
    {
     "name": "stdout",
     "output_type": "stream",
     "text": [
      "3+4\n",
      "7\n",
      "7\n"
     ]
    },
    {
     "data": {
      "text/plain": [
       "(2, 1)"
      ]
     },
     "execution_count": 30,
     "metadata": {},
     "output_type": "execute_result"
    }
   ],
   "source": [
    "#========================================\n",
    "# eval(expression) : 표현식을 파이썬에서 실현 가능하게 만들어주는 역활\n",
    "#========================================\n",
    "\n",
    "print('3+4')\n",
    "print(eval('3+4'))\n",
    "print(int('3')+int('4'))\n",
    "\n",
    "divmod(9,4)"
   ]
  },
  {
   "cell_type": "code",
   "execution_count": 39,
   "metadata": {},
   "outputs": [
    {
     "name": "stdout",
     "output_type": "stream",
     "text": [
      "12\n",
      "[12, 36, 25, 6]\n",
      "[12, 36, 25, 6]\n",
      "12\n",
      "36\n",
      "25\n",
      "6\n"
     ]
    }
   ],
   "source": [
    "#========================================\n",
    "# map(function, iterator): 집합의 각 요소가 함수에 의해서 수행된 결과를 묶어서 리턴\n",
    "#========================================\n",
    "\n",
    "def calc(x):\n",
    "    return x +2\n",
    "a = calc(10)\n",
    "print(a)\n",
    "\n",
    "data = [10,34,23,4]\n",
    "result = []\n",
    "for v in data:\n",
    "    temp = calc(v)\n",
    "    result.append(temp)\n",
    "print(result)\n",
    "\n",
    "print(list(map(calc,data)))\n",
    "\n",
    "for v in map(calc,data):\n",
    "    print(v)"
   ]
  },
  {
   "cell_type": "code",
   "execution_count": 50,
   "metadata": {},
   "outputs": [
    {
     "name": "stdout",
     "output_type": "stream",
     "text": [
      "[(0, ('a5', 'a4', 'a1')), (1, ('b5', 'b4', 'b1')), (2, ('c5', 'c4', 'c1'))]\n",
      "0 a5 a4 a1\n",
      "1 b5 b4 b1\n",
      "2 c5 c4 c1\n"
     ]
    }
   ],
   "source": [
    "#=================================================\n",
    "# zip(lterator) : 동일한 갯수로 이루어진 자료형을 묶어주는 역활\n",
    "#=================================================\n",
    "\n",
    "a = ['a5','b5','c5']\n",
    "a2 = ['a4','b4','c4']\n",
    "a3 = ['a1','b1','c1']\n",
    "\n",
    "print(list(enumerate(zip(a,a2,a3))))\n",
    "\n",
    "for v,(v1,v2,v3) in enumerate(zip(a,a2,a3)):\n",
    "    print(v,v1,v2,v3)\n"
   ]
  },
  {
   "cell_type": "markdown",
   "metadata": {},
   "source": [
    "---\n",
    "#### 외장 함수\n",
    "    * import 모듈명\n",
    "    * C:\\Users\\leewy\\anaconda3\\Lib\\site-packages"
   ]
  },
  {
   "cell_type": "code",
   "execution_count": 4,
   "metadata": {},
   "outputs": [
    {
     "name": "stdout",
     "output_type": "stream",
     "text": [
      "['__breakpointhook__', '__displayhook__', '__doc__', '__excepthook__', '__interactivehook__', '__loader__', '__name__', '__package__', '__spec__', '__stderr__', '__stdin__', '__stdout__', '__unraisablehook__', '_base_executable', '_clear_type_cache', '_current_frames', '_debugmallocstats', '_enablelegacywindowsfsencoding', '_framework', '_getframe', '_git', '_home', '_xoptions', 'addaudithook', 'api_version', 'argv', 'audit', 'base_exec_prefix', 'base_prefix', 'breakpointhook', 'builtin_module_names', 'byteorder', 'call_tracing', 'callstats', 'copyright', 'displayhook', 'dllhandle', 'dont_write_bytecode', 'exc_info', 'excepthook', 'exec_prefix', 'executable', 'exit', 'flags', 'float_info', 'float_repr_style', 'get_asyncgen_hooks', 'get_coroutine_origin_tracking_depth', 'getallocatedblocks', 'getcheckinterval', 'getdefaultencoding', 'getfilesystemencodeerrors', 'getfilesystemencoding', 'getprofile', 'getrecursionlimit', 'getrefcount', 'getsizeof', 'getswitchinterval', 'gettrace', 'getwindowsversion', 'hash_info', 'hexversion', 'implementation', 'int_info', 'intern', 'is_finalizing', 'maxsize', 'maxunicode', 'meta_path', 'modules', 'path', 'path_hooks', 'path_importer_cache', 'platform', 'prefix', 'ps1', 'ps2', 'ps3', 'pycache_prefix', 'set_asyncgen_hooks', 'set_coroutine_origin_tracking_depth', 'setcheckinterval', 'setprofile', 'setrecursionlimit', 'setswitchinterval', 'settrace', 'stderr', 'stdin', 'stdout', 'thread_info', 'unraisablehook', 'version', 'version_info', 'warnoptions', 'winver']\n",
      "-------------------------------------\n",
      "['C:\\\\lys_code\\\\pythonwork\\\\basic', 'C:\\\\Users\\\\leewy\\\\anaconda3\\\\python38.zip', 'C:\\\\Users\\\\leewy\\\\anaconda3\\\\DLLs', 'C:\\\\Users\\\\leewy\\\\anaconda3\\\\lib', 'C:\\\\Users\\\\leewy\\\\anaconda3', '', 'C:\\\\Users\\\\leewy\\\\anaconda3\\\\lib\\\\site-packages', 'C:\\\\Users\\\\leewy\\\\anaconda3\\\\lib\\\\site-packages\\\\win32', 'C:\\\\Users\\\\leewy\\\\anaconda3\\\\lib\\\\site-packages\\\\win32\\\\lib', 'C:\\\\Users\\\\leewy\\\\anaconda3\\\\lib\\\\site-packages\\\\Pythonwin', 'C:\\\\Users\\\\leewy\\\\anaconda3\\\\lib\\\\site-packages\\\\IPython\\\\extensions', 'C:\\\\Users\\\\leewy\\\\.ipython']\n",
      "win32\n",
      "3.8.5 (default, Sep  3 2020, 21:29:08) [MSC v.1916 64 bit (AMD64)]\n"
     ]
    }
   ],
   "source": [
    "import sys\n",
    "\n",
    "print(dir(sys))\n",
    "print('-------------------------------------')\n",
    "print(sys.path)\n",
    "print(sys.platform)\n",
    "print(sys.version)"
   ]
  },
  {
   "cell_type": "code",
   "execution_count": 7,
   "metadata": {},
   "outputs": [
    {
     "name": "stdout",
     "output_type": "stream",
     "text": [
      "['DirEntry', 'F_OK', 'MutableMapping', 'O_APPEND', 'O_BINARY', 'O_CREAT', 'O_EXCL', 'O_NOINHERIT', 'O_RANDOM', 'O_RDONLY', 'O_RDWR', 'O_SEQUENTIAL', 'O_SHORT_LIVED', 'O_TEMPORARY', 'O_TEXT', 'O_TRUNC', 'O_WRONLY', 'P_DETACH', 'P_NOWAIT', 'P_NOWAITO', 'P_OVERLAY', 'P_WAIT', 'PathLike', 'R_OK', 'SEEK_CUR', 'SEEK_END', 'SEEK_SET', 'TMP_MAX', 'W_OK', 'X_OK', '_AddedDllDirectory', '_Environ', '__all__', '__builtins__', '__cached__', '__doc__', '__file__', '__loader__', '__name__', '__package__', '__spec__', '_check_methods', '_execvpe', '_exists', '_exit', '_fspath', '_get_exports_list', '_putenv', '_unsetenv', '_wrap_close', 'abc', 'abort', 'access', 'add_dll_directory', 'altsep', 'chdir', 'chmod', 'close', 'closerange', 'cpu_count', 'curdir', 'defpath', 'device_encoding', 'devnull', 'dup', 'dup2', 'environ', 'error', 'execl', 'execle', 'execlp', 'execlpe', 'execv', 'execve', 'execvp', 'execvpe', 'extsep', 'fdopen', 'fsdecode', 'fsencode', 'fspath', 'fstat', 'fsync', 'ftruncate', 'get_exec_path', 'get_handle_inheritable', 'get_inheritable', 'get_terminal_size', 'getcwd', 'getcwdb', 'getenv', 'getlogin', 'getpid', 'getppid', 'isatty', 'kill', 'linesep', 'link', 'listdir', 'lseek', 'lstat', 'makedirs', 'mkdir', 'name', 'open', 'pardir', 'path', 'pathsep', 'pipe', 'popen', 'putenv', 'read', 'readlink', 'remove', 'removedirs', 'rename', 'renames', 'replace', 'rmdir', 'scandir', 'sep', 'set_handle_inheritable', 'set_inheritable', 'spawnl', 'spawnle', 'spawnv', 'spawnve', 'st', 'startfile', 'stat', 'stat_result', 'statvfs_result', 'strerror', 'supports_bytes_environ', 'supports_dir_fd', 'supports_effective_ids', 'supports_fd', 'supports_follow_symlinks', 'symlink', 'sys', 'system', 'terminal_size', 'times', 'times_result', 'truncate', 'umask', 'uname_result', 'unlink', 'urandom', 'utime', 'waitpid', 'walk', 'write']\n",
      "------------------------------\n",
      "C:\\lys_code\\pythonwork\\basic\n"
     ]
    }
   ],
   "source": [
    "import os\n",
    "\n",
    "print(dir(os))\n",
    "print('------------------------------')\n",
    "print(os.getcwd())"
   ]
  },
  {
   "cell_type": "code",
   "execution_count": 14,
   "metadata": {},
   "outputs": [
    {
     "name": "stdout",
     "output_type": "stream",
     "text": [
      "['__builtins__', '__cached__', '__doc__', '__file__', '__loader__', '__name__', '__package__', '__spec__', 'company', 'info', 'sum']\n",
      "40\n"
     ]
    }
   ],
   "source": [
    "import mymodule\n",
    "print(dir(mymodule))\n",
    "\n",
    "print(mymodule.sum(10,30))"
   ]
  },
  {
   "cell_type": "code",
   "execution_count": 55,
   "metadata": {},
   "outputs": [
    {
     "name": "stdout",
     "output_type": "stream",
     "text": [
      "2021-04-07 연도 2021  4 \n",
      "================================\n",
      "2021-04-07 11:39:07.107894\n",
      "================================\n",
      "-1 day, 0:00:00\n",
      "2021-04-06\n",
      "2021-04-07 03:39:07.107894\n",
      "===============================\n",
      "04/07/2021\n",
      "2021-04-07 11:39:07\n",
      "<class 'str'>\n",
      "<class 'datetime.datetime'>\n",
      "2021-04-07 11:39:07\n"
     ]
    }
   ],
   "source": [
    "import datetime\n",
    "\n",
    "# 현재 시간\n",
    "tday = datetime.date.today()\n",
    "print(tday,'연도',tday.year,'',tday.month,'')\n",
    "\n",
    "print('================================')\n",
    "\n",
    "#현재 시간\n",
    "\n",
    "ctime = datetime.datetime.today()\n",
    "print(ctime)\n",
    "\n",
    "print('================================')\n",
    "\n",
    "# 날짜와 사간으로 계산\n",
    "a = datetime.timedelta(days = -1\n",
    "                      )\n",
    "print(a)\n",
    "print(tday + a)\n",
    "\n",
    "# 8시간 전의 시간\n",
    "b = datetime.timedelta(hours = -8)\n",
    "print(ctime + b)\n",
    "\n",
    "print('===============================')\n",
    "\n",
    "# 날짜의 형식을 지정\n",
    "print(tday.strftime('%m/%d/%Y'))\n",
    "print(ctime.strftime('%Y-%m-%d %H:%M:%S'))\n",
    "\n",
    "# 날짜의 형식 변환(날짜를 문자열로: strftime(),문자열을 날짜로 : strptime())\n",
    "\n",
    "print(type(tday.strftime('%m/%d/%Y')))\n",
    "print(type(ctime))\n",
    "t = ctime.strftime('%Y-%m-%d %H:%M:%S')\n",
    "print(t)\n",
    "\n",
    "str = '2020-2-5 11:11:11'\n",
    "a = datetime.datetime.strptime(str,'%Y-%m-%d %H:%M:%S')"
   ]
  },
  {
   "cell_type": "markdown",
   "metadata": {},
   "source": [
    "### 명령행 인자(Command Line Argument)"
   ]
  },
  {
   "cell_type": "code",
   "execution_count": 56,
   "metadata": {},
   "outputs": [
    {
     "ename": "SyntaxError",
     "evalue": "invalid syntax (<ipython-input-56-bfdebfd687e6>, line 1)",
     "output_type": "error",
     "traceback": [
      "\u001b[1;36m  File \u001b[1;32m\"<ipython-input-56-bfdebfd687e6>\"\u001b[1;36m, line \u001b[1;32m1\u001b[0m\n\u001b[1;33m    ***\u001b[0m\n\u001b[1;37m    ^\u001b[0m\n\u001b[1;31mSyntaxError\u001b[0m\u001b[1;31m:\u001b[0m invalid syntax\n"
     ]
    }
   ],
   "source": [
    "***\n",
    "파일명 : phoneBook.py\n",
    "데이터 : 임의로 준비\n",
    "실행예시:\n",
    "    python phoneBook.py 관우(엔터)\n",
    "    \n",
    "    이름 : 관우\n",
    "    전화 : 010-0000-0000\n",
    "    주소 : ...\n",
    "***\n",
    "\n",
    "data = [   \n",
    "    ['ddd','010-0000-0000','서울시 강남구'],\n",
    "    ['ddd','010-0000-0000','서울시 강남구'],\n",
    "    ['ddd','010-0000-0000','서울시 강남구'],\n",
    "    ['ddd','010-0000-0000','서울시 강남구'],\n",
    "]"
   ]
  },
  {
   "cell_type": "markdown",
   "metadata": {},
   "source": [
    "### 재귀 함수"
   ]
  },
  {
   "cell_type": "code",
   "execution_count": 67,
   "metadata": {},
   "outputs": [
    {
     "name": "stdout",
     "output_type": "stream",
     "text": [
      "5\n",
      "4\n",
      "3\n",
      "2\n",
      "1\n"
     ]
    }
   ],
   "source": [
    "def countdown(i):\n",
    "    if i == 0:\n",
    "        return\n",
    "    print(i)\n",
    "    \n",
    "    countdown(i-1)\n",
    "    \n",
    "####################\n",
    "\n",
    "countdown(5)"
   ]
  },
  {
   "cell_type": "code",
   "execution_count": 68,
   "metadata": {},
   "outputs": [
    {
     "name": "stdout",
     "output_type": "stream",
     "text": [
      "5\n",
      "4\n",
      "3\n",
      "2\n",
      "1\n"
     ]
    }
   ],
   "source": [
    "def a(i):\n",
    "    print(i)\n",
    "    \n",
    "for v in range(5,0,-1):\n",
    "    a(v)"
   ]
  },
  {
   "cell_type": "code",
   "execution_count": 98,
   "metadata": {},
   "outputs": [
    {
     "name": "stdout",
     "output_type": "stream",
     "text": [
      "3\n",
      "2\n",
      "1\n",
      "6\n",
      "걸린시간1: 0.0\n",
      "3\n",
      "2\n",
      "6\n",
      "걸린시간2: 0.0\n"
     ]
    }
   ],
   "source": [
    "import time\n",
    "\n",
    "def fact1(n):\n",
    "    result = 1\n",
    "    while n > 0:\n",
    "        print(n)\n",
    "        result = result * n\n",
    "        n = n-1 \n",
    "    return result\n",
    "def fact2(n):\n",
    "    if n == 1:\n",
    "        return 1\n",
    "    print(n)\n",
    "    return n * fact2(n-1)\n",
    "\n",
    "################################\n",
    "start_time = time.time()\n",
    "print(fact1(3))\n",
    "end_time = time.time()\n",
    "\n",
    "print('걸린시간1:',end_time - start_time)\n",
    "\n",
    "start_time = time.time()\n",
    "print(fact2(3))\n",
    "end_time = time.time()\n",
    "\n",
    "print('걸린시간2:',end_time - start_time)\n",
    "#fact2(5)"
   ]
  },
  {
   "cell_type": "markdown",
   "metadata": {},
   "source": [
    "### 파일처리\n",
    "\n",
    "+ open(파일명(경로 포함),모드) - mode : r,w,a,rb,wb,ab\n",
    "+ close()\n",
    "+ 읽어올 때 : readline(), readlines(), read()\n",
    "+ 저장할 때 : write()"
   ]
  },
  {
   "cell_type": "code",
   "execution_count": 108,
   "metadata": {},
   "outputs": [
    {
     "name": "stdout",
     "output_type": "stream",
     "text": [
      "<_io.TextIOWrapper name='mymodule.py' mode='r' encoding='cp949'>\n",
      "<class 'list'>\n",
      "[]\n",
      "[]\n",
      "[]\n",
      "[]\n",
      "[]\n",
      "[]\n",
      "[]\n",
      "[]\n"
     ]
    }
   ],
   "source": [
    "f = open('mymodule.py','r')\n",
    "\n",
    "print(f)\n",
    "\n",
    "print(type(f.readlines()))\n",
    "print(f.readlines())\n",
    "print(f.readlines())\n",
    "print(f.readlines())\n",
    "print(f.readlines())\n",
    "print(f.readlines())\n",
    "print(f.readlines())\n",
    "print(f.readlines())\n",
    "print(f.readlines())\n",
    "\n",
    "f.close()"
   ]
  },
  {
   "cell_type": "code",
   "execution_count": 2,
   "metadata": {},
   "outputs": [
    {
     "name": "stdout",
     "output_type": "stream",
     "text": [
      "def sum(num1,num2):\n",
      "\n",
      "        hap = num1 +num2\n",
      "\n",
      "        return hap\n",
      "\n",
      "        \n",
      "\n",
      "def info(weight, height,**other):\n",
      "\n",
      "        print('키:',height)\n",
      "\n",
      "        print('몸무게:',weight)\n",
      "\n",
      "        print('키타',other)\n",
      "\n",
      "        \n",
      "\n",
      "company = \"파이썬 주식회사\"\n"
     ]
    }
   ],
   "source": [
    "f = open('mymodule.py','r')\n",
    "\n",
    "while True:\n",
    "    line = f.readline()\n",
    "    \n",
    "    if not line:\n",
    "        break\n",
    "        \n",
    "    print(line)\n",
    "f.close()"
   ]
  },
  {
   "cell_type": "code",
   "execution_count": 4,
   "metadata": {},
   "outputs": [
    {
     "name": "stdout",
     "output_type": "stream",
     "text": [
      "abcdefgh\n",
      "12345678\n",
      "가나다라마바사"
     ]
    }
   ],
   "source": [
    "# f = open('C:\\\\lys_code\\\\pythonwork\\\\basic\\\\data\\\\filetest1.txt','r')\n",
    "f = open('C:data\\\\filetest1.txt','r')\n",
    "while True:\n",
    "    line = f.readline()\n",
    "    \n",
    "    if not line:\n",
    "        break\n",
    "        \n",
    "    print(line,end='')\n",
    "f.close()"
   ]
  },
  {
   "cell_type": "code",
   "execution_count": 8,
   "metadata": {},
   "outputs": [
    {
     "name": "stdout",
     "output_type": "stream",
     "text": [
      "['abcdefgh\\n', '12345678\\n', '가나다라마바사']\n",
      "abcdefgh\n",
      "12345678\n",
      "가나다라마바사"
     ]
    }
   ],
   "source": [
    "f = open('C:data\\\\filetest1.txt','r')\n",
    "\n",
    "lines = f.readlines()\n",
    "print(lines)\n",
    "\n",
    "f.close()\n",
    "\n",
    "for i in lines:\n",
    "    print(i,end='')"
   ]
  },
  {
   "cell_type": "code",
   "execution_count": 22,
   "metadata": {},
   "outputs": [
    {
     "name": "stdout",
     "output_type": "stream",
     "text": [
      "abcdefgh\n",
      "12345678\n",
      "가나다라마바사\n",
      "25\n",
      "----------------------------------\n",
      "abcdefgh\n",
      "12345678\n",
      "가나다라마바사\n"
     ]
    },
    {
     "ename": "TypeError",
     "evalue": "'<=' not supported between instances of 'str' and 'int'",
     "output_type": "error",
     "traceback": [
      "\u001b[1;31m---------------------------------------------------------------------------\u001b[0m",
      "\u001b[1;31mTypeError\u001b[0m                                 Traceback (most recent call last)",
      "\u001b[1;32m<ipython-input-22-474f6521ecde>\u001b[0m in \u001b[0;36m<module>\u001b[1;34m\u001b[0m\n\u001b[0;32m     13\u001b[0m \u001b[1;32mfor\u001b[0m \u001b[0mv\u001b[0m \u001b[1;32min\u001b[0m \u001b[0mdata\u001b[0m\u001b[1;33m:\u001b[0m\u001b[1;33m\u001b[0m\u001b[1;33m\u001b[0m\u001b[0m\n\u001b[0;32m     14\u001b[0m     \u001b[0mprint\u001b[0m\u001b[1;33m(\u001b[0m\u001b[0mdata\u001b[0m\u001b[1;33m)\u001b[0m\u001b[1;33m\u001b[0m\u001b[1;33m\u001b[0m\u001b[0m\n\u001b[1;32m---> 15\u001b[1;33m     \u001b[1;32mif\u001b[0m \u001b[0mv\u001b[0m \u001b[1;33m<=\u001b[0m \u001b[1;36m0\u001b[0m\u001b[1;33m:\u001b[0m\u001b[1;33m\u001b[0m\u001b[1;33m\u001b[0m\u001b[0m\n\u001b[0m\u001b[0;32m     16\u001b[0m         \u001b[1;32mbreak\u001b[0m\u001b[1;33m\u001b[0m\u001b[1;33m\u001b[0m\u001b[0m\n\u001b[0;32m     17\u001b[0m \u001b[0mf\u001b[0m\u001b[1;33m.\u001b[0m\u001b[0mclose\u001b[0m\u001b[1;33m(\u001b[0m\u001b[1;33m)\u001b[0m\u001b[1;33m\u001b[0m\u001b[1;33m\u001b[0m\u001b[0m\n",
      "\u001b[1;31mTypeError\u001b[0m: '<=' not supported between instances of 'str' and 'int'"
     ]
    }
   ],
   "source": [
    "f = open('C:data\\\\filetest1.txt','r')\n",
    "\n",
    "data = f.read()\n",
    "print(data)\n",
    "print(len(data))\n",
    "f.close()\n",
    "\n",
    "print('----------------------------------')\n",
    "f = open('C:data\\\\filetest1.txt','r')\n",
    "\n",
    "data = f.read()\n",
    "\n",
    "for v in data:\n",
    "    print(data)\n",
    "    if v <= 0:\n",
    "        break\n",
    "f.close()"
   ]
  },
  {
   "cell_type": "code",
   "execution_count": 16,
   "metadata": {},
   "outputs": [],
   "source": [
    "f = open(\"data\\\\filetest2.txt\",\"w\")\n",
    "\n",
    "f.write('이름: 홍길동,')\n",
    "f.write('전화: 010,')\n",
    "f.write('주소: 영통')\n",
    "\n",
    "f.close()"
   ]
  },
  {
   "cell_type": "code",
   "execution_count": 17,
   "metadata": {},
   "outputs": [],
   "source": [
    "f = open(\"data\\\\filetest2.txt\",\"a\")\n",
    "\n",
    "f.write('이름: 홍길동2,')\n",
    "f.write('전화: 010,')\n",
    "f.write('주소: 영통')\n",
    "\n",
    "f.close()"
   ]
  },
  {
   "cell_type": "code",
   "execution_count": 25,
   "metadata": {},
   "outputs": [],
   "source": [
    "# csv 형식으로 데이터 저장\n",
    "\n",
    "num = [1,2,3,4,5,6]\n",
    "\n",
    "f = open(\"data\\\\filetest3.txt\",\"a\")\n",
    "f.write(num)\n",
    "\n",
    "f.close()"
   ]
  },
  {
   "cell_type": "code",
   "execution_count": 33,
   "metadata": {},
   "outputs": [],
   "source": [
    "num = [1,2,3,4,5,6]\n",
    "\n",
    "f = open(\"data\\\\filetest3.txt\",\"w\")\n",
    "for i in range(len(num)):\n",
    "    f.write(str(num[i]) + ',')\n",
    "\n",
    "f.close()"
   ]
  },
  {
   "cell_type": "code",
   "execution_count": 34,
   "metadata": {},
   "outputs": [],
   "source": [
    "num = [1,2,3,4,5,6]\n",
    "f = open(\"data\\\\filetest3.txt\",\"w\")\n",
    "\n",
    "count = len(num)\n",
    "for i in range(count):\n",
    "    if i < count -1:\n",
    "        f.write(str(num[i])+ ',')\n",
    "    else:\n",
    "        f.write(str(num[i]))\n",
    "f.close()"
   ]
  },
  {
   "cell_type": "code",
   "execution_count": 42,
   "metadata": {},
   "outputs": [
    {
     "name": "stdout",
     "output_type": "stream",
     "text": [
      "1,2,3,4,5,6\n"
     ]
    }
   ],
   "source": [
    "num = [1,2,3,4,5,6]\n",
    "f_str = ','.join([str(i) for i in num])\n",
    "print(f_str)"
   ]
  },
  {
   "cell_type": "code",
   "execution_count": 8,
   "metadata": {},
   "outputs": [
    {
     "name": "stdout",
     "output_type": "stream",
     "text": [
      "파일의 포인터:0\n",
      "abcdefgh\n",
      "\n",
      "파일의 포인터:10\n",
      "파일의 포인터:9\n"
     ]
    }
   ],
   "source": [
    "# 임의 접근 : seek(이동할 위치, 기준 위치), tell()\n",
    "#기준위치 : 0(defult,파일의 시작),1(파일의 현재위치),2(파일의 끝위치)\n",
    "\n",
    "with open('C:data\\\\filetest1.txt','r') as f\n",
    "\n",
    "print('파일의 포인터:%d'%f.tell())\n",
    "print(f.readline())\n",
    "print('파일의 포인터:%d'%f.tell())\n",
    "\n",
    "f.seek(9,0)\n",
    "print('파일의 포인터:%d'%f.tell())\n",
    "\n",
    "f.close()"
   ]
  },
  {
   "cell_type": "code",
   "execution_count": 12,
   "metadata": {},
   "outputs": [
    {
     "name": "stdout",
     "output_type": "stream",
     "text": [
      "['0-markdown.ipynb', '1-변수와 자료형.ipynb', '2-제어문.ipynb', '3-함수.ipynb', '예제 연습.ipynb']\n"
     ]
    }
   ],
   "source": [
    "# 동시에 여러파일 이동\n",
    "import glob\n",
    "\n",
    "\n",
    "files = glob.glob('*')\n",
    "files = glob.glob('*.*')\n",
    "files = glob.glob('*.ipynb')\n",
    "print(files)"
   ]
  },
  {
   "cell_type": "code",
   "execution_count": null,
   "metadata": {},
   "outputs": [],
   "source": []
  },
  {
   "cell_type": "code",
   "execution_count": null,
   "metadata": {},
   "outputs": [],
   "source": []
  }
 ],
 "metadata": {
  "kernelspec": {
   "display_name": "Python 3",
   "language": "python",
   "name": "python3"
  },
  "language_info": {
   "codemirror_mode": {
    "name": "ipython",
    "version": 3
   },
   "file_extension": ".py",
   "mimetype": "text/x-python",
   "name": "python",
   "nbconvert_exporter": "python",
   "pygments_lexer": "ipython3",
   "version": "3.8.5"
  }
 },
 "nbformat": 4,
 "nbformat_minor": 4
}
