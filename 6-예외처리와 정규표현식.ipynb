{
 "cells": [
  {
   "cell_type": "markdown",
   "metadata": {},
   "source": [
    "## 1. 예외 처리\n",
    "\n",
    "#### (1) 예외처리를 하는 이유\n",
    "+ 자연스러운 예외 메시지를 출력\n",
    "+ 프로그램의 비정상적인 종료 방지\n",
    "\n",
    "   try :\n",
    "       코드\n",
    "        ...\n",
    "   except[예외처리 클래스[as 변수]]:\n",
    "       코드\n",
    "       ...\n",
    "       \n",
    "   [else:\n",
    "       코드 (예외가 발생하지 않았을 때 실행)\n",
    "       ...]\n",
    "       \n",
    "   [finally:\n",
    "       코드 (예외발상과 무관하게 반드시 실행)\n",
    "       ...]"
   ]
  },
  {
   "cell_type": "code",
   "execution_count": 26,
   "metadata": {},
   "outputs": [
    {
     "name": "stdout",
     "output_type": "stream",
     "text": [
      "3.3333333333333335\n",
      "인덱스 오류 list index out of range\n",
      "나머지 실행\n",
      "zero division by zero\n",
      "나머지 실행\n",
      "2.5\n",
      "인덱스 오류 list index out of range\n",
      "나머지 실행\n"
     ]
    }
   ],
   "source": [
    "def test(num):\n",
    "    try:\n",
    "        result = 10/num\n",
    "        print(result)\n",
    "        \n",
    "        arr = [1,2,3]\n",
    "        print(arr[num])\n",
    "    \n",
    "    except ZeroDivisionError as a:\n",
    "        print('zero',a)\n",
    "    except IndexError as e:\n",
    "        print('인덱스 오류',e)\n",
    "    #except (TypeError,NameError):\n",
    "       # print('타입 오류',e)\n",
    "   \n",
    "    print('나머지 실행')\n",
    "    \n",
    "####################################\n",
    "test(3)\n",
    "test(0)\n",
    "test(4)\n"
   ]
  },
  {
   "cell_type": "code",
   "execution_count": 31,
   "metadata": {},
   "outputs": [
    {
     "name": "stdout",
     "output_type": "stream",
     "text": [
      "2.0\n",
      "인덱스 오류 list index out of range\n",
      "5.0\n",
      "3\n",
      "나머지 실행\n"
     ]
    }
   ],
   "source": [
    "def test(num):\n",
    "    try:\n",
    "        result = 10/num\n",
    "        print(result)\n",
    "        \n",
    "        arr = [1,2,3]\n",
    "        print(arr[num])\n",
    "    \n",
    "    except ZeroDivisionError as a:\n",
    "        print('zero',a)\n",
    "    except IndexError as e:\n",
    "        print('인덱스 오류',e)\n",
    "    \n",
    "   \n",
    "    else :\n",
    "        print('나머지 실행')\n",
    "        \n",
    "test(5)\n",
    "test(2)"
   ]
  },
  {
   "cell_type": "code",
   "execution_count": 36,
   "metadata": {},
   "outputs": [
    {
     "name": "stdout",
     "output_type": "stream",
     "text": [
      "5.0\n",
      "3\n",
      "반드시 실행\n",
      "나머지 실행\n",
      "zero division by zero\n",
      "반드시 실행\n"
     ]
    },
    {
     "ename": "NameError",
     "evalue": "name 'sys' is not defined",
     "output_type": "error",
     "traceback": [
      "\u001b[1;31m---------------------------------------------------------------------------\u001b[0m",
      "\u001b[1;31mZeroDivisionError\u001b[0m                         Traceback (most recent call last)",
      "\u001b[1;32m<ipython-input-36-3ea1f9d4a4da>\u001b[0m in \u001b[0;36mtest\u001b[1;34m(num)\u001b[0m\n\u001b[0;32m      2\u001b[0m     \u001b[1;32mtry\u001b[0m\u001b[1;33m:\u001b[0m\u001b[1;33m\u001b[0m\u001b[1;33m\u001b[0m\u001b[0m\n\u001b[1;32m----> 3\u001b[1;33m         \u001b[0mresult\u001b[0m \u001b[1;33m=\u001b[0m \u001b[1;36m10\u001b[0m\u001b[1;33m/\u001b[0m\u001b[0mnum\u001b[0m\u001b[1;33m\u001b[0m\u001b[1;33m\u001b[0m\u001b[0m\n\u001b[0m\u001b[0;32m      4\u001b[0m         \u001b[0mprint\u001b[0m\u001b[1;33m(\u001b[0m\u001b[0mresult\u001b[0m\u001b[1;33m)\u001b[0m\u001b[1;33m\u001b[0m\u001b[1;33m\u001b[0m\u001b[0m\n",
      "\u001b[1;31mZeroDivisionError\u001b[0m: division by zero",
      "\nDuring handling of the above exception, another exception occurred:\n",
      "\u001b[1;31mNameError\u001b[0m                                 Traceback (most recent call last)",
      "\u001b[1;32m<ipython-input-36-3ea1f9d4a4da>\u001b[0m in \u001b[0;36m<module>\u001b[1;34m\u001b[0m\n\u001b[0;32m     20\u001b[0m \u001b[1;33m\u001b[0m\u001b[0m\n\u001b[0;32m     21\u001b[0m \u001b[0mtest\u001b[0m\u001b[1;33m(\u001b[0m\u001b[1;36m2\u001b[0m\u001b[1;33m)\u001b[0m\u001b[1;33m\u001b[0m\u001b[1;33m\u001b[0m\u001b[0m\n\u001b[1;32m---> 22\u001b[1;33m \u001b[0mtest\u001b[0m\u001b[1;33m(\u001b[0m\u001b[1;36m0\u001b[0m\u001b[1;33m)\u001b[0m\u001b[1;33m\u001b[0m\u001b[1;33m\u001b[0m\u001b[0m\n\u001b[0m",
      "\u001b[1;32m<ipython-input-36-3ea1f9d4a4da>\u001b[0m in \u001b[0;36mtest\u001b[1;34m(num)\u001b[0m\n\u001b[0;32m     10\u001b[0m         \u001b[0mprint\u001b[0m\u001b[1;33m(\u001b[0m\u001b[1;34m'zero'\u001b[0m\u001b[1;33m,\u001b[0m\u001b[0ma\u001b[0m\u001b[1;33m)\u001b[0m\u001b[1;33m\u001b[0m\u001b[1;33m\u001b[0m\u001b[0m\n\u001b[0;32m     11\u001b[0m \u001b[1;33m\u001b[0m\u001b[0m\n\u001b[1;32m---> 12\u001b[1;33m         \u001b[0msys\u001b[0m\u001b[1;33m.\u001b[0m\u001b[0mexit\u001b[0m\u001b[1;33m(\u001b[0m\u001b[1;33m)\u001b[0m\u001b[1;33m\u001b[0m\u001b[1;33m\u001b[0m\u001b[0m\n\u001b[0m\u001b[0;32m     13\u001b[0m     \u001b[1;32mexcept\u001b[0m \u001b[0mIndexError\u001b[0m \u001b[1;32mas\u001b[0m \u001b[0me\u001b[0m\u001b[1;33m:\u001b[0m\u001b[1;33m\u001b[0m\u001b[1;33m\u001b[0m\u001b[0m\n\u001b[0;32m     14\u001b[0m         \u001b[0mprint\u001b[0m\u001b[1;33m(\u001b[0m\u001b[1;34m'인덱스 오류'\u001b[0m\u001b[1;33m,\u001b[0m\u001b[0me\u001b[0m\u001b[1;33m)\u001b[0m\u001b[1;33m\u001b[0m\u001b[1;33m\u001b[0m\u001b[0m\n",
      "\u001b[1;31mNameError\u001b[0m: name 'sys' is not defined"
     ]
    }
   ],
   "source": [
    "def test(num):\n",
    "    try:\n",
    "        result = 10/num\n",
    "        print(result)\n",
    "        \n",
    "        arr = [1,2,3]\n",
    "        print(arr[num])\n",
    "        \n",
    "    except ZeroDivisionError as a:\n",
    "        print('zero',a)\n",
    "        \n",
    "        sys.exit()\n",
    "    except IndexError as e:\n",
    "        print('인덱스 오류',e)\n",
    "        return\n",
    "    #except (TypeError,NameError):\n",
    "       # print('타입 오류',e)\n",
    "    finally:\n",
    "        print('반드시 실행')\n",
    "    print('나머지 실행')\n",
    "    \n",
    "test(2)\n",
    "test(0)"
   ]
  },
  {
   "cell_type": "code",
   "execution_count": 40,
   "metadata": {},
   "outputs": [
    {
     "name": "stdout",
     "output_type": "stream",
     "text": [
      "erro : division by zero\n"
     ]
    },
    {
     "name": "stderr",
     "output_type": "stream",
     "text": [
      "Traceback (most recent call last):\n",
      "  File \"<ipython-input-40-914b53bbef89>\", line 6, in third\n",
      "    a = 10/0\n",
      "ZeroDivisionError: division by zero\n"
     ]
    }
   ],
   "source": [
    "# traceback\n",
    "import traceback\n",
    "\n",
    "def third():\n",
    "    try:\n",
    "        a = 10/0\n",
    "        print(a)\n",
    "    except ZeroDivisionError as e:\n",
    "        print('erro :',e)\n",
    "        traceback.print_exc()\n",
    "def second():\n",
    "    third()\n",
    "\n",
    "def first():\n",
    "    second()\n",
    "\n",
    "############################################\n",
    "first()"
   ]
  },
  {
   "cell_type": "code",
   "execution_count": 44,
   "metadata": {},
   "outputs": [
    {
     "name": "stdout",
     "output_type": "stream",
     "text": [
      "5.0\n",
      "zero: \n",
      "good?\n"
     ]
    }
   ],
   "source": [
    "# 예외를 일부러 발생 : raise\n",
    "\n",
    "def test():\n",
    "    try:\n",
    "        a = 10/2\n",
    "        print(a)\n",
    "        raise ZeroDivisionError\n",
    "        \n",
    "    except ZeroDivisionError as e:\n",
    "        print('zero:',e)\n",
    "        \n",
    "    print('good?')\n",
    "    \n",
    "#######################################\n",
    "\n",
    "test()"
   ]
  },
  {
   "cell_type": "code",
   "execution_count": 48,
   "metadata": {},
   "outputs": [
    {
     "name": "stdout",
     "output_type": "stream",
     "text": [
      "프로그램 시작\n",
      "5.0\n",
      "음수\n"
     ]
    }
   ],
   "source": [
    "# 음수로 나누었을때 예외 발생을 위한 예외 처리 클래스 작성\n",
    "\n",
    "class NegativeDiviceError(Exception):\n",
    "    pass\n",
    "\n",
    "def positiveDivide(a,b):\n",
    "    if b < 0:\n",
    "        raise NegativeDiviceError\n",
    "    return a/b\n",
    "\n",
    "def main():\n",
    "    print('프로그램 시작')\n",
    "    try:\n",
    "        result = positiveDivide(10,2)\n",
    "        print(result)\n",
    "    \n",
    "        result = positiveDivide(10,-3)\n",
    "        print(result)\n",
    "    except NegativeDiviceError as e:\n",
    "        print('음수')\n",
    "main()"
   ]
  },
  {
   "cell_type": "markdown",
   "metadata": {},
   "source": [
    "## 2. 정규 표현식"
   ]
  },
  {
   "cell_type": "markdown",
   "metadata": {},
   "source": [
    "#### (1) 반복\n",
    "\n",
    "    * : 0회 이상 반복\n",
    "        ab* : a, ab, abb,abbbb ...\n",
    "        lo*l : ll,lol,lool,loool,looooooooool...\n",
    "        \n",
    "    + : 1회 이상 반복\n",
    "        ab+ : ab,abb,abbbbbbb...\n",
    "        \n",
    "    ? : 0회 or 1회\n",
    "        ab? : a, ab\n",
    "        \n",
    "    {n} : n회 반복\n",
    "        a{3}bc : aaabc\n",
    "        \n",
    "    {m,n} : m회부터 n회까지\n",
    "        a{2,4}bc : aabc, aaabc, aaabc\n",
    "        \n",
    "### (2) 매칭\n",
    "\n",
    "    . : 줄바꿈 문자를 제외한 모든문자와 매치\n",
    "        a.b : aab, abb, acb,.....\n",
    "        \n",
    "    ^ : 문자열의 시작과 매치\n",
    "        ^a : a, ab, abcd ...\n",
    "        ^edx : edxdd, edxss, edxrt...\n",
    "        \n",
    "    $ : 문자열의 마지막과 매치\n",
    "        a$ : ccca, aaaa, dsfa...\n",
    "        \n",
    "    [] : 문자 집합 중 한문자와 매치\n",
    "        [abc]xyz : axyz, bxyz, cxyz\n",
    "        [a-z]bc : abc, bbc, ... ,zbc\n",
    "        a[.]b : a.b   ([]안에 모든 문자 가능)\n",
    "        [a^bc]hello : ahello, chello\n",
    "        [a-zA-ZO-9]hello : 특수 문자 제외한 모든 문자\n",
    "        \n",
    "#### (3) 특수 문자(\\문자)\n",
    "\n",
    "    \\d : 모든 숫자와 매치\n",
    "        ab\\d\\dc : ab12c, ab00c, ab45c ....\n",
    "        \n",
    "    \\D : 숫자가 아닌 문자와 매치\n",
    "    \n",
    "    \\s : 공백문자와 매치\n",
    "    \n",
    "    \\S : 공백 제외 나머지와 매치\n",
    "    \n",
    "    \\w : 숫자 또는 문자와 매치\n",
    "    \n",
    "    \\W : 숫자 또는 문자 제외 모든 문자와 매치\n",
    "    \n",
    "#### (4) 파이썬에서 제공하는 객체 또는 메서드\n",
    "\n",
    "    - compile() : 정규표현식의 객체를 생성해주는 객체\n",
    "    - match() : 문자열에 처음부터 정규식과 매치되는지 조사\n",
    "    - search() : 문자열 전체를 조사하여 정규식과 매치되는지 조사  \n",
    "    - findall() : 정규식과 매치되는 모든 문자열을 리스트 형태로 리턴\n",
    "    - fibditer() : 정규식과 매치되는 모든 문자열을 반복 가능한 객체로 리턴\n",
    "    - split() : 문자열 분리\n",
    "    - sub() : 변경(교체)\n",
    "        sub('패턴','바꿀 문자열','문자열',[바꿀횟수])\n",
    "    ..."
   ]
  },
  {
   "cell_type": "code",
   "execution_count": 1,
   "metadata": {},
   "outputs": [],
   "source": [
    "import re"
   ]
  },
  {
   "cell_type": "code",
   "execution_count": 14,
   "metadata": {},
   "outputs": [
    {
     "name": "stdout",
     "output_type": "stream",
     "text": [
      "True\n",
      "<re.Match object; span=(0, 4), match='35th'>\n",
      "True\n"
     ]
    }
   ],
   "source": [
    "# 객체를 생성해서 사용하는 방법\n",
    "\n",
    "p = re.compile('[0-9] [a-z]+ .+')\n",
    "print(bool(p.match('3 asda asd345')))\n",
    "\n",
    "# 바로 함수를 사용하는 방법\n",
    "re.match('[0-9]*th',\"35th is everything\")\n",
    "print(re.search('[0-9]*th',\"35th is everything 60th is too too\"))\n",
    "\n",
    "# 전화번호와 매칭되는 패턴 작성\n",
    "print(bool(re.match('[0-9]{3}-[0-9]{3,4}-[0-9]{4}','010-222-2323은 내 전화번호 입니다')))\n",
    "\n"
   ]
  },
  {
   "cell_type": "code",
   "execution_count": 21,
   "metadata": {},
   "outputs": [
    {
     "name": "stdout",
     "output_type": "stream",
     "text": [
      "['life', 'is', 'too', 'short']\n",
      "life\n",
      "is\n",
      "too\n",
      "short\n"
     ]
    }
   ],
   "source": [
    "# findall 과 finditer\n",
    "\n",
    "data = 'life 3333 is 222 too 10 short'\n",
    "p = re.compile('[a-z]+')\n",
    "p.match(data)\n",
    "\n",
    "n = p.findall(data)\n",
    "print(n)\n",
    "\n",
    "m1 = p.finditer(data)\n",
    "for i in m1:\n",
    "    print(i.group())\n"
   ]
  },
  {
   "cell_type": "code",
   "execution_count": 26,
   "metadata": {},
   "outputs": [
    {
     "name": "stdout",
     "output_type": "stream",
     "text": [
      "['1', '2', '3', '4', '5', '5', '5', '6']\n",
      "['1234', '555', '6']\n",
      "['12', '34', '55']\n",
      "['123', '555']\n"
     ]
    }
   ],
   "source": [
    "data = '1234 abc 가나다 abc_555_6'\n",
    "\n",
    "print(re.findall('[0-9]',data))\n",
    "print(re.findall('[0-9]+',data))\n",
    "print(re.findall('[0-9]{2}',data))\n",
    "print(re.findall('[0-9]{2,3}',data))"
   ]
  },
  {
   "cell_type": "code",
   "execution_count": 56,
   "metadata": {},
   "outputs": [
    {
     "name": "stdout",
     "output_type": "stream",
     "text": [
      "['abc', 'abc', 'mbc']\n",
      "['abc', 'abc', 'air', 'air']\n",
      "['air']\n",
      "['1234']\n",
      "['234 abc가나다abc_555_6 mbc air air']\n"
     ]
    }
   ],
   "source": [
    "data = '1234 abc가나다abc_555_6 mbc air air'\n",
    "\n",
    "print(re.findall('.bc',data))# bc로 끝나는 세글자\n",
    "print(re.findall('a..',data))# a로 시작 세글자\n",
    "print(re.findall('air$',data))#반드시 마지막 air로 끝나는 패턴\n",
    "print(re.findall('1[0-9]+',data))#반드시 1로 시작하는 숫자들\n",
    "print(re.findall('[^1]+',data))#1을 뺸 모든 데이터\n"
   ]
  },
  {
   "cell_type": "code",
   "execution_count": 64,
   "metadata": {},
   "outputs": [
    {
     "name": "stdout",
     "output_type": "stream",
     "text": [
      "['mbc', 'kbs', 'sbs', 'ytn']\n",
      "['mbc', 'kbs', 'sbs', 'ytn']\n"
     ]
    }
   ],
   "source": [
    "# split\n",
    "\n",
    "data = 'mbc,kbs sbs:ytn'\n",
    "\n",
    "print(re.split(',|:| ', data))\n",
    "print(re.split('\\W',data))"
   ]
  },
  {
   "cell_type": "code",
   "execution_count": 79,
   "metadata": {},
   "outputs": [
    {
     "data": {
      "text/plain": [
       "'mbc,kbs,sbs,ytn'"
      ]
     },
     "execution_count": 79,
     "metadata": {},
     "output_type": "execute_result"
    }
   ],
   "source": [
    "# sub\n",
    "\n",
    "data = '1234 abc 가나다 abc_555_6'\n",
    "\n",
    "re.sub('[0-9]','8',data)\n",
    "#re.sub('\\d','8',data)\n",
    "\n",
    "# 주어진 데이터에서 구분기호를 ','로 통일\n",
    "\n",
    "data = 'mbc,kbs sbs:ytn'\n",
    "\n",
    "re.sub('\\W+',',',data)"
   ]
  },
  {
   "cell_type": "code",
   "execution_count": 84,
   "metadata": {},
   "outputs": [
    {
     "name": "stdout",
     "output_type": "stream",
     "text": [
      "<re.Match object; span=(0, 6), match='python'>\n",
      "python\n",
      "0 6\n",
      "(0, 6)\n"
     ]
    }
   ],
   "source": [
    "#match,search 객체의 매서드\n",
    "\n",
    "p = re.compile('[a-z]+')\n",
    "data = 'python 123 !? python'\n",
    "\n",
    "m = p.match(data)\n",
    "print(m)\n",
    "print(m.group())\n",
    "print(m.start(),m.end())\n",
    "print(m.span())"
   ]
  },
  {
   "cell_type": "code",
   "execution_count": 101,
   "metadata": {},
   "outputs": [
    {
     "name": "stdout",
     "output_type": "stream",
     "text": [
      "<re.Match object; span=(0, 3), match='axb'>\n",
      "<re.Match object; span=(0, 3), match='axb'>\n",
      "<re.Match object; span=(0, 3), match='a\\nb'>\n",
      "<re.Match object; span=(0, 1), match='p'>\n",
      "<re.Match object; span=(0, 1), match='P'>\n",
      "['python', 'python', 'python', 'Python']\n"
     ]
    }
   ],
   "source": [
    "# 컴파일 옵션 : S(or DOTAL), I(or IGNORECASE),M(or MULTLINE)\n",
    "\n",
    "p = re.compile('a.b',re.S)\n",
    "\n",
    "m1 = p.match('axb is bla bla bla~~~')\n",
    "print(m1)\n",
    "\n",
    "m2 = p.match('axb is bla bla bla~~~')\n",
    "print(m2)\n",
    "\n",
    "m3 = p.match('a\\nb is bla bla bla~~~')\n",
    "print(m3)\n",
    "\n",
    "p = re.compile('[a-z]',re.I)\n",
    "\n",
    "print(p.match('python'))\n",
    "print(p.match('Python'))\n",
    "\n",
    "data = '''python one \n",
    "life is too short \n",
    "python two \n",
    "you need python \n",
    "Python three'''\n",
    "\n",
    "p = re.compile('p[a-z]*',re.I)\n",
    "#p = re.compile('p.*',re.I)\n",
    "p = re.compile('[p]ython',re.M)\n",
    "print(p.findall(data))"
   ]
  },
  {
   "cell_type": "code",
   "execution_count": 102,
   "metadata": {},
   "outputs": [
    {
     "ename": "TypeError",
     "evalue": "expected string or bytes-like object",
     "output_type": "error",
     "traceback": [
      "\u001b[1;31m---------------------------------------------------------------------------\u001b[0m",
      "\u001b[1;31mTypeError\u001b[0m                                 Traceback (most recent call last)",
      "\u001b[1;32m<ipython-input-102-85e90cc863cb>\u001b[0m in \u001b[0;36m<module>\u001b[1;34m\u001b[0m\n\u001b[0;32m     10\u001b[0m \u001b[1;33m\u001b[0m\u001b[0m\n\u001b[0;32m     11\u001b[0m \u001b[0mdata\u001b[0m \u001b[1;33m=\u001b[0m \u001b[1;34m''\u001b[0m\u001b[1;33m\u001b[0m\u001b[1;33m\u001b[0m\u001b[0m\n\u001b[1;32m---> 12\u001b[1;33m \u001b[0mp\u001b[0m \u001b[1;33m=\u001b[0m \u001b[0mre\u001b[0m\u001b[1;33m.\u001b[0m\u001b[0mfindall\u001b[0m\u001b[1;33m(\u001b[0m\u001b[1;34m'\\S*[3,4]'\u001b[0m\u001b[1;33m,\u001b[0m\u001b[0mre\u001b[0m\u001b[1;33m.\u001b[0m\u001b[0mM\u001b[0m\u001b[1;33m)\u001b[0m\u001b[1;33m\u001b[0m\u001b[1;33m\u001b[0m\u001b[0m\n\u001b[0m\u001b[0;32m     13\u001b[0m \u001b[0mprint\u001b[0m\u001b[1;33m(\u001b[0m\u001b[0mp\u001b[0m\u001b[1;33m)\u001b[0m\u001b[1;33m\u001b[0m\u001b[1;33m\u001b[0m\u001b[0m\n",
      "\u001b[1;32m~\\anaconda3\\lib\\re.py\u001b[0m in \u001b[0;36mfindall\u001b[1;34m(pattern, string, flags)\u001b[0m\n\u001b[0;32m    239\u001b[0m \u001b[1;33m\u001b[0m\u001b[0m\n\u001b[0;32m    240\u001b[0m     Empty matches are included in the result.\"\"\"\n\u001b[1;32m--> 241\u001b[1;33m     \u001b[1;32mreturn\u001b[0m \u001b[0m_compile\u001b[0m\u001b[1;33m(\u001b[0m\u001b[0mpattern\u001b[0m\u001b[1;33m,\u001b[0m \u001b[0mflags\u001b[0m\u001b[1;33m)\u001b[0m\u001b[1;33m.\u001b[0m\u001b[0mfindall\u001b[0m\u001b[1;33m(\u001b[0m\u001b[0mstring\u001b[0m\u001b[1;33m)\u001b[0m\u001b[1;33m\u001b[0m\u001b[1;33m\u001b[0m\u001b[0m\n\u001b[0m\u001b[0;32m    242\u001b[0m \u001b[1;33m\u001b[0m\u001b[0m\n\u001b[0;32m    243\u001b[0m \u001b[1;32mdef\u001b[0m \u001b[0mfinditer\u001b[0m\u001b[1;33m(\u001b[0m\u001b[0mpattern\u001b[0m\u001b[1;33m,\u001b[0m \u001b[0mstring\u001b[0m\u001b[1;33m,\u001b[0m \u001b[0mflags\u001b[0m\u001b[1;33m=\u001b[0m\u001b[1;36m0\u001b[0m\u001b[1;33m)\u001b[0m\u001b[1;33m:\u001b[0m\u001b[1;33m\u001b[0m\u001b[1;33m\u001b[0m\u001b[0m\n",
      "\u001b[1;31mTypeError\u001b[0m: expected string or bytes-like object"
     ]
    }
   ],
   "source": [
    "data = \"\"\"\n",
    "<a href=\"abc1.html\">abc1</a>\n",
    "<a href=\"abc2.html\">abc2</a>\n",
    "<a href=\"abc3.html\">abc3</a>\n",
    "<a href=\"xyz.html\">xyz</a>\n",
    "<a href=\"pic.jpg\">pic</a>\n",
    "\"\"\"\n",
    "\n",
    "\n",
    "\n",
    "data = ''\n",
    "p = re.findall('\\S*[3,4]',re.M)\n",
    "print(p)"
   ]
  },
  {
   "cell_type": "code",
   "execution_count": null,
   "metadata": {},
   "outputs": [],
   "source": []
  }
 ],
 "metadata": {
  "kernelspec": {
   "display_name": "Python 3",
   "language": "python",
   "name": "python3"
  },
  "language_info": {
   "codemirror_mode": {
    "name": "ipython",
    "version": 3
   },
   "file_extension": ".py",
   "mimetype": "text/x-python",
   "name": "python",
   "nbconvert_exporter": "python",
   "pygments_lexer": "ipython3",
   "version": "3.8.5"
  }
 },
 "nbformat": 4,
 "nbformat_minor": 4
}
