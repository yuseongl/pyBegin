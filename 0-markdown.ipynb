{
 "cells": [
  {
   "cell_type": "markdown",
   "metadata": {},
   "source": [
    "#글자크기\n",
    "## 글자크기   \n",
    "# 글자 크기\n",
    "안녕\n"
   ]
  },
  {
   "cell_type": "markdown",
   "metadata": {},
   "source": [
    "---\n",
    ">여기서부터 문장 시작입니다.\n",
    ">>ㅋㅋㅋㅋ"
   ]
  },
  {
   "cell_type": "markdown",
   "metadata": {},
   "source": [
    "---\n",
    "과일의 종류\n",
    "\n",
    "1. 사과\n",
    "2. 배\n",
    "3. 포도\n",
    "\n",
    "좋아하는 색상\n",
    "* 빨강 \n",
    "* 노랑 \n",
    "- 파랑\n",
    "\n",
    "지역\n",
    "* 서울\n",
    "    - 강남구\n",
    "    - 강북구\n",
    "* 경기\n",
    "\n",
    "*이테릭체*\n",
    "<br> **볼드체** <br>\n",
    "~~관통선~~"
   ]
  },
  {
   "cell_type": "markdown",
   "metadata": {},
   "source": [
    "[네이버](http://www.naver.com)"
   ]
  },
  {
   "cell_type": "markdown",
   "metadata": {},
   "source": [
    "내가 붙인 이미지:\n",
    "\n",
    "![이미지](images/images.jfif)"
   ]
  },
  {
   "cell_type": "code",
   "execution_count": null,
   "metadata": {},
   "outputs": [],
   "source": []
  }
 ],
 "metadata": {
  "kernelspec": {
   "display_name": "Python 3",
   "language": "python",
   "name": "python3"
  },
  "language_info": {
   "codemirror_mode": {
    "name": "ipython",
    "version": 3
   },
   "file_extension": ".py",
   "mimetype": "text/x-python",
   "name": "python",
   "nbconvert_exporter": "python",
   "pygments_lexer": "ipython3",
   "version": "3.8.5"
  }
 },
 "nbformat": 4,
 "nbformat_minor": 4
}
