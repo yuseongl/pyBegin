{
 "cells": [
  {
   "cell_type": "code",
   "execution_count": 3,
   "metadata": {},
   "outputs": [
    {
     "name": "stdout",
     "output_type": "stream",
     "text": [
      "\"\\n은 엔터키 기능이다.\"\n"
     ]
    }
   ],
   "source": [
    "print(\"\\\"\\\\n은 엔터키 기능이다.\\\"\")"
   ]
  },
  {
   "cell_type": "code",
   "execution_count": 20,
   "metadata": {
    "scrolled": true
   },
   "outputs": [
    {
     "name": "stdout",
     "output_type": "stream",
     "text": [
      " Life \n",
      " too \n",
      " too short, You need python \n",
      " ho \n",
      "\n"
     ]
    }
   ],
   "source": [
    "a = \"Life is too short, You need python\"\n",
    "b = a.split()\n",
    "print('',b[0],'\\n',b[2],'\\n',a[8:],'\\n',a[-3:-1],'\\n')"
   ]
  },
  {
   "cell_type": "code",
   "execution_count": 21,
   "metadata": {},
   "outputs": [
    {
     "name": "stdout",
     "output_type": "stream",
     "text": [
      "{'name': '홍길동', 'phone': '111-1111', 'age': 25, 'address': '서울시 강남구'}\n"
     ]
    }
   ],
   "source": [
    "data = {\"name\" : \"홍길동\", \"phone\" : \"111-1111\", \"age\" : 25}\n",
    "data['address'] = '서울시 강남구'\n",
    "print(data)\n"
   ]
  },
  {
   "cell_type": "code",
   "execution_count": 57,
   "metadata": {},
   "outputs": [
    {
     "name": "stdout",
     "output_type": "stream",
     "text": [
      "[1, 2, 3, 4, 6]\n"
     ]
    }
   ],
   "source": [
    "data = [1, 2, 3, 2, 4, 6, 3, 2]\n",
    "data = set(data)\n",
    "\n",
    "print(data)\n"
   ]
  },
  {
   "cell_type": "code",
   "execution_count": 1,
   "metadata": {},
   "outputs": [
    {
     "name": "stdout",
     "output_type": "stream",
     "text": [
      "교환할 돈은 얼마입니까?2763\n",
      "결과:\n",
      "오백원짜리===> 5\n",
      "백원짜리===> 2\n",
      "오십원짜리===> 1\n",
      "십원짜리===> 1\n",
      "나머지 바꾸지 못한 잔돈: 3\n"
     ]
    }
   ],
   "source": [
    "coin = int(input('교환할 돈은 얼마입니까?'))\n",
    "\n",
    "print('결과:')\n",
    "won500 = coin // 500\n",
    "rest = coin % 500\n",
    "won100 = rest // 100\n",
    "rest = rest % 100\n",
    "won50 =  rest // 50\n",
    "rest = rest % 50\n",
    "won10 = rest // 10\n",
    "rest = rest % 10\n",
    "\n",
    "print('오백원짜리===>',won500)\n",
    "print('백원짜리===>',won100)\n",
    "print('오십원짜리===>',won50)\n",
    "print('십원짜리===>',won10)\n",
    "\n",
    "print('나머지 바꾸지 못한 잔돈:',rest)\n"
   ]
  },
  {
   "cell_type": "code",
   "execution_count": 3,
   "metadata": {},
   "outputs": [
    {
     "name": "stdout",
     "output_type": "stream",
     "text": [
      "숫자 입력:2\n",
      "숫자 입력:4\n",
      "숫자 입력:5\n",
      "숫자 입력:7\n",
      "숫자 입력:46\n",
      "숫자 입력:4564\n",
      "숫자 입력:0\n",
      "홀수의 합:12 짝수의 합:4616\n"
     ]
    }
   ],
   "source": [
    "even = 0\n",
    "odd = 0\n",
    "\n",
    "while True:\n",
    "    num = int(input('숫자 입력:'))\n",
    "    if num == 0:\n",
    "        print('홀수의 합:{} 짝수의 합:{}'.format(odd,even))\n",
    "        break\n",
    "    elif num % 2 == 0:\n",
    "        even += num\n",
    "    else:\n",
    "        odd += num\n"
   ]
  },
  {
   "cell_type": "code",
   "execution_count": 21,
   "metadata": {},
   "outputs": [
    {
     "name": "stdout",
     "output_type": "stream",
     "text": [
      "10.0\n",
      "5.0\n",
      "0으로 나누면 안됩니다.\n"
     ]
    }
   ],
   "source": [
    "def test(num):\n",
    "    try:        \n",
    "        a = 10/num\n",
    "        print(a)\n",
    "        \n",
    "    except:\n",
    "        print('0으로 나누면 안됩니다.')\n",
    "        return\n",
    "\n",
    "        \n",
    "test(1)\n",
    "test(2)\n",
    "test(0)"
   ]
  },
  {
   "cell_type": "code",
   "execution_count": 9,
   "metadata": {},
   "outputs": [
    {
     "name": "stdout",
     "output_type": "stream",
     "text": [
      "1.0\n"
     ]
    }
   ],
   "source": [
    "def test(num):\n",
    "    a = 10/num\n",
    "    print(a)\n",
    "\n",
    "test(10)"
   ]
  },
  {
   "cell_type": "code",
   "execution_count": 2,
   "metadata": {},
   "outputs": [
    {
     "name": "stdout",
     "output_type": "stream",
     "text": [
      "지불할 금액 :3000\n",
      "남은 커피의 양은 2잔 입니다.\n",
      "지불할 금액 :3000\n",
      "남은 커피의 양은 1잔 입니다.\n",
      "지불할 금액 :3\n",
      "금액이 부족합니다\n",
      "지불할 금액 :3000\n",
      "남은 커피의 양은 0잔 입니다.\n",
      "커피가 없어요~~.장사 끝!!!\n"
     ]
    }
   ],
   "source": [
    "count = 3\n",
    "while True:  \n",
    "    coin = int(input('지불할 금액 :'))\n",
    "    if coin >= 3000:\n",
    "        count -= 1\n",
    "        print('남은 커피의 양은 {}잔 입니다.'.format(count))\n",
    "        if count == 0:\n",
    "            print('커피가 없어요~~.장사 끝!!!')\n",
    "            break\n",
    "    elif coin < 3000:\n",
    "        print('금액이 부족합니다')"
   ]
  },
  {
   "cell_type": "code",
   "execution_count": 6,
   "metadata": {},
   "outputs": [],
   "source": [
    "class person:\n",
    "    def info(self):\n",
    "        print('사번:',self.nation)\n",
    "        print('이름:',self.name)\n",
    "        print('급여:',self.age)\n",
    "        print('취미:',self.height)\n",
    "        "
   ]
  },
  {
   "cell_type": "code",
   "execution_count": 19,
   "metadata": {},
   "outputs": [
    {
     "name": "stdout",
     "output_type": "stream",
     "text": [
      "사번 :  1111\n",
      "이름 :  홍길동\n",
      "급여 :  1000000\n",
      "취미 :  ['여행', '낚시', '운동']\n",
      "사번 :  1112\n",
      "이름 :  임꺽정\n",
      "급여 :  1200000\n",
      "취미 :  ['자전거', '볼링']\n",
      "사번 :  1113\n",
      "이름 :  신돌석\n",
      "급여 :  1200000\n",
      "취미 :  ['독서']\n",
      "총 인원수 :  3\n",
      "사번 :  1113\n",
      "이름 :  신돌석\n",
      "급여 :  2500000\n",
      "취미 :  ['독서', '피아노', '드론']\n"
     ]
    }
   ],
   "source": [
    "\n",
    "class Employee:\n",
    "    pnum = int()\n",
    "    name = str()\n",
    "    pay = int()\n",
    "    hobby = []\n",
    "    total = 0\n",
    "    \n",
    "    def __init__(self,pnum,name,pay,hobby):\n",
    "        Employee.total += 1\n",
    "        \n",
    "        self.pnum = pnum\n",
    "        self.name = name\n",
    "        self.pay = pay\n",
    "        self.hobby = hobby\n",
    "      \n",
    "    @classmethod\n",
    "    def getCount(cls):\n",
    "        print(\"총 인원수 : \",Employee.total)\n",
    "\n",
    "    def setSalary(self,pay):\n",
    "        self.pay = pay\n",
    "    \n",
    "    def appendHobby(self,hobby):\n",
    "        self.hobby += (hobby)\n",
    "        \n",
    "    def display(self):\n",
    "        print(\"사번 : \",self.pnum)\n",
    "        print(\"이름 : \",self.name)\n",
    "        print(\"급여 : \",self.pay)\n",
    "        print(\"취미 : \",self.hobby)\n",
    "        \n",
    "e1 = Employee(1111,\"홍길동\",1000000,[\"여행\",\"낚시\",\"운동\"])\n",
    "e2 = Employee(1112,\"임꺽정\",1200000,[\"자전거\",\"볼링\"])\n",
    "e3 = Employee(1113,\"신돌석\",1200000,[\"독서\"])\n",
    "\n",
    "e1.display()\n",
    "e2.display()\n",
    "e3.display()\n",
    "        \n",
    "total = Employee.getCount()\n",
    "\n",
    "e3.setSalary(2500000)\n",
    "e3.appendHobby([\"피아노\",\"드론\"])\n",
    "e3.display()\n"
   ]
  },
  {
   "cell_type": "code",
   "execution_count": null,
   "metadata": {},
   "outputs": [],
   "source": []
  }
 ],
 "metadata": {
  "kernelspec": {
   "display_name": "Python 3",
   "language": "python",
   "name": "python3"
  },
  "language_info": {
   "codemirror_mode": {
    "name": "ipython",
    "version": 3
   },
   "file_extension": ".py",
   "mimetype": "text/x-python",
   "name": "python",
   "nbconvert_exporter": "python",
   "pygments_lexer": "ipython3",
   "version": "3.8.5"
  }
 },
 "nbformat": 4,
 "nbformat_minor": 4
}
