{
 "cells": [
  {
   "cell_type": "markdown",
   "metadata": {},
   "source": [
    "### 1. 정의 \n",
    "\n",
    "+ 비슷하거나 관련된 일을 하는 함수, 클래스, 상수값들을 모아서 추후에 재사용하기 위한 목적이다\n",
    "+ 상수 함수 클래스 등을 모아놓은 파일 : .py\n",
    "\n",
    "### 2. 종류\n",
    "\n",
    "+ 표준 모듈\n",
    "+ 사용자 정의 모듈\n",
    "+ 서드 파티 모듈\n",
    "\n",
    "### 3. 선언 방법\n",
    "\n",
    "+ import 모듈\n",
    "+ import 모듈 as 별칭\n",
    "+ from 모듈 import 상수,함수,클래스\n",
    "+ from 모듈 import*\n",
    "+ from 모듈 import 이름 as 별칭\n",
    "\n",
    "\n",
    "### 4. 참조\n",
    "\n",
    "+ 같은 경로\n",
    "+ 기존 모듈 경로에 추가 : 아나콘다의 경우 Lib/site-package\n",
    "+ sys모듈을 이용해서 path 경로 추가\n",
    "    -sys.path.append('경로')\n",
    "+ window의 환경변수 pythonpath 추가\n",
    "\n",
    "### 5. 패키지\n",
    "+ 여러 모듈을 모아놓은 폴더"
   ]
  }
 ],
 "metadata": {
  "kernelspec": {
   "display_name": "Python 3",
   "language": "python",
   "name": "python3"
  },
  "language_info": {
   "codemirror_mode": {
    "name": "ipython",
    "version": 3
   },
   "file_extension": ".py",
   "mimetype": "text/x-python",
   "name": "python",
   "nbconvert_exporter": "python",
   "pygments_lexer": "ipython3",
   "version": "3.8.5"
  }
 },
 "nbformat": 4,
 "nbformat_minor": 4
}
