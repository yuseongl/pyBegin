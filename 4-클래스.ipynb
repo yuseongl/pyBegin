{
 "cells": [
  {
   "cell_type": "markdown",
   "metadata": {},
   "source": [
    "### 1. 특징\n",
    "\n",
    "+ 묶음(block)\n",
    "    - 변수(멤버 변수, 속성, 필드), 함수(멤버 함수,메서드)\n",
    "    - 여러 함수를 묶어서 좀 더 큰 단위의 모듈로 관리\n",
    "    \n",
    "+ 설계도(추상적)\n",
    "    - 인스턴트(instance), 객체(object)\n",
    "    \n",
    "+ 사용자 정의 자료형을 만들 수 있는 도구\n",
    "\n",
    "+ 객체의 조건\n",
    "    - 상속성\n",
    "    - 다형성\n",
    "    - 캡슐화\n",
    "    \n",
    "+ 객체설계 5원칙 : solid"
   ]
  },
  {
   "cell_type": "markdown",
   "metadata": {},
   "source": [
    "---\n",
    "### 2. 클래스 작성 방법\n",
    "\n",
    "class 이름:\n",
    "    변수\n",
    "    함수\n",
    "    \n",
    "또는 \n",
    "\n",
    "class 이름(...):\n",
    "    변수 \n",
    "    함수"
   ]
  },
  {
   "cell_type": "code",
   "execution_count": null,
   "metadata": {},
   "outputs": [],
   "source": [
    "class Test:\n",
    "    a = 10\n",
    "    \n",
    "    def show(self):\n",
    "        print('test 클래스')\n",
    "        \n",
    "####################################\n",
    "\n",
    "car().a"
   ]
  },
  {
   "cell_type": "code",
   "execution_count": null,
   "metadata": {},
   "outputs": [],
   "source": [
    "class man:\n",
    "    b = 1\n",
    "    \n",
    "    def end(self):\n",
    "        print('EHd')\n",
    "man().b"
   ]
  },
  {
   "cell_type": "code",
   "execution_count": 1,
   "metadata": {},
   "outputs": [
    {
     "name": "stdout",
     "output_type": "stream",
     "text": [
      "국적: 미국\n",
      "이름: lee yu seong\n",
      "나이: 0\n",
      "신장: 175\n",
      "취미: []\n",
      "취미: []\n"
     ]
    }
   ],
   "source": [
    " ### 사용자 정의 자료형\n",
    "# 국적 이름 나이 신장 취미\n",
    "\n",
    "class Person:\n",
    "    nation = '한국'\n",
    "    name = str()\n",
    "    age = int()\n",
    "    height = float()\n",
    "    hobby = []\n",
    "    \n",
    "    def show(self):\n",
    "        print('국적:',self.nation)\n",
    "        print('이름:',self.name)\n",
    "        print('나이:',self.age)\n",
    "        print('신장:',self.height)\n",
    "        print('취미:',self.hobby)\n",
    "        print('취미:',self.hobby)\n",
    "        \n",
    "p1 = Person()\n",
    "p2 = Person()\n",
    "p3 = Person()\n",
    "\n",
    "p1.nation = '미국'\n",
    "p1.name = 'lee yu seong'\n",
    "p1.height = 175\n",
    "p1.show()"
   ]
  },
  {
   "cell_type": "markdown",
   "metadata": {},
   "source": [
    "---\n",
    "### 3. 클래스 작성 문법\n",
    "\n",
    "+ self\n",
    "    - 현재 사용중인 객체의 주소를 저장하고 있는 참조 변수\n",
    "    - 읽기 전용"
   ]
  },
  {
   "cell_type": "code",
   "execution_count": 2,
   "metadata": {},
   "outputs": [],
   "source": [
    "class test:\n",
    "    a = int()\n",
    "    b = float()\n",
    "    c = str()\n",
    "    \n",
    "    def show(self):\n",
    "        print(self.a,self.b,self.c)\n",
    "        \n",
    "    def setvalue(self,a,b,c):\n",
    "        \n",
    "        self.a = a\n",
    "        self.b = b\n",
    "        self.c = c"
   ]
  },
  {
   "cell_type": "code",
   "execution_count": 3,
   "metadata": {},
   "outputs": [
    {
     "name": "stdout",
     "output_type": "stream",
     "text": [
      "10 3.24 ddd\n"
     ]
    }
   ],
   "source": [
    "t1 = test()\n",
    "t2 = test()\n",
    "t3 = test()\n",
    "\n",
    "t1.setvalue(10,3.24,'ddd')\n",
    "\n",
    "t1.show()"
   ]
  },
  {
   "cell_type": "markdown",
   "metadata": {},
   "source": [
    "---\n",
    "+ 생성자(Constructor) 메서드 와 소멸자(메서드)\n",
    "    - 객체를 생성하는 용도\n",
    "    - 객체를 처음 만들 때 호출된다.(단한번만 호출)\n",
    "    - 초기화"
   ]
  },
  {
   "cell_type": "code",
   "execution_count": null,
   "metadata": {},
   "outputs": [],
   "source": [
    "class Test:\n",
    "    a = int()\n",
    "    b = str()\n",
    "    \n",
    "    def __init__(self,x=0,y=None):\n",
    "        print('dsds')\n",
    "        self.a = x\n",
    "        self.b = y\n",
    "        \n",
    "    def setValue(self,x,y):\n",
    "        self.a = x\n",
    "        self.b = y\n",
    "        \n",
    "    def __del__(self):\n",
    "        print('종료')\n",
    "        \n",
    "class Test2:\n",
    "    pass"
   ]
  },
  {
   "cell_type": "code",
   "execution_count": 4,
   "metadata": {},
   "outputs": [
    {
     "ename": "NameError",
     "evalue": "name 'Test' is not defined",
     "output_type": "error",
     "traceback": [
      "\u001b[1;31m---------------------------------------------------------------------------\u001b[0m",
      "\u001b[1;31mNameError\u001b[0m                                 Traceback (most recent call last)",
      "\u001b[1;32m<ipython-input-4-9f36e035391a>\u001b[0m in \u001b[0;36m<module>\u001b[1;34m\u001b[0m\n\u001b[1;32m----> 1\u001b[1;33m \u001b[0mt\u001b[0m \u001b[1;33m=\u001b[0m \u001b[0mTest\u001b[0m\u001b[1;33m(\u001b[0m\u001b[1;33m)\u001b[0m\u001b[1;33m\u001b[0m\u001b[1;33m\u001b[0m\u001b[0m\n\u001b[0m\u001b[0;32m      2\u001b[0m \u001b[0mprint\u001b[0m\u001b[1;33m(\u001b[0m\u001b[0mt\u001b[0m\u001b[1;33m.\u001b[0m\u001b[0ma\u001b[0m\u001b[1;33m,\u001b[0m\u001b[0mt\u001b[0m\u001b[1;33m.\u001b[0m\u001b[0mb\u001b[0m\u001b[1;33m)\u001b[0m\u001b[1;33m\u001b[0m\u001b[1;33m\u001b[0m\u001b[0m\n\u001b[0;32m      3\u001b[0m \u001b[1;33m\u001b[0m\u001b[0m\n\u001b[0;32m      4\u001b[0m \u001b[0mt\u001b[0m\u001b[1;33m.\u001b[0m\u001b[0msetValue\u001b[0m\u001b[1;33m(\u001b[0m\u001b[1;36m20\u001b[0m\u001b[1;33m,\u001b[0m\u001b[1;34m'bbb'\u001b[0m\u001b[1;33m)\u001b[0m\u001b[1;33m\u001b[0m\u001b[1;33m\u001b[0m\u001b[0m\n\u001b[0;32m      5\u001b[0m \u001b[0mprint\u001b[0m\u001b[1;33m(\u001b[0m\u001b[0mt\u001b[0m\u001b[1;33m.\u001b[0m\u001b[0ma\u001b[0m\u001b[1;33m,\u001b[0m\u001b[0mt\u001b[0m\u001b[1;33m.\u001b[0m\u001b[0mb\u001b[0m\u001b[1;33m)\u001b[0m\u001b[1;33m\u001b[0m\u001b[1;33m\u001b[0m\u001b[0m\n",
      "\u001b[1;31mNameError\u001b[0m: name 'Test' is not defined"
     ]
    }
   ],
   "source": [
    "t = Test()\n",
    "print(t.a,t.b)\n",
    "\n",
    "t.setValue(20,'bbb')\n",
    "print(t.a,t.b)\n",
    "\n",
    "t1 = Test()\n",
    "print(t1.a,t1.b)\n",
    "\n",
    "t2 = Test(30)\n",
    "print(t2.a,t2.b)\n",
    "\n",
    "t3 = Test('dldbtj')\n",
    "print(t3.a,t3.b)\n",
    "\n"
   ]
  },
  {
   "cell_type": "code",
   "execution_count": null,
   "metadata": {},
   "outputs": [],
   "source": [
    "ob1 = Test()\n",
    "ob2 = Test2()\n",
    "\n",
    "print(type(ob1),type(ob2))\n",
    "print(isinstance(ob2,Test))\n"
   ]
  },
  {
   "cell_type": "code",
   "execution_count": null,
   "metadata": {},
   "outputs": [],
   "source": [
    "---\n",
    "+ 정적 메서드 <--> 인스턴스 메서드\n",
    "    - 정적(클래스)변수, 정적 메서드\n",
    "    - 동일 공간의 모든 객체들이 공동사용\n",
    "    "
   ]
  },
  {
   "cell_type": "code",
   "execution_count": 49,
   "metadata": {},
   "outputs": [],
   "source": [
    "class Person:\n",
    "    nation = '미국'\n",
    "    name = str()\n",
    "    age = int()\n",
    "    height = float()\n",
    "    hobby = []\n",
    "    tell = []\n",
    "    \n",
    "    def show(self):\n",
    "        print('국적:',self.nation)\n",
    "        print('이름:',self.name)\n",
    "        print('나이:',self.age)\n",
    "        print('신장:',self.height)\n",
    "        print('취미:',self.hobby)\n",
    "        print('취미:',self.hobby)\n",
    "        print('번호:',self.tell)\n",
    "        print('===============================')\n",
    "    \n",
    "    @staticmethod    \n",
    "    def tel(num = '01088888888'):\n",
    "        Person.tell.append(num)\n",
    "        return '대표번호' + Person.tell(0)"
   ]
  },
  {
   "cell_type": "code",
   "execution_count": 50,
   "metadata": {},
   "outputs": [
    {
     "name": "stdout",
     "output_type": "stream",
     "text": [
      "미국 미국\n",
      "aaa 한국\n",
      "aaa\n"
     ]
    }
   ],
   "source": [
    "p1 = Person()\n",
    "p2 = Person()\n",
    "\n",
    "print(p1.nation, p2.nation)\n",
    "\n",
    "p2.nation = '한국'\n",
    "Person.nation = 'aaa'\n",
    "\n",
    "print(p1.nation, p2.nation)\n",
    "print(Person.nation)"
   ]
  },
  {
   "cell_type": "code",
   "execution_count": 51,
   "metadata": {},
   "outputs": [
    {
     "ename": "TypeError",
     "evalue": "'list' object is not callable",
     "output_type": "error",
     "traceback": [
      "\u001b[1;31m---------------------------------------------------------------------------\u001b[0m",
      "\u001b[1;31mTypeError\u001b[0m                                 Traceback (most recent call last)",
      "\u001b[1;32m<ipython-input-51-13188f5ddecf>\u001b[0m in \u001b[0;36m<module>\u001b[1;34m\u001b[0m\n\u001b[1;32m----> 1\u001b[1;33m \u001b[0mprint\u001b[0m\u001b[1;33m(\u001b[0m\u001b[0mPerson\u001b[0m\u001b[1;33m.\u001b[0m\u001b[0mtel\u001b[0m\u001b[1;33m(\u001b[0m\u001b[1;33m)\u001b[0m\u001b[1;33m)\u001b[0m\u001b[1;33m\u001b[0m\u001b[1;33m\u001b[0m\u001b[0m\n\u001b[0m\u001b[0;32m      2\u001b[0m \u001b[0mprint\u001b[0m\u001b[1;33m(\u001b[0m\u001b[0mp1\u001b[0m\u001b[1;33m.\u001b[0m\u001b[0mtel\u001b[0m\u001b[1;33m(\u001b[0m\u001b[1;33m)\u001b[0m\u001b[1;33m)\u001b[0m\u001b[1;33m\u001b[0m\u001b[1;33m\u001b[0m\u001b[0m\n",
      "\u001b[1;32m<ipython-input-49-091e7d5379ba>\u001b[0m in \u001b[0;36mtel\u001b[1;34m(num)\u001b[0m\n\u001b[0;32m     20\u001b[0m     \u001b[1;32mdef\u001b[0m \u001b[0mtel\u001b[0m\u001b[1;33m(\u001b[0m\u001b[0mnum\u001b[0m \u001b[1;33m=\u001b[0m \u001b[1;34m'01088888888'\u001b[0m\u001b[1;33m)\u001b[0m\u001b[1;33m:\u001b[0m\u001b[1;33m\u001b[0m\u001b[1;33m\u001b[0m\u001b[0m\n\u001b[0;32m     21\u001b[0m         \u001b[0mPerson\u001b[0m\u001b[1;33m.\u001b[0m\u001b[0mtell\u001b[0m\u001b[1;33m.\u001b[0m\u001b[0mappend\u001b[0m\u001b[1;33m(\u001b[0m\u001b[0mnum\u001b[0m\u001b[1;33m)\u001b[0m\u001b[1;33m\u001b[0m\u001b[1;33m\u001b[0m\u001b[0m\n\u001b[1;32m---> 22\u001b[1;33m         \u001b[1;32mreturn\u001b[0m \u001b[1;34m'대표번호'\u001b[0m \u001b[1;33m+\u001b[0m \u001b[0mPerson\u001b[0m\u001b[1;33m.\u001b[0m\u001b[0mtell\u001b[0m\u001b[1;33m(\u001b[0m\u001b[1;36m0\u001b[0m\u001b[1;33m)\u001b[0m\u001b[1;33m\u001b[0m\u001b[1;33m\u001b[0m\u001b[0m\n\u001b[0m",
      "\u001b[1;31mTypeError\u001b[0m: 'list' object is not callable"
     ]
    }
   ],
   "source": [
    "print(Person.tel())\n",
    "print(p1.tel())"
   ]
  },
  {
   "cell_type": "code",
   "execution_count": 63,
   "metadata": {},
   "outputs": [
    {
     "name": "stdout",
     "output_type": "stream",
     "text": [
      "객체수: 3\n",
      "객체수: 3\n"
     ]
    }
   ],
   "source": [
    "# 객체의 수를 카운터\n",
    "class Counter:\n",
    "    m_cnt = 0\n",
    "    \n",
    "    def __init__(self):\n",
    "        Counter.m_cnt += 1\n",
    "        \n",
    "        \n",
    "    def printCount():\n",
    "        print('객체수:',Counter.m_cnt)\n",
    "   \n",
    "    def printCount2(cls):\n",
    "        print('객체수:', cls.m_cnt)\n",
    "        \n",
    "    cnt1 = staticmethod(printCount)\n",
    "    cnt2 = classmethod(printCount2)\n",
    "#################################\n",
    "a,b,c = Counter(),Counter(),Counter()\n",
    "a.cnt1()\n",
    "a.cnt2()"
   ]
  },
  {
   "cell_type": "code",
   "execution_count": null,
   "metadata": {},
   "outputs": [],
   "source": [
    "---\n",
    "e1 = employee(1111, '이유성',1000000,['여행','낚시'])\n",
    "e1.display()\n",
    "\n",
    "    결과:\n",
    "        사번: 1111\n",
    "        이름: 이유성\n",
    "        급여: 1000000\n",
    "        취미: 여행, 낚시\n",
    "e2 = employee(1111, '이이',1000000,['여행','당구'])\n",
    "e2.display()\n",
    "e3 = employee(1111, '세종',1000000,['독서','낚시'])\n",
    "e3.display()\n",
    "\n",
    "total = employee.getCount()\n",
    "print('인원:', total)\n",
    "\n",
    "# 데이터 수정\n",
    "e3.setSalary(2000000)\n",
    "e3.appendHobby('피아노','드론')\n",
    "e3.display()\n",
    "\n",
    "결과:\n",
    "    사번: 1113\n",
    "    이름: 세종\n",
    "    급여:2000000\n",
    "    취미: 독서 낚시 피아노 드론\n",
    "---"
   ]
  },
  {
   "cell_type": "markdown",
   "metadata": {},
   "source": [
    "---\n",
    "### 원래 설계된 멤버변수외의 객체별로 멤버변수를 추가 할 수 있다"
   ]
  },
  {
   "cell_type": "code",
   "execution_count": 65,
   "metadata": {},
   "outputs": [
    {
     "name": "stdout",
     "output_type": "stream",
     "text": [
      "0\n"
     ]
    }
   ],
   "source": [
    "class Test:\n",
    "    a = 0 \n",
    "    \n",
    "    def display(self):\n",
    "        print(self.a)\n",
    "        \n",
    "##################################\n",
    "ob1 = Test()\n",
    "ob1.display()\n",
    "\n",
    "ob2 = Test()\n",
    "ob2.display()\n",
    "\n"
   ]
  },
  {
   "cell_type": "markdown",
   "metadata": {},
   "source": [
    "---\n",
    "+ _ 와 __\n",
    "    - 기본 인터프리터에서 사용(최근에 사용한 값을 저장 불러오기)\n",
    "    - 값을 무시 \n",
    "    - 접근권한"
   ]
  },
  {
   "cell_type": "code",
   "execution_count": 71,
   "metadata": {},
   "outputs": [
    {
     "name": "stdout",
     "output_type": "stream",
     "text": [
      "10\n"
     ]
    }
   ],
   "source": [
    "_, b, c = (10, 20, 30)\n",
    "print()"
   ]
  },
  {
   "cell_type": "code",
   "execution_count": 77,
   "metadata": {},
   "outputs": [
    {
     "name": "stdout",
     "output_type": "stream",
     "text": [
      "[20, 30, 40, 50]\n"
     ]
    }
   ],
   "source": [
    "a, _, _, _, _, b = (10,20,30,40,50,60)\n",
    "a, *_, b = (10,20,30,40,50,60)\n",
    "print(_)\n"
   ]
  },
  {
   "cell_type": "code",
   "execution_count": 84,
   "metadata": {},
   "outputs": [
    {
     "name": "stdout",
     "output_type": "stream",
     "text": [
      "안녕\n"
     ]
    }
   ],
   "source": [
    "# _와 __를 이용한 접근권한\n",
    "\n",
    "class Test:\n",
    "    str1 = '안녕'\n",
    "    _str2 = 'gpgp'\n",
    "    __str3 = 'dsds'\n",
    "    \n",
    "    def function(self):\n",
    "        print('dddd',self.str1)\n",
    "        \n",
    "    def setStr(self,str):\n",
    "        self.__str3 = str\n",
    "        \n",
    "    #def getStr(self):\n",
    "        #return self.__str3\n",
    "#############################################\n",
    "\n",
    "ob1 = Test()\n",
    "print(ob1.str1)\n",
    "#print(ob1.__str2)\n",
    "\n"
   ]
  },
  {
   "cell_type": "markdown",
   "metadata": {},
   "source": [
    "###  상속\n",
    "\n",
    "+ 상속 설계 시 고려할 점\n",
    "    + superclass(부모클래스) - subclass(자식 클래스)\n",
    "    + 부모는 모든 자식들이 다 필요로하는 것으로만 구성 \n",
    "    + 상속시 반드시 확장\n",
    "    + 중속된 기능 상속x\n",
    "    \n",
    "+ Override(재정의), Overload(중복정의)"
   ]
  },
  {
   "cell_type": "code",
   "execution_count": 93,
   "metadata": {},
   "outputs": [],
   "source": [
    "class animal:\n",
    "    def move(self):\n",
    "        print('움직인다.')\n",
    "\n",
    "class dog(animal):\n",
    "    def bark(self):\n",
    "        print('망망')\n",
    "class horse(animal):\n",
    "    def speed(self):\n",
    "        print('속도 200')"
   ]
  },
  {
   "cell_type": "code",
   "execution_count": 96,
   "metadata": {},
   "outputs": [
    {
     "name": "stdout",
     "output_type": "stream",
     "text": [
      "망망\n"
     ]
    }
   ],
   "source": [
    "d1 = dog()\n",
    "d1.bark()"
   ]
  },
  {
   "cell_type": "code",
   "execution_count": 110,
   "metadata": {},
   "outputs": [],
   "source": [
    "class calculator:\n",
    "    first = 0\n",
    "    second = 0\n",
    "    \n",
    "    def __init__(self,first = None, second = None):\n",
    "        self.first = first\n",
    "        self.second = second\n",
    "        \n",
    "    def setData(self,first = None, second = None):\n",
    "        self.first = first\n",
    "        self.second = second\n",
    "        \n",
    "    def sum(self):\n",
    "        return self.first + self.second\n",
    "    def sub(self):\n",
    "        return self.first - self.second\n",
    "    def mul(self):\n",
    "        return self.first * self.second\n",
    "    def div(self):\n",
    "        return self.first / self.second\n",
    "    \n",
    "class calculator2(calculator):\n",
    "    def pow(self):\n",
    "        return self.first ** self.second"
   ]
  },
  {
   "cell_type": "code",
   "execution_count": 112,
   "metadata": {},
   "outputs": [
    {
     "name": "stdout",
     "output_type": "stream",
     "text": [
      "30\n",
      "100000000000000000000\n"
     ]
    }
   ],
   "source": [
    "call = calculator()\n",
    "call.setData(10,20)\n",
    "print(call.sum())\n",
    "\n",
    "cal3 = calculator2(10,20)\n",
    "#cal3.pow(10,20)\n",
    "print(cal3.pow())"
   ]
  },
  {
   "cell_type": "code",
   "execution_count": 2,
   "metadata": {},
   "outputs": [
    {
     "name": "stdout",
     "output_type": "stream",
     "text": [
      "전화걸기 + 게임\n"
     ]
    }
   ],
   "source": [
    "# override 이용한 표준화 구축\n",
    "\n",
    "class phone:\n",
    "    def call(self):\n",
    "        print('전화 걸기')\n",
    "\n",
    "class folderphone(phone):\n",
    "    def call(self):\n",
    "        print('전화걸기 + 게임')\n",
    "        \n",
    "a = folderphone()\n",
    "a.call()"
   ]
  },
  {
   "cell_type": "markdown",
   "metadata": {},
   "source": [
    "---\n",
    "+ super"
   ]
  },
  {
   "cell_type": "code",
   "execution_count": 120,
   "metadata": {},
   "outputs": [
    {
     "name": "stdout",
     "output_type": "stream",
     "text": [
      "pclass\n",
      "20\n",
      "i am salaryman\n",
      "i am person\n",
      "age:20,talk:i am salaryman\n"
     ]
    }
   ],
   "source": [
    "class person:\n",
    "    say = 'i am person'\n",
    "    age = 20\n",
    "    \n",
    "    def info(self):\n",
    "        print('age:{},talk:{}'.format(self.age,self.say))\n",
    "    \n",
    "    def __init__(self):\n",
    "        print('pclass')\n",
    "        \n",
    "class employee(person):\n",
    "    say = 'i am salaryman'\n",
    "    \n",
    "    def info(self):\n",
    "        print(self.age)\n",
    "        print(self.say)\n",
    "        print(super().say)\n",
    "        super().info()\n",
    "#############################################\n",
    "e1 = employee()\n",
    "e1.info()"
   ]
  },
  {
   "cell_type": "markdown",
   "metadata": {},
   "source": [
    "---\n",
    "+ 상속에서의 staticmethod,classmethod\n",
    "    - static의 경우 상속을 해도 부모의 리소스를 먼저접근(오버라이딩 무효)\n",
    "    - class는 오버라이딩 적용"
   ]
  },
  {
   "cell_type": "code",
   "execution_count": 128,
   "metadata": {},
   "outputs": [
    {
     "name": "stdout",
     "output_type": "stream",
     "text": [
      "i am heritage\n",
      "i am heritaged\n"
     ]
    }
   ],
   "source": [
    "class Test:\n",
    "    t = 'i am heritage'\n",
    "    \n",
    "    @classmethod\n",
    "    def display(cls):\n",
    "        return cls.t\n",
    "\n",
    "class childclass(Test):\n",
    "    t = 'i am heritaged'\n",
    "    \n",
    "print(Test.display())\n",
    "print(childclass.display())"
   ]
  },
  {
   "cell_type": "markdown",
   "metadata": {},
   "source": [
    "* 다중 상속"
   ]
  },
  {
   "cell_type": "code",
   "execution_count": 131,
   "metadata": {},
   "outputs": [
    {
     "name": "stdout",
     "output_type": "stream",
     "text": [
      "call\n",
      "photo\n"
     ]
    }
   ],
   "source": [
    "class phone:\n",
    "    def call(self):\n",
    "        print('call')\n",
    "        \n",
    "class camera:\n",
    "    def picture(self):\n",
    "        print('photo')\n",
    "        \n",
    "class game:\n",
    "    def rendering(self):\n",
    "        print('drawing')\n",
    "        \n",
    "class cameraphone(phone, camera):\n",
    "    pass\n",
    "\n",
    "cp = cameraphone()\n",
    "cp.call()\n",
    "cp.picture()"
   ]
  },
  {
   "cell_type": "markdown",
   "metadata": {},
   "source": [
    "___\n",
    "+ 추상클래스와 추상메서드\n",
    "\n"
   ]
  },
  {
   "cell_type": "code",
   "execution_count": 144,
   "metadata": {},
   "outputs": [
    {
     "name": "stdout",
     "output_type": "stream",
     "text": [
      "test sound up: 30\n"
     ]
    }
   ],
   "source": [
    "import abc\n",
    "\n",
    "class volume(metaclass=abc.ABCMeta):\n",
    "    vol = 0\n",
    "    \n",
    "    @abc.abstractclassmethod\n",
    "    def volumup(self, vol):\n",
    "        pass\n",
    "    @abc.abstractclassmethod\n",
    "    def volumedown(self, vol):\n",
    "        pass\n",
    "        \n",
    "class Testvolum(volume):\n",
    "    def volumup(self, vol):\n",
    "        self.vol += vol\n",
    "        print('test sound up:',self.vol)\n",
    "        \n",
    "    def volumedown(self,vol):\n",
    "        self.vol -=vol\n",
    "        print('test sound down:',self.vol)\n",
    "        \n",
    "##############################################\n",
    "\n",
    "t = Testvolum()\n",
    "t.volumup(30)"
   ]
  },
  {
   "cell_type": "markdown",
   "metadata": {},
   "source": [
    "# 문제"
   ]
  },
  {
   "cell_type": "code",
   "execution_count": 145,
   "metadata": {},
   "outputs": [],
   "source": [
    "class Volume:\n",
    "    vol = 0\n",
    "    \n",
    "    def volumeUp(self, vol):\n",
    "        self.vol += vol\n",
    "        print(\"볼륨의 크기는 %d만큼 증가하여 현재 볼륨은 %d 입니다.\"%(vol, self.vol))\n",
    "        \n",
    "    def volumeDown(self, vol):\n",
    "        self.vol -= vol\n",
    "        print(\"볼륨의 크기는 %d만큼 감소하여 현재 볼륨은 %d 입니다.\"%(vol, self.vol))\n",
    "\n",
    "############################################################################\n",
    "\n",
    "class TV(Volume):   \n",
    "    def volumeUp(self, vol):\n",
    "        self.vol += vol\n",
    "        print(\"TV 볼륨의 크기는 %d만큼 증가하여 현재 볼륨은 %d 입니다.\"%(vol, self.vol))\n",
    "        \n",
    "    def volumeDown(self, vol):\n",
    "        self.vol -= vol\n",
    "        print(\"TV 볼륨의 크기는 %d만큼 감소하여 현재 볼륨은 %d 입니다.\"%(vol, self.vol))\n",
    "\n",
    "##############################################################################\n",
    "\n",
    "class Radio(Volume):   \n",
    "    def volumeUp(self, vol):\n",
    "        self.vol += vol\n",
    "        print(\"Radio 볼륨의 크기는 %d만큼 증가하여 현재 볼륨은 %d 입니다.\"%(vol, self.vol))\n",
    "        \n",
    "    def volumeDown(self, vol):\n",
    "        self.vol -= vol\n",
    "        print(\"Radio 볼륨의 크기는 %d만큼 감소하여 현재 볼륨은 %d 입니다.\"%(vol, self.vol))\n",
    "        \n",
    "##############\n"
   ]
  },
  {
   "cell_type": "markdown",
   "metadata": {},
   "source": [
    "\"\"\"\n",
    "1. 부모 클래스로 Power를 추가한다. : 다중 상속 구현\n",
    "    - powerOn(), powerOff()\n",
    "    \n",
    "2. 부모 클래스는 추상 클래스로 구현한다.\n",
    "\n",
    "3. 전원을 켰을 때만 볼륨 조정을 할 수 있게 한다.\n",
    "\n",
    "4. 볼륨 조정은 max값을 100으로 하고 min값을 0으로 한다.\n",
    "\n",
    "-----------------------------------------------------------\n",
    "1. TV\n",
    "2. Radio\n",
    "3. Speaker\n",
    "4. 종료\n",
    "메뉴 : 1\n",
    "\n",
    "1. 전원 \n",
    "2. 볼륨 조정\n",
    "3. 나가기\n",
    "메뉴 : 2\n",
    "\n",
    "볼륨 레벨 : 20\n",
    "현재 TV의 볼륨은 20입니다.\n",
    "...\n",
    "\n",
    "\"\"\"\n"
   ]
  },
  {
   "cell_type": "markdown",
   "metadata": {},
   "source": [
    "---\n",
    "+ object\n",
    "    - 파이썬 클래스 중에 가장 상위 클래스"
   ]
  },
  {
   "cell_type": "code",
   "execution_count": 2,
   "metadata": {},
   "outputs": [],
   "source": [
    "class Test:\n",
    "    a = 10"
   ]
  },
  {
   "cell_type": "code",
   "execution_count": 4,
   "metadata": {},
   "outputs": [
    {
     "name": "stdout",
     "output_type": "stream",
     "text": [
      "['__class__', '__delattr__', '__dict__', '__dir__', '__doc__', '__eq__', '__format__', '__ge__', '__getattribute__', '__gt__', '__hash__', '__init__', '__init_subclass__', '__le__', '__lt__', '__module__', '__ne__', '__new__', '__reduce__', '__reduce_ex__', '__repr__', '__setattr__', '__sizeof__', '__str__', '__subclasshook__', '__weakref__', 'a']\n"
     ]
    }
   ],
   "source": [
    "print(dir(Test))"
   ]
  },
  {
   "cell_type": "markdown",
   "metadata": {},
   "source": [
    "___\n",
    "+ __class__\n",
    "    클래스변수 참조하기 위한 클래스"
   ]
  },
  {
   "cell_type": "code",
   "execution_count": 10,
   "metadata": {},
   "outputs": [
    {
     "name": "stdout",
     "output_type": "stream",
     "text": [
      "파이썬 클래스\n",
      "파이썬 클래스\n",
      "파이썬 클래스\n",
      "aaaaa\n",
      "파이썬 클래스\n",
      "aaaaa\n",
      "파이썬 클래스\n",
      "파이썬 클래스\n"
     ]
    }
   ],
   "source": [
    "class Test:\n",
    "    data = '파이썬 클래스'\n",
    "    \n",
    "    def display(self):\n",
    "        print(self.data)\n",
    "        print(self.__class__.data)\n",
    "        print(Test.data)\n",
    "ob1, ob2 = Test(), Test()\n",
    "print(ob1.data)\n",
    "print(ob2.data)\n",
    "print(Test.data)\n",
    "\n",
    "ob1.data = 'aaaaa'\n",
    "print(ob1.data)\n",
    "\n",
    "print(ob1.__class__.data)\n",
    "\n",
    "ob1.display()"
   ]
  },
  {
   "cell_type": "markdown",
   "metadata": {},
   "source": [
    "___\n",
    "    __slote__\n",
    "    \n",
    "    객체별로 변수 추가 금지"
   ]
  },
  {
   "cell_type": "code",
   "execution_count": 21,
   "metadata": {},
   "outputs": [
    {
     "name": "stdout",
     "output_type": "stream",
     "text": [
      "멍멍이 2\n",
      "야옹이 3\n"
     ]
    }
   ],
   "source": [
    "class Animal:\n",
    "    #name = '동물'\n",
    "    #age = 0\n",
    "    \n",
    "    __slots__ = ['name','age']\n",
    "    \n",
    "    def display(self):\n",
    "        print(self.name,self.age)\n",
    "        \n",
    "#############################################\n",
    "\n",
    "a, b = Animal(), Animal()\n",
    "\n",
    "a.name = '멍멍이'\n",
    "a.age = 2\n",
    "\n",
    "b.name = '야옹이'\n",
    "b.age = 3\n",
    "\n",
    "a.display()\n",
    "b.display()\n",
    "\n",
    "#a.etc = '예방접종'\n",
    "#print(a.etc)"
   ]
  },
  {
   "cell_type": "markdown",
   "metadata": {},
   "source": [
    "___\n",
    "### 클래스의 관계\n",
    "\n",
    "+ is a 관계(상속관계, 일반화 관계)\n",
    "    - 특정 클래스 객체가 다른 클래스 객체에게 자신의 멤버를 물려주는 상속관계 \n",
    "    - uml에서는 비어있는 화살표로 강한 결합관계로 표현\n",
    "\n",
    "+ has a 관계(인간관계, 포함관계)\n",
    "    - 특정 클래스에서 해당 클래스의 멤버처럼 다른 클래스의 객체를 포함하고 있는 경우\n",
    "    - aggregation : 약한 관계\n",
    "    - composition : 강한 관계\n",
    "    \n",
    "+ UML"
   ]
  },
  {
   "cell_type": "code",
   "execution_count": 24,
   "metadata": {},
   "outputs": [
    {
     "name": "stdout",
     "output_type": "stream",
     "text": [
      "tom의 회전은 우10\n"
     ]
    }
   ],
   "source": [
    "# has a 관계중 강한 관계\n",
    "\n",
    "class Handle:\n",
    "    quantity = 0\n",
    "    \n",
    "    def lTurn(self,q):\n",
    "        self.quantity = q\n",
    "        return '좌'\n",
    "    \n",
    "    def rTurn(self,q):\n",
    "        self.quantity = q\n",
    "        return '우'\n",
    "    \n",
    "    def sTurn(self,q):\n",
    "        self.quantity = q\n",
    "        return '직'\n",
    "    \n",
    "###########################################\n",
    "\n",
    "class Car:\n",
    "    turnShow = '정지'\n",
    "    \n",
    "    def __init__(self,owner):\n",
    "        self.owner = owner\n",
    "        self.handle = Handle()\n",
    "        \n",
    "    def turnHandle(self, q):\n",
    "        if q > 0:\n",
    "            self.turnShow = self.handle.rTurn(q)\n",
    "        if q < 0:\n",
    "            self.turnShow = self.handle.lTurn(q)\n",
    "        if q == 0:\n",
    "            self.turnShow = self.handle.sTurn(q)\n",
    "            \n",
    "####################################################\n",
    "\n",
    "tom = Car('tom')\n",
    "tom.turnHandle(10)\n",
    "print(tom.owner + '의 회전은 ' + tom.turnShow + str(tom.handle.quantity))"
   ]
  },
  {
   "cell_type": "code",
   "execution_count": 32,
   "metadata": {},
   "outputs": [
    {
     "name": "stdout",
     "output_type": "stream",
     "text": [
      "열림\n",
      "put in frige\n",
      ", apple 2021-5-5\n",
      "\n",
      "put in frige\n",
      ", apple 2021-5-5\n",
      ", brocoly 2021-5-1\n",
      "\n",
      "close\n"
     ]
    }
   ],
   "source": [
    "# has a 관계중 약한 관계\n",
    "\n",
    "class Fridge:\n",
    "    isOpen = False\n",
    "    foods = []\n",
    "    \n",
    "    def open(self):\n",
    "        self.isOpen = True\n",
    "        print('열림')\n",
    "        \n",
    "    def close(self):\n",
    "        self.isOpen = False\n",
    "        print('close')\n",
    "        \n",
    "    def put(self,item):\n",
    "        if self.isOpen:\n",
    "            self.foods.append(item)\n",
    "            print('put in frige')\n",
    "            self.list()\n",
    "        else:\n",
    "            print('has been close the door')\n",
    "            \n",
    "    def list(self):\n",
    "        for i in self.foods:\n",
    "            print(',',i.name,i.ex_date)\n",
    "        print()\n",
    "    \n",
    "############################################\n",
    "\n",
    "class foodDate:\n",
    "    def __init__(self,name,ex_date):\n",
    "        self.name = name\n",
    "        self.ex_date = ex_date\n",
    "        \n",
    "f = Fridge()\n",
    "apple = foodDate('apple','2021-5-5')\n",
    "bro = foodDate('brocoly','2021-5-1')\n",
    "\n",
    "f.open()\n",
    "f.put(apple)\n",
    "f.put(bro)\n",
    "f.close()"
   ]
  },
  {
   "cell_type": "markdown",
   "metadata": {},
   "source": [
    "___\n",
    "### 고급 함수"
   ]
  },
  {
   "cell_type": "markdown",
   "metadata": {},
   "source": [
    "---\n",
    "### (1) 변수의 생존범위 : global, nonlocal"
   ]
  },
  {
   "cell_type": "code",
   "execution_count": 42,
   "metadata": {},
   "outputs": [
    {
     "name": "stdout",
     "output_type": "stream",
     "text": [
      "저국 대표\n"
     ]
    }
   ],
   "source": [
    "player = '저국 대표'\n",
    "\n",
    "def funcSoccer():\n",
    "    #global player\n",
    "    \n",
    "    name = 'gh'\n",
    "    player = 'ds'\n",
    " \n",
    "funcSoccer()\n",
    "print(player)"
   ]
  },
  {
   "cell_type": "code",
   "execution_count": 3,
   "metadata": {},
   "outputs": [
    {
     "name": "stdout",
     "output_type": "stream",
     "text": [
      "kbs2 함수 내부 : 1\n",
      "kbs1 함수 내부 : 1\n"
     ]
    }
   ],
   "source": [
    "#a = 100\n",
    "\n",
    "def kbs1():\n",
    "    a = 1\n",
    "    \n",
    "    def kbs2():\n",
    "        \n",
    "        nonlocal a\n",
    "        \n",
    "        print('kbs2 함수 내부 :',a)\n",
    "    kbs2()\n",
    "    print('kbs1 함수 내부 :',a)\n",
    "#############################################\n",
    "kbs1()\n",
    "#print(a)"
   ]
  },
  {
   "cell_type": "markdown",
   "metadata": {},
   "source": [
    "### (2) 클로저(closer)\n",
    "        함수 밖에서 임의의 함수 안에 선언된 지역변수를 계속 참조할 수 있게 하는 방법"
   ]
  },
  {
   "cell_type": "code",
   "execution_count": 12,
   "metadata": {},
   "outputs": [
    {
     "name": "stdout",
     "output_type": "stream",
     "text": [
      "1\n",
      "2\n"
     ]
    }
   ],
   "source": [
    "\n",
    "\n",
    "def out():\n",
    "    count = 0\n",
    "    \n",
    "    def inn():\n",
    "        nonlocal count\n",
    "        count += 1\n",
    "        print(count)\n",
    "    \n",
    "    return inn\n",
    "    \n",
    "a=out()\n",
    "a()\n",
    "a()\n"
   ]
  },
  {
   "cell_type": "code",
   "execution_count": 17,
   "metadata": {},
   "outputs": [
    {
     "name": "stdout",
     "output_type": "stream",
     "text": [
      "15.0\n"
     ]
    }
   ],
   "source": [
    "def outer(tax):\n",
    "    def inner(su,dan):\n",
    "        amount = su * dan * tax\n",
    "        return amount\n",
    "    return inner\n",
    "\n",
    "a = outer(0.1)\n",
    "b = a(5,30)\n",
    "print(b)"
   ]
  },
  {
   "cell_type": "markdown",
   "metadata": {},
   "source": [
    "___\n",
    "### (3)람다 함수(무명, 익명 함수)"
   ]
  },
  {
   "cell_type": "code",
   "execution_count": 20,
   "metadata": {},
   "outputs": [
    {
     "name": "stdout",
     "output_type": "stream",
     "text": [
      "30\n"
     ]
    }
   ],
   "source": [
    "print((lambda x ,y : x + y)(10,20))"
   ]
  },
  {
   "cell_type": "code",
   "execution_count": 35,
   "metadata": {},
   "outputs": [
    {
     "name": "stdout",
     "output_type": "stream",
     "text": [
      "1 (2, 3, 4, 5) {'n': 6, 'm': 7}\n",
      "1 (2, 3, 4, 5) {'n': 6, 'm': 7}\n"
     ]
    }
   ],
   "source": [
    "def func_test(a,*b,**c):\n",
    "    print(a,b,c)\n",
    "    \n",
    "func_test(1,2,3,4,5,n=6,m=7)\n",
    "\n",
    "(lambda a, *b, **c :print(a,b,c))(1,2,3,4,5,n = 6,m =7)"
   ]
  },
  {
   "cell_type": "code",
   "execution_count": 42,
   "metadata": {},
   "outputs": [
    {
     "name": "stdout",
     "output_type": "stream",
     "text": [
      "1\n",
      "4\n",
      "3\n",
      "16\n",
      "5\n"
     ]
    },
    {
     "data": {
      "text/plain": [
       "[1, 4, 3, 16, 5]"
      ]
     },
     "execution_count": 42,
     "metadata": {},
     "output_type": "execute_result"
    }
   ],
   "source": [
    "ex = [1,2,3,4,5]\n",
    "\n",
    "def func_test(x):\n",
    "    if x % 2 == 0:\n",
    "        return x**2\n",
    "    else:\n",
    "        return x\n",
    "    \n",
    "############################################\n",
    "result = []\n",
    "\n",
    "list(map(func_test,ex))\n",
    "for i in map(func_test,ex):\n",
    "    print(i)\n",
    "    \n",
    "list(map(lambda x : x**2 if x%2 ==0 else x, ex))"
   ]
  },
  {
   "cell_type": "markdown",
   "metadata": {},
   "source": [
    "___\n",
    "### (4) 함수 장식자(decorator)\n",
    "\n",
    "+ 일종의 함수 감싸기를 해주는 디자인 패턴\n",
    "+ 메타 프로그래밍 기법\n",
    "+ @classmethod, @staticmethod, @abstract"
   ]
  },
  {
   "cell_type": "code",
   "execution_count": 46,
   "metadata": {},
   "outputs": [
    {
     "data": {
      "text/plain": [
       "'dddqsss홀길동'"
      ]
     },
     "execution_count": 46,
     "metadata": {},
     "output_type": "execute_result"
    }
   ],
   "source": [
    "def make2(fn):\n",
    "    return lambda:'ddd' + fn()\n",
    "\n",
    "def make(fn):\n",
    "    return lambda:'qsss' + fn()\n",
    "\n",
    "@make\n",
    "def hello():\n",
    "    return '홀길동'\n",
    "#####################################\n",
    "make(hello)()\n",
    "make2(hello)()"
   ]
  },
  {
   "cell_type": "code",
   "execution_count": 17,
   "metadata": {},
   "outputs": [
    {
     "name": "stdout",
     "output_type": "stream",
     "text": [
      "결과는 30 이다\n",
      "7 12\n",
      "sk\n",
      "None\n",
      "my name is 이유성\n",
      "i,m 26 years old\n",
      "i am girl\n"
     ]
    }
   ],
   "source": [
    "def outer(fn):\n",
    "    def inner(n1, n2):\n",
    "        print('결과는 {} 이다'.format(fn(n1,n2)))\n",
    "        \n",
    "    return inner\n",
    "#@outer    \n",
    "def func(n1,n2):\n",
    "    return n1 + n2\n",
    "    \n",
    "######################################################\n",
    "\n",
    "result = outer(func)\n",
    "result(10,20)\n",
    "\n",
    "func(10,20)\n",
    "\n",
    "def add_and_mul(a,b):\n",
    "    return a + b, a*b\n",
    "\n",
    "a, b = add_and_mul(3,4)\n",
    "print(a,b)\n",
    "\n",
    "def b(a):\n",
    "    if a == \"바보\":\n",
    "        return\n",
    "    print(a)\n",
    "    \n",
    "c = b('sk')\n",
    "print(c)\n",
    "\n",
    "def me(name,age,man = True):\n",
    "    print('my name is',name)\n",
    "    print('i,m {} years old'.format(age))\n",
    "    if man == True:\n",
    "        print('i am man')\n",
    "    else:\n",
    "        print('i am girl')\n",
    "\n",
    "me('이유성', 26,False)"
   ]
  },
  {
   "cell_type": "code",
   "execution_count": null,
   "metadata": {},
   "outputs": [],
   "source": []
  }
 ],
 "metadata": {
  "kernelspec": {
   "display_name": "Python 3",
   "language": "python",
   "name": "python3"
  },
  "language_info": {
   "codemirror_mode": {
    "name": "ipython",
    "version": 3
   },
   "file_extension": ".py",
   "mimetype": "text/x-python",
   "name": "python",
   "nbconvert_exporter": "python",
   "pygments_lexer": "ipython3",
   "version": "3.8.5"
  }
 },
 "nbformat": 4,
 "nbformat_minor": 4
}
