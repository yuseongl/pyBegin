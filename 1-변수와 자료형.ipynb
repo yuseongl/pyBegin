{
 "cells": [
  {
   "cell_type": "markdown",
   "metadata": {},
   "source": [
    "## 1. 변수의 정의: 임시 기억(저장)의 공간\n",
    "\n",
    "## 2. 변수의 특징\n",
    "    - 묵시적 선언\n",
    "    - 동적 바인딩\n",
    "    - immutable"
   ]
  },
  {
   "cell_type": "code",
   "execution_count": 12,
   "metadata": {},
   "outputs": [
    {
     "name": "stdout",
     "output_type": "stream",
     "text": [
      "10\n",
      "3.14\n"
     ]
    }
   ],
   "source": [
    "a = 10\n",
    "print(a)\n",
    "\n",
    "a = 3.14\n",
    "print(a)\n"
   ]
  },
  {
   "cell_type": "markdown",
   "metadata": {},
   "source": [
    "## 3.data type\n",
    "\n",
    "* 종류 \n",
    "    1. 기본 자료형\n",
    "        * int\n",
    "        * float\n",
    "        * str(문자열)\n",
    "        * bool(논리형)\n",
    "        \n",
    "    2. 집합 자료형\n",
    "        * list\n",
    "        * tuple\n",
    "        * dict\n",
    "        * set"
   ]
  },
  {
   "cell_type": "markdown",
   "metadata": {},
   "source": [
    "---\n",
    "\n",
    "### (1) str"
   ]
  },
  {
   "cell_type": "code",
   "execution_count": 18,
   "metadata": {},
   "outputs": [
    {
     "name": "stdout",
     "output_type": "stream",
     "text": [
      "안녕하세요. \n",
      "     저는 이유성 입니다.\n",
      "     안녕히 계세요\n"
     ]
    }
   ],
   "source": [
    "#문자열 저장\n",
    "\n",
    "a = 10\n",
    "type(a)\n",
    "\n",
    "a = '11'\n",
    "type(a)\n",
    "\n",
    "a = '안녕하세요'\n",
    "\n",
    "a = \"\"\"안녕하세요. \n",
    "     저는 이유성 입니다.\n",
    "     안녕히 계세요\"\"\"\n",
    "print(a)"
   ]
  },
  {
   "cell_type": "code",
   "execution_count": 28,
   "metadata": {},
   "outputs": [
    {
     "name": "stdout",
     "output_type": "stream",
     "text": [
      "이것은 파이썬입니다. \n",
      "\n",
      "\n",
      "열심히 공부합시다\n",
      "현재 시간은 \t\t\t9시 입니다\n",
      "\t는 탭키의 역할이다\n"
     ]
    }
   ],
   "source": [
    "#### 특수문자 (제어 문자) : \\문자(escape문자)\n",
    "\n",
    "a = '이것은 파이썬입니다. \\n\\n\\n열심히 공부합시다'\n",
    "print(a)\n",
    "type(a)\n",
    "\n",
    "b = '현재 시간은 \\t\\t\\t9시 입니다'\n",
    "print(b)\n",
    "\n",
    "c = \"\\t는 탭키의 역할이다\"\n",
    "print(c)"
   ]
  },
  {
   "cell_type": "code",
   "execution_count": 33,
   "metadata": {},
   "outputs": [
    {
     "name": "stdout",
     "output_type": "stream",
     "text": [
      "9\n"
     ]
    }
   ],
   "source": [
    "# \\를 줄바꿈의 용도로 사용\n",
    "\n",
    "a = 10 + 2 - 3 \n",
    "+ 5\n",
    "print(a)"
   ]
  },
  {
   "cell_type": "code",
   "execution_count": 38,
   "metadata": {},
   "outputs": [
    {
     "name": "stdout",
     "output_type": "stream",
     "text": [
      "(' python', ' is fun', ' and great')\n",
      " python is fun and great\n"
     ]
    }
   ],
   "source": [
    "# 문자열을 연결하기\n",
    "\n",
    "a = ' python'\n",
    "b = ' is fun'\n",
    "c = ' and great'\n",
    "\n",
    "d = a, b,c\n",
    "print (d)\n",
    "\n",
    "e = a + b + c\n",
    "print(e)"
   ]
  },
  {
   "cell_type": "code",
   "execution_count": 39,
   "metadata": {},
   "outputs": [
    {
     "name": "stdout",
     "output_type": "stream",
     "text": [
      " python python python\n"
     ]
    }
   ],
   "source": [
    "# 문자열 곱하기(반복)\n",
    "print(a*3)"
   ]
  },
  {
   "cell_type": "code",
   "execution_count": 40,
   "metadata": {},
   "outputs": [
    {
     "name": "stdout",
     "output_type": "stream",
     "text": [
      "7\n"
     ]
    }
   ],
   "source": [
    "# 문자열의 길이\n",
    "print(len(a))"
   ]
  },
  {
   "cell_type": "code",
   "execution_count": 51,
   "metadata": {},
   "outputs": [
    {
     "name": "stdout",
     "output_type": "stream",
     "text": [
      "e\n",
      "o i\n",
      "n\n",
      "n\n"
     ]
    }
   ],
   "source": [
    "# 인덱싱(indexing) : 원하는 문자에 접근할 수 있는 방법 제공\n",
    "\n",
    "a = 'life is too short. you reed python'\n",
    "print(a[3])\n",
    "print(a[10],a[1])\n",
    "print(a[-1])\n",
    "print(a[len(a)-1])"
   ]
  },
  {
   "cell_type": "code",
   "execution_count": 58,
   "metadata": {},
   "outputs": [
    {
     "name": "stdout",
     "output_type": "stream",
     "text": [
      "life i\n",
      "li\n",
      "life is too short. you reed python\n",
      "you reed\n"
     ]
    }
   ],
   "source": [
    "# 슬라이싱(slicing) : [시작위치:끝위치]\n",
    "\n",
    "print(a[0:6])\n",
    "print(a[0:2])\n",
    "print(a[:])\n",
    "print(a[19:-7])"
   ]
  },
  {
   "cell_type": "code",
   "execution_count": 63,
   "metadata": {},
   "outputs": [
    {
     "name": "stdout",
     "output_type": "stream",
     "text": [
      "life is too short. you reed python\n"
     ]
    }
   ],
   "source": [
    "# step : [시작위치 :끝위치: 간격]\n",
    "\n",
    "print(a[::1])"
   ]
  },
  {
   "cell_type": "code",
   "execution_count": 74,
   "metadata": {},
   "outputs": [
    {
     "data": {
      "text/plain": [
       "'python'"
      ]
     },
     "execution_count": 74,
     "metadata": {},
     "output_type": "execute_result"
    }
   ],
   "source": [
    "# 수정불가\n",
    "\n",
    "a = 'pyton'\n",
    "# a[3] = 'y'\n",
    "\n",
    "a[:3] +'h' +a[3:]"
   ]
  },
  {
   "cell_type": "code",
   "execution_count": 15,
   "metadata": {},
   "outputs": [
    {
     "name": "stdout",
     "output_type": "stream",
     "text": [
      "이유성,토끼,다람쥐,달팽이,거북이\n",
      "18\n",
      "3\n",
      "-------------------------------------------------\n",
      "a,b,c,d,e,f,g\n",
      "-------------------------------------------------\n",
      "['이유성', '토끼', '다람쥐', '달팽이', '거북이']\n",
      "0 16\n",
      "0 16\n",
      "-------------------------------------------------\n",
      "                       python\n",
      "python\n",
      "python\n",
      "-------------------------------------------------\n",
      "hello, python!\n",
      "123사오육칠팔구\n",
      "1이3사5육칠팔구\n"
     ]
    }
   ],
   "source": [
    "### 문자열 관련 함수\n",
    "\n",
    "# count()\n",
    "str1 = '이유성,토끼,다람쥐,달팽이,거북이'\n",
    "print(str1)\n",
    "print(len(str1))\n",
    "print(str1.count('이'))\n",
    "print('-------------------------------------------------')\n",
    "\n",
    "# join()\n",
    "str2 = 'abcdefg'\n",
    "print(','.join(str2))\n",
    "print('-------------------------------------------------')\n",
    "\n",
    "# split()\n",
    "print(str1.split(','))\n",
    "\n",
    "# find(), index() : 검색용도\n",
    "print(str1.find('이'),str1.find('북'))\n",
    "print(str1.index('이'),str1.index('북'))\n",
    "      \n",
    "print('-------------------------------------------------')\n",
    "\n",
    "#lstrip(), rstrip(), strip()\n",
    "a = '                       python'\n",
    "print(a)\n",
    "print(a.strip())\n",
    "\n",
    "a = '..python'\n",
    "print(a.lstrip('.'))\n",
    "print('-------------------------------------------------')\n",
    "\n",
    "# replace(), [maketranse(), translate()]\n",
    "a = \"hello, world!\"\n",
    "print(a.replace(\"world\",\"python\"))\n",
    "\n",
    "a = '일이삼사오육칠팔구'\n",
    "print(a.replace(\"일이삼\",\"123\"))\n",
    "print(a.translate(a.maketrans(\"일삼오\",\"135\")))"
   ]
  },
  {
   "cell_type": "code",
   "execution_count": 40,
   "metadata": {},
   "outputs": [
    {
     "name": "stdout",
     "output_type": "stream",
     "text": [
      "현재 온도는 18도입니다\n",
      "현재 온도는 18도입니다.그리고 오늘의날씨는 맑음입니다.\n",
      "나눗셈의 결과 : 3 / 5 = 0.60 입니다.\n",
      "나눗셈의 결과 : 3 / 5 = 0.6\n",
      "****5*****의 결과 : 나눗셈 3 / = 0.6\n",
      "나눗셈의 결과 : 3 / 5 = 0.6\n"
     ]
    }
   ],
   "source": [
    "# 문자열 포매팅\n",
    "\n",
    "# %를 이용한 방법\n",
    "print('현재 온도는 18도입니다')\n",
    "print('현재 온도는 %d도입니다.그리고 오늘의날씨는 %s입니다.' % (18,\"맑음\"))\n",
    "\n",
    "# 나눗셈의 결과 : 3/5 = 0.6 입니다.\n",
    "\n",
    "print('%s의 결과 : %d %c %d = %0.2f 입니다.'%(\"나눗셈\",3,'/',5,3/5))\n",
    "\n",
    "# format()를 이용한 방법\n",
    "print('{}의 결과 : {} {} {} = {}'.format(\"나눗셈\",3,'/',5,3/5))\n",
    "print('{3:*^10}의 결과 : {0} {1} {2} = {4}'.format(\"나눗셈\",3,'/',5,3/5))\n",
    "print('{title}의 결과 : {num1} {op} {num2} = {result}'.format(num1=3,num2=5,op='/', result=3/5, title='나눗셈'))"
   ]
  },
  {
   "cell_type": "markdown",
   "metadata": {},
   "source": [
    "(2) bool"
   ]
  },
  {
   "cell_type": "code",
   "execution_count": 61,
   "metadata": {},
   "outputs": [
    {
     "name": "stdout",
     "output_type": "stream",
     "text": [
      "True True False False False True True True\n",
      "<class 'bool'>\n"
     ]
    }
   ],
   "source": [
    "print(bool(\" \"),bool(10),bool(0),bool(),bool(None),bool(3.14),bool(-4),bool('sk'))\n",
    "\n",
    "a = True\n",
    "print(type(a))"
   ]
  },
  {
   "cell_type": "markdown",
   "metadata": {},
   "source": [
    "### (3) lsit\n",
    "* '[]' 사용\n",
    "* 임의의 객체를 순차적으로 저장하는 집합적 자료형\n",
    "* 인덱스 사용\n",
    "* mutable(변경 가능)"
   ]
  },
  {
   "cell_type": "code",
   "execution_count": 68,
   "metadata": {},
   "outputs": [
    {
     "name": "stdout",
     "output_type": "stream",
     "text": [
      "<class 'int'> <class 'list'>\n",
      "10 [10, 11, 12]\n",
      "10 11 12\n",
      "['lee', 234, 3.1, True]\n",
      "['lee', 180, 3.1, True]\n"
     ]
    }
   ],
   "source": [
    "#a = 10 \n",
    "#b = 11\n",
    "#c = 12\n",
    "\n",
    "a,b,c = 10,11,12\n",
    "\n",
    "d = [10,11,12]\n",
    "print(type(a),type(d))\n",
    "print(a,d)\n",
    "print(d[0],d[1],d[2])\n",
    "\n",
    "e = ['lee',234,3.1,True]\n",
    "print(e)\n",
    "e[1] = 180\n",
    "print(e)"
   ]
  },
  {
   "cell_type": "code",
   "execution_count": 79,
   "metadata": {},
   "outputs": [
    {
     "name": "stdout",
     "output_type": "stream",
     "text": [
      "[1, 2, 3, '가', 3.14, ['a', 'b', True], False]\n",
      "b 가\n"
     ]
    }
   ],
   "source": [
    "### indexing\n",
    "\n",
    "a = [1,2,3,\"가\",3.14,['a','b',True],False]\n",
    "print(a)\n",
    "print(a[5][1],a[3])"
   ]
  },
  {
   "cell_type": "code",
   "execution_count": 84,
   "metadata": {},
   "outputs": [
    {
     "name": "stdout",
     "output_type": "stream",
     "text": [
      "[10, 2, 3, 4, 5]\n",
      "[10, 2, 3, 4, 5]\n",
      "-----------------------------------------\n",
      "[1, 2, 3, 4, 5]\n",
      "[10, 2, 3, 4, 5]\n"
     ]
    }
   ],
   "source": [
    "### 복사 (얕은 복사, 깊은 복사)\n",
    "\n",
    "a = [1,2,3,4,5]\n",
    "b = a\n",
    "b[0] = 10\n",
    "print(a)\n",
    "print(b)\n",
    "\n",
    "print('-----------------------------------------')\n",
    "\n",
    "a = [1,2,3,4,5]\n",
    "b = a[:]\n",
    "\n",
    "b[0] = 10\n",
    "print(a)\n",
    "print(b)"
   ]
  },
  {
   "cell_type": "code",
   "execution_count": 85,
   "metadata": {},
   "outputs": [
    {
     "name": "stdout",
     "output_type": "stream",
     "text": [
      "<class 'list'>\n"
     ]
    }
   ],
   "source": [
    "### list 생성\n",
    "\n",
    "a = []\n",
    "print(type(a))"
   ]
  },
  {
   "cell_type": "code",
   "execution_count": 112,
   "metadata": {},
   "outputs": [
    {
     "name": "stdout",
     "output_type": "stream",
     "text": [
      "<class 'int'> 10\n",
      "<class 'str'> 10\n",
      "<class 'float'> 10.0\n",
      "<class 'bool'> True\n",
      "<class 'list'> ['1', '0']\n",
      "<class 'list'> ['10']\n",
      "<class 'str'>\n",
      "10\n",
      "--------------------------------------\n",
      "[1, 2, 3]\n",
      "[0, 1, 2, 3, 4, 5, 6, 7, 8, 9]\n",
      "[5, 6, 7, 8, 9]\n",
      "[0, 2, 4, 6]\n",
      "[10, 9, 8, 7, 6, 5, 4, 3, 2, 1, 0]\n"
     ]
    }
   ],
   "source": [
    "# 각 자료형 함수\n",
    "a = '10'\n",
    "print(type(int(a)),a)\n",
    "print(type(str(a)),str(a))\n",
    "print(type(float(a)),float(a))\n",
    "print(type(bool(a)),bool(a))\n",
    "\n",
    "print(type(list(a)),list(a))\n",
    "print(type(list(a)),[a])\n",
    "print(type(a))\n",
    "print(int(a))\n",
    "\n",
    "print('--------------------------------------')\n",
    "\n",
    "# 초기화 방법\n",
    "\n",
    "a = list([1,2,3])\n",
    "print(a)\n",
    "\n",
    "a = list(range(10)) #range(0, 10, 1)\n",
    "print(a)\n",
    "\n",
    "a = list(range(5,10))\n",
    "print(a)\n",
    "\n",
    "a = list(range(0,8,2))\n",
    "print(a)\n",
    "\n",
    "# 10 9 8 7 6 5 4 3 2 1 0\n",
    "\n",
    "a = list(range(10,-1,-1))\n",
    "print(a)"
   ]
  },
  {
   "cell_type": "code",
   "execution_count": 124,
   "metadata": {},
   "outputs": [
    {
     "name": "stdout",
     "output_type": "stream",
     "text": [
      "[1, 2, 3, 4, 5, 6]\n",
      "[1, 2, 3, 1, 2, 3, 1, 2, 3]\n",
      "2hi\n",
      "2 hi\n"
     ]
    }
   ],
   "source": [
    "### 연산 가능\n",
    "\n",
    "a = [1,2,3]\n",
    "b = [4,5,6]\n",
    "\n",
    "print(a + b)\n",
    "print(a * 3)\n",
    "print(str(a[1]) + 'hi')\n",
    "print(a[1],'hi')"
   ]
  },
  {
   "cell_type": "code",
   "execution_count": 139,
   "metadata": {},
   "outputs": [
    {
     "name": "stdout",
     "output_type": "stream",
     "text": [
      "[1, 2, 3]\n",
      "[0, 1, 2, 3]\n",
      "[0, 1, 2, 3, 4]\n",
      "[0, 1, 2, 3, 4, 5]\n",
      "[0, 1, 2, 3, 4, 5, 6, 7, 8]\n",
      "[0, 1, 2, 3, 4, 5, 6, 7, 8, [9, 10, 11]]\n"
     ]
    }
   ],
   "source": [
    "### 추가하기 : insert(), append(), extend()\n",
    "\n",
    "a = [1,2,3]\n",
    "print (a)\n",
    "\n",
    "a.insert(0,0)\n",
    "print(a)\n",
    "\n",
    "a.append(4)\n",
    "print(a)\n",
    "\n",
    "a.extend([5])\n",
    "print(a)\n",
    "\n",
    "a.extend([6,7,8])\n",
    "print(a)\n",
    "\n",
    "a.append([9,10,11])\n",
    "print(a)"
   ]
  },
  {
   "cell_type": "code",
   "execution_count": 164,
   "metadata": {},
   "outputs": [
    {
     "name": "stdout",
     "output_type": "stream",
     "text": [
      "[1, 4, 6, 7, 5, 4]\n",
      "[1, 4, 4, 5, 6, 7]\n",
      "[1, 4, 6, 7, 5, 4]\n",
      "[4, 5, 7, 6, 4, 1]\n"
     ]
    }
   ],
   "source": [
    "### 정렬\n",
    "\n",
    "a = [1,4,6,7,5,4]\n",
    "#a.sort()\n",
    "print(a)\n",
    "\n",
    "print(sorted(a))\n",
    "print(a)\n",
    "\n",
    "a.reverse()\n",
    "print(a)"
   ]
  },
  {
   "cell_type": "code",
   "execution_count": 162,
   "metadata": {},
   "outputs": [
    {
     "name": "stdout",
     "output_type": "stream",
     "text": [
      "[1, 4, 6, 3]\n",
      "[1, 2, 5, 4, 6]\n",
      "[1, 2, 5, 4]\n",
      "[]\n",
      "[1, 2] 3\n"
     ]
    }
   ],
   "source": [
    "### 제거\n",
    "\n",
    "# 범위지정 식제\n",
    "a = [1,2,5,4,6,3]\n",
    "a[1:3] = []\n",
    "print(a)\n",
    "\n",
    "# 값을 찾아서 삭제\n",
    "a = [1,2,5,4,6,3]\n",
    "a.remove(3)\n",
    "print(a)\n",
    "\n",
    "# 위치지정 식제\n",
    "del a[4]\n",
    "print(a)\n",
    "\n",
    "#전체 데이터 삭제\n",
    "a = [1,2,3,4,5]\n",
    "a[:] = []\n",
    "print(a)\n",
    "\n",
    "# stack (LIFO구조)\n",
    "a = [1,2,3]\n",
    "b = a.pop()\n",
    "print(a,b)"
   ]
  },
  {
   "cell_type": "code",
   "execution_count": 167,
   "metadata": {},
   "outputs": [
    {
     "name": "stdout",
     "output_type": "stream",
     "text": [
      "3\n",
      "True\n",
      "False\n"
     ]
    }
   ],
   "source": [
    "## 검색\n",
    "a = [1,2,3,4,5]\n",
    "print(a.index(4))\n",
    "\n",
    "print(2 in a)\n",
    "print(9 in a)"
   ]
  },
  {
   "cell_type": "markdown",
   "metadata": {},
   "source": [
    "#### (4) tuple\n",
    "\n",
    "* ()사용 \n",
    "* immutable"
   ]
  },
  {
   "cell_type": "code",
   "execution_count": 171,
   "metadata": {},
   "outputs": [
    {
     "name": "stdout",
     "output_type": "stream",
     "text": [
      "('a', 'b', 'c', 'd')\n",
      "<class 'tuple'>\n",
      "1\n",
      "2\n"
     ]
    }
   ],
   "source": [
    "a = ('a','b','c','d')\n",
    "print(a)\n",
    "print(type(a))\n",
    "print(a.count('a'))\n",
    "print(a.index('c'))"
   ]
  },
  {
   "cell_type": "code",
   "execution_count": 181,
   "metadata": {},
   "outputs": [
    {
     "name": "stdout",
     "output_type": "stream",
     "text": [
      "['a', 10, 'c', 'd']\n",
      "('a', 10, 'c', 'd')\n"
     ]
    }
   ],
   "source": [
    "b = list(a)\n",
    "b[1] = 10\n",
    "print(b)\n",
    "a = tuple(b)\n",
    "print(a)\n",
    "#print(type(a))"
   ]
  },
  {
   "cell_type": "code",
   "execution_count": 183,
   "metadata": {},
   "outputs": [
    {
     "name": "stdout",
     "output_type": "stream",
     "text": [
      "(10, 20, 30)\n",
      "10 20 30\n"
     ]
    }
   ],
   "source": [
    "# packing unpacking\n",
    "\n",
    "a = 10, 20, 30\n",
    "print(a)\n",
    "\n",
    "a1, a2, a3 = a\n",
    "print(a1,a2,a3)"
   ]
  },
  {
   "cell_type": "markdown",
   "metadata": {},
   "source": [
    "### (5) dict (dictionary)\n",
    "\n",
    "* 비순차적이다\n",
    "* {} 사용 : {키 : 값}\n",
    "* 키를 이용해서 값을 조회"
   ]
  },
  {
   "cell_type": "code",
   "execution_count": 3,
   "metadata": {},
   "outputs": [
    {
     "name": "stdout",
     "output_type": "stream",
     "text": [
      "{'name': '홍길동', 'tell': '111-1111', '나이': 25}\n",
      "<class 'dict'>\n"
     ]
    }
   ],
   "source": [
    "a = {'name':'홍길동','tell':'111-1111','나이':25}\n",
    "print(a)\n",
    "print(type(a))"
   ]
  },
  {
   "cell_type": "code",
   "execution_count": 7,
   "metadata": {},
   "outputs": [
    {
     "name": "stdout",
     "output_type": "stream",
     "text": [
      "홍길동\n"
     ]
    }
   ],
   "source": [
    "print(a['name'])"
   ]
  },
  {
   "cell_type": "code",
   "execution_count": 10,
   "metadata": {},
   "outputs": [
    {
     "name": "stdout",
     "output_type": "stream",
     "text": [
      "dict_keys(['name', 'tell', '나이'])\n",
      "dict_values(['홍길동', '111-1111', 25])\n",
      "dict_items([('name', '홍길동'), ('tell', '111-1111'), ('나이', 25)])\n"
     ]
    }
   ],
   "source": [
    "print(a.keys())\n",
    "print(a.values())\n",
    "print(a.items())"
   ]
  },
  {
   "cell_type": "code",
   "execution_count": 14,
   "metadata": {},
   "outputs": [
    {
     "name": "stdout",
     "output_type": "stream",
     "text": [
      "<class 'dict_items'>\n",
      "[('name', '홍길동'), ('tell', '111-1111'), ('나이', 25)]\n"
     ]
    }
   ],
   "source": [
    "b = a.items()\n",
    "print(type(b))\n",
    "\n",
    "c = list(a.items())\n",
    "print(c)"
   ]
  },
  {
   "cell_type": "code",
   "execution_count": 15,
   "metadata": {},
   "outputs": [
    {
     "name": "stdout",
     "output_type": "stream",
     "text": [
      "{'name': '이유성', 'tell': '111-1111', '나이': 25}\n"
     ]
    }
   ],
   "source": [
    "# 수정\n",
    "\n",
    "a[\"name\"] = \"이유성\"\n",
    "print(a)"
   ]
  },
  {
   "cell_type": "code",
   "execution_count": 19,
   "metadata": {},
   "outputs": [
    {
     "name": "stdout",
     "output_type": "stream",
     "text": [
      "{'name': '이유성', 'tell': '111-1111', '나이': 25, 'hobby': ['게임', '운동']}\n"
     ]
    }
   ],
   "source": [
    "# 추가\n",
    "a['hobby'] = ['게임','운동']\n",
    "print(a)"
   ]
  },
  {
   "cell_type": "code",
   "execution_count": 20,
   "metadata": {},
   "outputs": [
    {
     "name": "stdout",
     "output_type": "stream",
     "text": [
      "{'name': '이유성', '나이': 25, 'hobby': ['게임', '운동']}\n"
     ]
    }
   ],
   "source": [
    "#삭제\n",
    "\n",
    "del a['tell']\n",
    "print(a)"
   ]
  },
  {
   "cell_type": "code",
   "execution_count": 21,
   "metadata": {},
   "outputs": [
    {
     "name": "stdout",
     "output_type": "stream",
     "text": [
      "{}\n"
     ]
    }
   ],
   "source": [
    "a.clear()\n",
    "print(a)"
   ]
  },
  {
   "cell_type": "code",
   "execution_count": 1,
   "metadata": {},
   "outputs": [
    {
     "name": "stdout",
     "output_type": "stream",
     "text": [
      "홍길동\n",
      "홍길동\n",
      "독서\n",
      "{'name': '홍길동', 'tell': '111-1111', '나이': 25}\n",
      "{'name': '홍길동', 'tell': '111-1111', '나이': 25}\n"
     ]
    }
   ],
   "source": [
    "# 데이터 가져오기 : get()\n",
    "\n",
    "a = {'name':'홍길동','tell':'111-1111','나이':25}\n",
    "print(a['name'])\n",
    "print(a.get('name'))\n",
    "\n",
    "print(a.get('hobby','독서'))\n",
    "print(a)\n",
    "\n",
    "a.get('hobby','독서')\n",
    "print(a)"
   ]
  },
  {
   "cell_type": "markdown",
   "metadata": {},
   "source": [
    "---\n",
    "### (6) set\n",
    "\n",
    "* {} 사용\n",
    "* 비순차적\n",
    "* 중복 불가"
   ]
  },
  {
   "cell_type": "code",
   "execution_count": 34,
   "metadata": {},
   "outputs": [
    {
     "name": "stdout",
     "output_type": "stream",
     "text": [
      "{1, 2, 3, 4}\n",
      "<class 'set'>\n",
      "1\n"
     ]
    }
   ],
   "source": [
    "a = {1,2,3,4,2,2,2,4}\n",
    "print(a)\n",
    "print(type(a))\n",
    "#print(a[1])\n",
    "\n",
    "b = list(a)\n",
    "print(b[0])"
   ]
  },
  {
   "cell_type": "code",
   "execution_count": 37,
   "metadata": {},
   "outputs": [
    {
     "name": "stdout",
     "output_type": "stream",
     "text": [
      "{1, 2, 3, 4, 5, 6, 7, 8}\n",
      "{4, 5}\n",
      "{1, 2, 3}\n"
     ]
    }
   ],
   "source": [
    "# 연산\n",
    "\n",
    "s1 = {1,2,3,4,5}\n",
    "s2 = {4,5,6,7,8}\n",
    "\n",
    "print(s1.union(s2))\n",
    "\n",
    "print(s1.intersection(s2))\n",
    "\n",
    "print(s1.difference(s2))"
   ]
  },
  {
   "cell_type": "code",
   "execution_count": 48,
   "metadata": {},
   "outputs": [
    {
     "name": "stdout",
     "output_type": "stream",
     "text": [
      "{1, 2, 3, 4, 5, 7, 9}\n",
      "{1, 2, 3, 4, 5, 7, 9, 11}\n",
      "{1, 2, 3, 4, 5, 7, 11}\n",
      "{1, 2, 3, 4, 5, 7, 11}\n"
     ]
    }
   ],
   "source": [
    "### 관련 함수\n",
    "\n",
    "s1 = {1,2,3,4,5}\n",
    "# 여러 가지 추가\n",
    "s1.update({7,9})\n",
    "print(s1)\n",
    "\n",
    "# 한개 추가\n",
    "s1.add(11)\n",
    "print(s1)\n",
    "\n",
    "# 삭제\n",
    "s1.remove(9)\n",
    "print(s1)\n",
    "\n",
    "s1.discard(10)\n",
    "print(s1)\n",
    "\n",
    "#s1.clear()\n",
    "#print(s1)"
   ]
  },
  {
   "cell_type": "code",
   "execution_count": 52,
   "metadata": {},
   "outputs": [
    {
     "name": "stdout",
     "output_type": "stream",
     "text": [
      "[1, 2, 3, 4, 5]\n"
     ]
    }
   ],
   "source": [
    "a = [1,2,3,4,4,5,2]\n",
    "b = set(a)\n",
    "a = list(b)\n",
    "print(a)"
   ]
  },
  {
   "cell_type": "code",
   "execution_count": 53,
   "metadata": {},
   "outputs": [
    {
     "name": "stdout",
     "output_type": "stream",
     "text": [
      "[1, 2, 3, 4, 5]\n"
     ]
    }
   ],
   "source": [
    "a = [1,2,3,4,4,5,2]\n",
    "a = list(set(a))\n",
    "print(a)"
   ]
  },
  {
   "cell_type": "markdown",
   "metadata": {},
   "source": [
    "## 4. Operator\n",
    "\n",
    "    1) 산술 연산자\n",
    "        * / + - % // **\n",
    "        \n",
    "    2) 비교 연산자\n",
    "        > < >= <= == !=\n",
    "        \n",
    "    3) 논리 연산자\n",
    "        and or not(단항, 토글)\n",
    "        \n",
    "    4) 대입(치환, 할당) 연산자\n",
    "        = += -= /= ...\n",
    "        \n",
    "    ======================================\n",
    "    \n",
    "    5) 포함 여부 연산자\n",
    "        in, not in, \n",
    "        \n",
    "    6) 비트 연산자\n",
    "        &(and) |(or) ^(xor) ~ << >> ..."
   ]
  },
  {
   "cell_type": "code",
   "execution_count": 56,
   "metadata": {},
   "outputs": [
    {
     "name": "stdout",
     "output_type": "stream",
     "text": [
      "3\n",
      "1 5\n"
     ]
    }
   ],
   "source": [
    "### 대입 연산자\n",
    "\n",
    "a = 1\n",
    "a = 5\n",
    "a = 3\n",
    "print(a)\n",
    "\n",
    "b = \"1\"\n",
    "b += ' 5'\n",
    "print(b)"
   ]
  },
  {
   "cell_type": "code",
   "execution_count": 72,
   "metadata": {},
   "outputs": [
    {
     "name": "stdout",
     "output_type": "stream",
     "text": [
      "True\n",
      "False\n",
      "3\n"
     ]
    }
   ],
   "source": [
    "### 비트 연산자\n",
    "\n",
    "a = 2<3 and 4<5\n",
    "print(a)\n",
    "\n",
    "b = 2 < 3 & 5 > 4\n",
    "print(b)\n",
    "\n",
    "c = 7 &3\n",
    "print(c)"
   ]
  },
  {
   "cell_type": "code",
   "execution_count": 75,
   "metadata": {},
   "outputs": [
    {
     "name": "stdout",
     "output_type": "stream",
     "text": [
      "251601\n",
      "453452\n"
     ]
    }
   ],
   "source": [
    "data = 453452\n",
    "key = 343453\n",
    "\n",
    "encoding = data ^ key\n",
    "print(encoding)\n",
    "\n",
    "encoding = encoding ^key\n",
    "print(encoding)"
   ]
  },
  {
   "cell_type": "code",
   "execution_count": null,
   "metadata": {},
   "outputs": [],
   "source": []
  }
 ],
 "metadata": {
  "kernelspec": {
   "display_name": "Python 3",
   "language": "python",
   "name": "python3"
  },
  "language_info": {
   "codemirror_mode": {
    "name": "ipython",
    "version": 3
   },
   "file_extension": ".py",
   "mimetype": "text/x-python",
   "name": "python",
   "nbconvert_exporter": "python",
   "pygments_lexer": "ipython3",
   "version": "3.8.5"
  }
 },
 "nbformat": 4,
 "nbformat_minor": 4
}
