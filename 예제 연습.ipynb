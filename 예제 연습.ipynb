{
 "cells": [
  {
   "cell_type": "code",
   "execution_count": null,
   "metadata": {},
   "outputs": [],
   "source": [
    "#문자형\n",
    "\n",
    "food = \"Python's favorite food id perl\"\n",
    "print(food)\n",
    "\n",
    "food = 'Python\\'s favorite food is perl'\n",
    "print(food)\n",
    "\n",
    "a = '''life is short\n",
    "you need python'''\n",
    "print(a)\n",
    "\n",
    "a = 'my \\\\name is lee'\n",
    "print(a)\n",
    "\n",
    "a = 'python '\n",
    "b = 'is fun!'\n",
    "print(a+b)\n",
    "print(a*3)\n",
    "\n",
    "len(a)\n",
    "\n",
    "a = 'you need python'\n",
    "len(a)"
   ]
  },
  {
   "cell_type": "code",
   "execution_count": null,
   "metadata": {},
   "outputs": [],
   "source": [
    "#문자형2\n",
    "\n",
    "a = 'just do it'\n",
    "#a[0]\n",
    "#a[-3]\n",
    "#print(len(a))\n",
    "\n",
    "a[-1:3]\n",
    "\n",
    "a = '19960403 i am birthday'\n",
    "print(len(a))\n",
    "\n",
    "\n",
    "\n",
    "year = int(a[0:4])\n",
    "month = a[4:8]\n",
    "b = a[8:22]\n",
    "\n",
    "#print('연도:',year,'\\n날짜:',month,'\\n메모:',b)\n",
    "print('안녕:',year, month)\n",
    "print(\"년:{}\\n날짜:{}\\n메모:{}\\n\".format(year,month,b))\n",
    "\n",
    "print('=================================================')\n",
    "c = 123\n",
    "print('i am %d years old' %year)\n",
    "\n",
    "print('l was %s  but i am not %d'%(b,c))\n",
    "\n",
    "print('나는%10d' %10)\n",
    "\n",
    "\n",
    "print(\"%0.6s\" % 'ㅁ.ㄴㅇ안녕')\n",
    "\n",
    "print('{:^<10}hh'.format('hi'))\n",
    "print('=========================================')\n",
    "\n",
    "y = 3.1342423\n",
    "print('{:0.6f}'.format(y))\n",
    "\n",
    "a = {'name':'이유성','age':24}\n",
    "print(type(a))\n",
    "\n",
    "#print({}.format(a['name']))\n",
    "print(f'하이 {a[\"name\"]}')\n",
    "\n",
    "print('{:!^12}'.format('python'))"
   ]
  },
  {
   "cell_type": "code",
   "execution_count": null,
   "metadata": {},
   "outputs": [],
   "source": [
    "# 문자형2\n",
    "\n",
    "a = 'leeee'\n",
    "del a[3]\n",
    "print(a)\n",
    "a.count('e')\n",
    "\n",
    "a.find('e')\n",
    "\n",
    "a.index('e')\n",
    "\n",
    "','.join('ty')\n",
    "\n",
    "','.join(a)\n",
    "#','.join([\"a\",\"b\",\"c\"])\n",
    "a.upper()\n",
    "a.lower()\n",
    "\n",
    "b = \"my car is too big\"\n",
    "b.strip()\n",
    "\n",
    "b.replace('my car','head')\n",
    "b.split()"
   ]
  },
  {
   "cell_type": "code",
   "execution_count": null,
   "metadata": {},
   "outputs": [],
   "source": [
    "# 리스트 자료형 \n",
    "\n",
    "odd = [1,3,5,2,3,9,[\"a\",\"b\",\"c\"]]\n",
    "print(odd)\n",
    "\n",
    "a = [1,1,'car',['a','car','man']]\n",
    "b = a[3][:1]\n",
    "print(b)\n",
    "a[0] + 3\n",
    "\n",
    "a[0] = 3\n",
    "\n",
    "print(a)\n",
    "\n",
    "#del a[2:4]\n",
    "print(a)\n",
    "a.index('car')\n",
    "a.insert(3,'c')\n",
    "print(a)\n",
    "a.remove(3)\n",
    "print(a)\n",
    "a.pop(1)\n",
    "print(a)\n",
    "a.count(1)\n",
    "\n",
    "#b = a + odd\n",
    "#a.extend(odd)\n",
    "print(a + odd)\n",
    "\n",
    "t1 = (1,)\n",
    "t2 = 1,2,3\n",
    "type(t2)\n",
    "\n",
    "t2[:]\n",
    "l1 = list(t2)\n",
    "l1.insert(3,4)\n",
    "t2 = tuple(l1)\n",
    "t2\n",
    "\n",
    "a = {'name':'이유성','사는곳':'영통','키':174}\n",
    "\n",
    "a['키'] = 175\n",
    "\n",
    "print(a)\n",
    "\n",
    "a['name']"
   ]
  },
  {
   "cell_type": "code",
   "execution_count": null,
   "metadata": {},
   "outputs": [],
   "source": [
    "# 리스트 자료형2\n",
    "\n",
    "a = {'a':2,34:'a','car':'ads'}\n",
    "a.keys()\n",
    "\n",
    "for v in a:\n",
    "    print(v)\n",
    "    \n",
    "a.values()\n",
    "a.items()\n",
    "\n",
    "#a.clear()\n",
    "#print(a)\n",
    "\n",
    "a.get('z',89)\n",
    "#a['z']\n",
    "\n",
    "name in a\n",
    "\n",
    "a = {'name':'홍길동','birth':1128,'age':30}\n",
    "print(a)"
   ]
  },
  {
   "cell_type": "code",
   "execution_count": null,
   "metadata": {},
   "outputs": [],
   "source": [
    "# 집합 자료형\n",
    "\n",
    "s1 = set([1,2,3])\n",
    "print(s1)\n",
    "\n",
    "s2 = {1,2,2,3}\n",
    "s2.add(4)\n",
    "s2.update([5,2,3])\n",
    "s2.remove(2)\n",
    "print(s2)\n",
    "\n",
    "s3 = set('hello')\n",
    "#s3 =('hello')\n",
    "print(s3)"
   ]
  },
  {
   "cell_type": "code",
   "execution_count": null,
   "metadata": {},
   "outputs": [],
   "source": [
    "# 불 자료형\n",
    "\n",
    "2 == 2\n",
    "a = {1,2,3,4}\n",
    "while a:\n",
    "    print(a.pop())\n",
    "    \n",
    "bool(0)\n"
   ]
  },
  {
   "cell_type": "code",
   "execution_count": null,
   "metadata": {},
   "outputs": [],
   "source": [
    "# 자료형의 값을 저장하는 공간,변수\n",
    "\n",
    "a = 12\n",
    "b = a\n",
    "print(a is b)\n",
    "id(a)\n",
    "\n",
    "a = [1,2,3]\n",
    "b = a[:]\n",
    "print(a is b)\n",
    "a[1] = 0\n",
    "print(a)\n",
    "\n",
    "from copy import copy\n",
    "c = copy(a)\n",
    "print(c is a)"
   ]
  },
  {
   "cell_type": "code",
   "execution_count": null,
   "metadata": {},
   "outputs": [],
   "source": [
    "a= \"aaa\",\"b\",\"c\"\n",
    "b = 123\n",
    "a,b = b,a\n",
    "print(b)\n",
    "\n",
    "a = [1,2,3,4]\n",
    "a[1:3]"
   ]
  },
  {
   "cell_type": "markdown",
   "metadata": {},
   "source": [
    "# 연습문제"
   ]
  },
  {
   "cell_type": "code",
   "execution_count": null,
   "metadata": {},
   "outputs": [],
   "source": [
    "# 1번\n",
    "\n",
    "dic = {'국어':80,'영어':75,'수학':55}\n",
    "\n",
    "evg = (dic['국어'] + dic['영어'] + dic['수학'])/3\n",
    "\n",
    "print(evg)\n",
    "\n",
    "#3번\n",
    "\n",
    "pin = '881120-1068234'\n",
    "yyyymmdd = pin[:6]\n",
    "num = pin[7:]\n",
    "print('연월일:',yyyymmdd)\n",
    "print('고유번호는:',num)\n",
    "\n",
    "#4\n",
    "\n",
    "pin = '881120-1068234'\n",
    "print('남',pin[7],'여',num)\n",
    "\n",
    "#5\n",
    "\n",
    "a = 'a:b:c:d'\n",
    "a.replace(':','#')\n",
    "\n",
    "#6\n",
    "\n",
    "a = [1,3,5,4,2]\n",
    "a.sort()\n",
    "a.reverse()\n",
    "print(a)\n",
    "\n",
    "#7\n",
    "\n",
    "#(1)\n",
    "a = ['life','is','too','short']\n",
    "b,c,d,e = a\n",
    "print(b,c,d,e)\n",
    "\n",
    "#(2)\n",
    "a = ['life','is','too','short']\n",
    "result = ' '.join(a)\n",
    "print(result)\n",
    "\n",
    "#8\n",
    "a = (1,2,3) \n",
    "a = a + (4,)\n",
    "\n",
    "print(a)\n",
    "\n",
    "#9\n",
    "a = dict()\n",
    "a[(1)] = 'dd'\n",
    "print(a)\n",
    "\n",
    "#10\n",
    "a = {'a':90,'b':80,'c':70}\n",
    "result = a.pop('b')\n",
    "print(a)\n",
    "print(result)\n",
    "\n",
    "#11\n",
    "a = [1,1,1,2,2,3,3,3,4,4,5]\n",
    "aSet = set(a)\n",
    "b = list(aSet) \n",
    "print(b)"
   ]
  },
  {
   "cell_type": "code",
   "execution_count": null,
   "metadata": {},
   "outputs": [],
   "source": [
    "# 반복문\n",
    "\n",
    "money = 0\n",
    "\n",
    "if money :\n",
    "    print('택시')\n",
    "else:\n",
    "    print('걸어')\n",
    "    \n",
    "money = 2000\n",
    "card = 0\n",
    "\n",
    "if money >= 3000 or card:\n",
    "    print('택시를 타라')\n",
    "else:\n",
    "    print('걸어라')\n",
    "    \n",
    "'e' not in ['a','b','c']\n",
    "\n",
    "'a' not in 'endless'\n",
    "\n",
    "pocket = ('money','liter')\n",
    "\n",
    "if 'money' in pocket:\n",
    "    print('walk')\n",
    "    \n",
    "pocket = ['card','key','']\n",
    "\n",
    "if 'card' in pocket:\n",
    "    print(\"take bus\")\n",
    "else:\n",
    "    print('walk')\n",
    "    \n",
    "if 'money' in pocket:\n",
    "    pass\n",
    "else:\n",
    "    print('take card')\n",
    "    \n",
    "print('------------------------------------------')\n",
    "\n",
    "pocket = ('','카드','라이터')\n",
    "\n",
    "if '돈' not in pocket:\n",
    "    print('카드는?')\n",
    "    if '카드' in pocket:\n",
    "        print('탣시')\n",
    "    else:\n",
    "        print('걸어라')\n",
    "else:\n",
    "    print('택시')\n",
    "    \n",
    "pocket = ('','','라이터')\n",
    "if '카드' in pocket:\n",
    "    print('택시')\n",
    "elif 'card':\n",
    "    print('택시')\n",
    "else:\n",
    "    print('walk')\n",
    "    \n",
    "pocket = ('money','card','라이터')\n",
    "\n",
    "if 'money' in pocket: print('tax')\n",
    "else:pass\n",
    "\n",
    "message = '택시'if 'money' in pocket else 'walk'\n",
    "print(message)\n",
    "\n",
    "score = 76\n",
    "message = 'success' if score >= 60 else 'failure'\n",
    "print(message)"
   ]
  },
  {
   "cell_type": "code",
   "execution_count": null,
   "metadata": {},
   "outputs": [],
   "source": [
    "treeHit = 0\n",
    "\n",
    "while treeHit < 10:\n",
    "    \n",
    "    treeHit = treeHit + 1        \n",
    "    print('{}번 찍었습니다'.format(treeHit))\n",
    "    \n",
    "    if treeHit == 10:\n",
    "        print('쓰러졌습니다')\n",
    "print('==========================================')  \n",
    "prompt = \"\"\"1.add \n",
    "2.del \n",
    "3.list \n",
    "4.quit\"\"\" \n",
    "num = 0\n",
    "while num != 4:\n",
    "    print(prompt)\n",
    "    num = print(int(input('숫자는')))\n",
    "    \n",
    "    \n"
   ]
  },
  {
   "cell_type": "code",
   "execution_count": null,
   "metadata": {},
   "outputs": [],
   "source": [
    "# money = int(input('insert moeny:'))\n",
    "coffe = 0\n",
    "cost = 300\n",
    "\n",
    "while coffe < 10:\n",
    "    money = int(input('insert moeny:'))\n",
    "    \n",
    "    if money >= 300:\n",
    "        print('coffe is coming')\n",
    "    else:\n",
    "        print('insert more money')\n",
    "        \n",
    "    print('잔돈입니다:',money - cost)\n",
    "    coffe = coffe +1\n",
    "    \n",
    "    print('남은잔은',10-coffe,'입니다')"
   ]
  },
  {
   "cell_type": "code",
   "execution_count": null,
   "metadata": {},
   "outputs": [],
   "source": [
    "coffe = 10\n",
    "money = 300\n",
    "\n",
    "while money:\n",
    "    print('받아라')\n",
    "    coffe = coffe - 1\n",
    "    if coffe == 0:\n",
    "        print('sold out')\n",
    "        break"
   ]
  },
  {
   "cell_type": "code",
   "execution_count": null,
   "metadata": {},
   "outputs": [],
   "source": [
    "i = 0 \n",
    "while i <= 9:\n",
    "    i = i + 1\n",
    "    if i % 2 == 0: \n",
    "        continue\n",
    "    print(i,'는홀수')\n",
    "    #else:\n",
    "       # pass"
   ]
  },
  {
   "cell_type": "code",
   "execution_count": null,
   "metadata": {},
   "outputs": [],
   "source": [
    "i = 0\n",
    "\n",
    "while i <= 9:\n",
    "    i = i +1\n",
    "    if i % 3 ==0: continue\n",
    "    print(i)"
   ]
  },
  {
   "cell_type": "code",
   "execution_count": null,
   "metadata": {
    "scrolled": true
   },
   "outputs": [],
   "source": [
    "test_list = ['a','b','c']\n",
    "\n",
    "for i in test_list:\n",
    "    print(i)\n",
    "    \n",
    "a = [['a','b'],[1,2],[3,4]]\n",
    "for one, two in a:\n",
    "    print(one + two)\n",
    "    \n",
    "print('========================================')\n",
    "\n",
    "num = [90,60,55,80,65]\n",
    "number = 0\n",
    "\n",
    "for i in num:\n",
    "    number = number + 1\n",
    "    if i >= 60:\n",
    "        print(number,'번 학생 합격')\n",
    "    else:\n",
    "        print(number,'번 학생 불합격')\n",
    "        \n",
    "print('========================================')\n",
    "num = [90,60,55,80,65]\n",
    "number = 0\n",
    "\n",
    "for i in num:\n",
    "    number = number + 1\n",
    "    if i < 60: continue\n",
    "    print(number,'번 합격')\n",
    "\n",
    "add = 0\n",
    "for i in range(11):\n",
    "    add = add + i\n",
    "  \n",
    "print(add)"
   ]
  },
  {
   "cell_type": "code",
   "execution_count": null,
   "metadata": {},
   "outputs": [],
   "source": [
    "score = [90,65,60,55,80]\n",
    "num = 0\n",
    "for i in range(len(score)):\n",
    "    num = num + 1\n",
    "    if score[i] >= 60:\n",
    "        print(num,'번 학생은 합격')\n",
    "    else:\n",
    "        print(num,'번은 불합격')\n",
    "print(num)\n",
    "\n",
    "print('=======================================')\n",
    "\n",
    "num = 0\n",
    "for i in range(101):\n",
    "    num = num + i\n",
    "    if i == 100:\n",
    "        print(num)\n",
    "        \n",
    "\n",
    "\n",
    "for i in range(1,10):\n",
    "    print(i,'단은')\n",
    "    for n in range(1,10):\n",
    "        print(i*n)\n",
    "    print('')\n",
    "   "
   ]
  },
  {
   "cell_type": "code",
   "execution_count": null,
   "metadata": {},
   "outputs": [],
   "source": [
    "a = [1,2,3,4,5]\n",
    "result = []\n",
    "for i in a:\n",
    "    result.append(i*3)\n",
    "print(result)\n",
    "\n",
    "result = [i*3 for i in a]\n",
    "print(result)\n",
    "\n",
    "result = [i*3 for i in a if i % 2 == 0]\n",
    "print(result)\n",
    "\n",
    "gugu = [print(i,'단은',i*n) for i in range(1,10) for n in range(1,10)]"
   ]
  },
  {
   "cell_type": "markdown",
   "metadata": {},
   "source": [
    "# 연습문제"
   ]
  },
  {
   "cell_type": "code",
   "execution_count": null,
   "metadata": {},
   "outputs": [],
   "source": [
    "#2\n",
    "add = 0\n",
    "i  = 0\n",
    "while i <= 1000:\n",
    "    i = i + 1\n",
    "    if i % 3 == 0:\n",
    "        add = add + i\n",
    "print(add)\n",
    "\n",
    "#3\n",
    "i = 0\n",
    "while i <= 4:\n",
    "    i = i + 1\n",
    "    print('*'*i)\n",
    "    \n",
    "i = 0\n",
    "while True:\n",
    "    i += 1\n",
    "    print('*'*i)\n",
    "    if i == 5: break\n",
    "        \n",
    "#4\n",
    "for i in range(1,101):\n",
    "    print(i)\n",
    "    \n",
    "#5\n",
    "total = 0\n",
    "a = [70,60,55,75,95,90,80,80,85,100]\n",
    "\n",
    "for i in a:\n",
    "    total = total + i\n",
    "print(total/len(a))\n",
    "\n",
    "#6\n",
    "a = [1,2,3,4,5]\n",
    "result = []\n",
    "for i in a:\n",
    "    if i % 2 != 0:\n",
    "        result.append(i * 2)\n",
    "print(result)\n",
    "\n",
    "result = [i*2 for i in a if i%2 != 0]\n",
    "print(result)"
   ]
  },
  {
   "cell_type": "code",
   "execution_count": null,
   "metadata": {},
   "outputs": [],
   "source": [
    "# 함수\n",
    "\n",
    "def add(a,b):\n",
    "    return a + b \n",
    "\n",
    "c = add(1,3)\n",
    "print(c)\n",
    "\n",
    "def add(a,b):\n",
    "    result = a + b\n",
    "    return result\n",
    "\n",
    "b = add(4,4)\n",
    "print(b)\n",
    "\n",
    "def say():\n",
    "    return 'hi'\n",
    "\n",
    "say()\n",
    "\n",
    "def add(a,b):\n",
    "    print('%d %d 합은 %d'%(a,b,a+b))\n",
    "\n",
    "a = add(10,40)\n",
    "print(a)\n",
    "\n",
    "b = add(b = 40,a = 10)\n",
    "print(b)\n",
    "\n",
    "def addall(*args):\n",
    "    result = 0\n",
    "    for i in args:\n",
    "        result += i\n",
    "    return result\n",
    "    \n",
    "addall(1,2,3,4,5,6,7,8,9,10)\n",
    "\n",
    "def add_mul(mode,*args):\n",
    "    if mode == 'add':\n",
    "        result = 0\n",
    "        for i in args:\n",
    "            result = result + i\n",
    "    elif mode == 'mul':\n",
    "        result = 1\n",
    "        for i in args:\n",
    "            result = result * i\n",
    "        \n",
    "    return result\n",
    "\n",
    "add_mul('add',1,2,3,4,5,6,7,8)\n",
    "\n",
    "def a(**b):\n",
    "    print(b)\n",
    "\n",
    "a(이유성 ='잘생김',키 = 180)\n",
    "\n",
    "\n",
    "a = 1\n",
    "def vartest():\n",
    "    global a\n",
    "    a = a + 1\n",
    "    \n",
    "\n",
    "vartest()\n",
    "print(a)\n",
    "\n",
    "add = lambda a, b : a + b\n",
    "print(add(1,3))\n",
    "\n"
   ]
  },
  {
   "cell_type": "code",
   "execution_count": null,
   "metadata": {},
   "outputs": [],
   "source": [
    "import sys\n",
    "\n",
    "\n",
    "sys.path.append(\"C:\\\\lys_code\")\n",
    "\n",
    "from mymodule2 import company as com\n",
    "from mymodule2 import *\n",
    "\n",
    "print(sum(10,20))\n",
    "info(80,175,name='이유성',blood='a')\n",
    "print(com)\n",
    "print(Math().p1)\n",
    "print(Math().solve(3))"
   ]
  },
  {
   "cell_type": "code",
   "execution_count": null,
   "metadata": {
    "scrolled": true
   },
   "outputs": [],
   "source": [
    "print('a''b''c')\n",
    "print('a'+'b'+'c')\n",
    "for i in range(5):\n",
    "    print(i,end='')"
   ]
  },
  {
   "cell_type": "code",
   "execution_count": null,
   "metadata": {
    "scrolled": true
   },
   "outputs": [],
   "source": [
    "f = open('test.txt','w')\n",
    "#f = 'abcd'\n",
    "f.close()\n",
    "\n",
    "f = open('C:/lys_code/lab1/복습2.txt','w')\n",
    "f.close()\n",
    "\n",
    "f = open('test.txt','w')\n",
    "for i in range(1,5):\n",
    "    result = \"%d번째 줄 입니다.\\n\" %i \n",
    "    f.write(result)\n",
    "f.close()\n",
    "\n",
    "f = open('test.txt','r')\n",
    "while True:\n",
    "    line = f.readline()\n",
    "    print(line)\n",
    "    if not line:\n",
    "        break\n",
    "f.close()"
   ]
  },
  {
   "cell_type": "code",
   "execution_count": null,
   "metadata": {},
   "outputs": [],
   "source": [
    "while 1:\n",
    "    data = input()\n",
    "    if not data:break\n",
    "print(data)\n",
    "\n",
    "f = open('test.txt','r')\n",
    "lines = f.readlines()\n",
    "for line in lines:\n",
    "    print(line)\n",
    "f.close()\n",
    "\n",
    "f = open('test.txt','r')\n",
    "data = f.read()\n",
    "print(data)\n",
    "f.close()\n",
    "\n",
    "f = open('test.txt','a')\n",
    "for i in range(4,10):\n",
    "    data = ('{}번째 줄 입니다.\\n'.format(i))\n",
    "    f.write(data)\n",
    "f.close()"
   ]
  },
  {
   "cell_type": "code",
   "execution_count": null,
   "metadata": {
    "scrolled": true
   },
   "outputs": [],
   "source": [
    "f = open('test.txt','a')\n",
    "for i in range(5,10):\n",
    "    data = '{}번째 줄 입니다.\\n'.format(i)\n",
    "    f.write(data)\n",
    "    \n",
    "\n",
    "f.close()\n",
    "\n"
   ]
  },
  {
   "cell_type": "code",
   "execution_count": null,
   "metadata": {},
   "outputs": [],
   "source": [
    "f = open('test.txt','w')\n",
    "for i in range(1,5):\n",
    "    f.write('{}번째 줄 입니다.'.format(i))\n",
    "\n",
    "print(data)    \n",
    "f.close()"
   ]
  },
  {
   "cell_type": "code",
   "execution_count": null,
   "metadata": {},
   "outputs": [],
   "source": [
    "with open('test2.txt','w') as f:\n",
    "    f.write('dsdsdsdss')"
   ]
  },
  {
   "cell_type": "markdown",
   "metadata": {},
   "source": [
    "## 연습 문제"
   ]
  },
  {
   "cell_type": "code",
   "execution_count": null,
   "metadata": {},
   "outputs": [],
   "source": [
    "#1\n",
    "def is_odd(num):\n",
    "    if num % 2 == 0:\n",
    "        return False\n",
    "    else:\n",
    "        return True\n",
    "\n",
    "is_odd(2)        \n",
    "\n",
    "#2\n",
    "def avrg(*num):\n",
    "    add = 0\n",
    "    \n",
    "    for i in num:\n",
    "        add += i\n",
    "        result = add / len(num)\n",
    "    return result\n",
    "    \n",
    "print(len(num))\n",
    "avrg(1,2,3,4,5)\n",
    "\n",
    "#3\n",
    "input1 = input('num1:')\n",
    "input2 = input('num2:')\n",
    "\n",
    "total = int(input1) + int(input2)\n",
    "print('합은 %s'%total)\n",
    "\n",
    "#4\n",
    "print(''.join((1,2,3,4)))\n",
    "\n",
    "#5\n",
    "def a():\n",
    "    f = open('test.txt','w')\n",
    "    f.write('life is too short')\n",
    "\n",
    "    f = open('test.txt','r')\n",
    "    f.read()\n",
    "\n",
    "#6\n",
    "while True:\n",
    "    user = input('입력:')\n",
    "    if user == 'reset':\n",
    "        f = open('test.txt','w')\n",
    "        f.close()\n",
    "    f = open('test.txt','a')\n",
    "    f.write(user)\n",
    "    f.write('\\n')\n",
    "    f.close()\n",
    "    \n",
    "#7\n",
    "f = open('test.txt','r')\n",
    "data = f.read()\n",
    "f.close()\n",
    "\n",
    "data = data.replace('python3','python5')\n",
    "\n",
    "f = open('test.txt','w')\n",
    "f.write(data)\n",
    "f.close()"
   ]
  },
  {
   "cell_type": "code",
   "execution_count": null,
   "metadata": {},
   "outputs": [],
   "source": [
    "print(\"\".join(('1','2','3','4')))\n",
    "''.join(('1','2','3','4'))"
   ]
  },
  {
   "cell_type": "code",
   "execution_count": null,
   "metadata": {},
   "outputs": [],
   "source": [
    "def a_avrgs(*nums):\n",
    "    adds = 0\n",
    "    for i in nums:\n",
    "        adds += i\n",
    "    return adds / len(nums)\n",
    "\n",
    "a_avrgs(1,2)\n"
   ]
  },
  {
   "cell_type": "code",
   "execution_count": null,
   "metadata": {},
   "outputs": [],
   "source": [
    "def avg_numbers(*args):\n",
    "    result = 0\n",
    "    for i in args:\n",
    "        result += i\n",
    "    return result / len(args)\n",
    "\n",
    "avg_numbers(1,2)"
   ]
  },
  {
   "cell_type": "code",
   "execution_count": 42,
   "metadata": {
    "scrolled": false
   },
   "outputs": [
    {
     "name": "stdout",
     "output_type": "stream",
     "text": [
      "life is too short\n"
     ]
    }
   ],
   "source": [
    "def a():\n",
    "    f1 = open('test.txt','w')\n",
    "    f1.write('life is too short')\n",
    "    f1.close()\n",
    "    \n",
    "    f2 = open('test.txt','r')\n",
    "    print(f2.read())\n",
    "    f2.close()\n",
    "a()"
   ]
  },
  {
   "cell_type": "code",
   "execution_count": 13,
   "metadata": {},
   "outputs": [
    {
     "data": {
      "text/plain": [
       "17"
      ]
     },
     "execution_count": 13,
     "metadata": {},
     "output_type": "execute_result"
    }
   ],
   "source": [
    "f1 = open('test.txt','w')\n",
    "f1.write('life is too short')"
   ]
  },
  {
   "cell_type": "code",
   "execution_count": 2,
   "metadata": {},
   "outputs": [
    {
     "name": "stdout",
     "output_type": "stream",
     "text": [
      "입력:dkssud\n",
      "입력:dkssud\n",
      "입력:reset\n",
      "입력:life is too short \n",
      "입력:you need java\n"
     ]
    },
    {
     "ename": "KeyboardInterrupt",
     "evalue": "Interrupted by user",
     "output_type": "error",
     "traceback": [
      "\u001b[1;31m---------------------------------------------------------------------------\u001b[0m",
      "\u001b[1;31mKeyboardInterrupt\u001b[0m                         Traceback (most recent call last)",
      "\u001b[1;32m<ipython-input-2-11ad08270cf1>\u001b[0m in \u001b[0;36m<module>\u001b[1;34m\u001b[0m\n\u001b[0;32m      1\u001b[0m \u001b[1;32mwhile\u001b[0m \u001b[1;32mTrue\u001b[0m\u001b[1;33m:\u001b[0m\u001b[1;33m\u001b[0m\u001b[1;33m\u001b[0m\u001b[0m\n\u001b[1;32m----> 2\u001b[1;33m     \u001b[0muser\u001b[0m \u001b[1;33m=\u001b[0m \u001b[0minput\u001b[0m\u001b[1;33m(\u001b[0m\u001b[1;34m'입력:'\u001b[0m\u001b[1;33m)\u001b[0m\u001b[1;33m\u001b[0m\u001b[1;33m\u001b[0m\u001b[0m\n\u001b[0m\u001b[0;32m      3\u001b[0m     \u001b[0mf\u001b[0m \u001b[1;33m=\u001b[0m \u001b[0mopen\u001b[0m\u001b[1;33m(\u001b[0m\u001b[1;34m'test.txt'\u001b[0m\u001b[1;33m,\u001b[0m\u001b[1;34m'a'\u001b[0m\u001b[1;33m)\u001b[0m\u001b[1;33m\u001b[0m\u001b[1;33m\u001b[0m\u001b[0m\n\u001b[0;32m      4\u001b[0m     \u001b[0mf\u001b[0m\u001b[1;33m.\u001b[0m\u001b[0mwrite\u001b[0m\u001b[1;33m(\u001b[0m\u001b[0muser\u001b[0m\u001b[1;33m)\u001b[0m\u001b[1;33m\u001b[0m\u001b[1;33m\u001b[0m\u001b[0m\n\u001b[0;32m      5\u001b[0m     \u001b[0mf\u001b[0m\u001b[1;33m.\u001b[0m\u001b[0mwrite\u001b[0m\u001b[1;33m(\u001b[0m\u001b[1;34m'\\n'\u001b[0m\u001b[1;33m)\u001b[0m\u001b[1;33m\u001b[0m\u001b[1;33m\u001b[0m\u001b[0m\n",
      "\u001b[1;32m~\\anaconda3\\lib\\site-packages\\ipykernel\\kernelbase.py\u001b[0m in \u001b[0;36mraw_input\u001b[1;34m(self, prompt)\u001b[0m\n\u001b[0;32m    858\u001b[0m                 \u001b[1;34m\"raw_input was called, but this frontend does not support input requests.\"\u001b[0m\u001b[1;33m\u001b[0m\u001b[1;33m\u001b[0m\u001b[0m\n\u001b[0;32m    859\u001b[0m             )\n\u001b[1;32m--> 860\u001b[1;33m         return self._input_request(str(prompt),\n\u001b[0m\u001b[0;32m    861\u001b[0m             \u001b[0mself\u001b[0m\u001b[1;33m.\u001b[0m\u001b[0m_parent_ident\u001b[0m\u001b[1;33m,\u001b[0m\u001b[1;33m\u001b[0m\u001b[1;33m\u001b[0m\u001b[0m\n\u001b[0;32m    862\u001b[0m             \u001b[0mself\u001b[0m\u001b[1;33m.\u001b[0m\u001b[0m_parent_header\u001b[0m\u001b[1;33m,\u001b[0m\u001b[1;33m\u001b[0m\u001b[1;33m\u001b[0m\u001b[0m\n",
      "\u001b[1;32m~\\anaconda3\\lib\\site-packages\\ipykernel\\kernelbase.py\u001b[0m in \u001b[0;36m_input_request\u001b[1;34m(self, prompt, ident, parent, password)\u001b[0m\n\u001b[0;32m    902\u001b[0m             \u001b[1;32mexcept\u001b[0m \u001b[0mKeyboardInterrupt\u001b[0m\u001b[1;33m:\u001b[0m\u001b[1;33m\u001b[0m\u001b[1;33m\u001b[0m\u001b[0m\n\u001b[0;32m    903\u001b[0m                 \u001b[1;31m# re-raise KeyboardInterrupt, to truncate traceback\u001b[0m\u001b[1;33m\u001b[0m\u001b[1;33m\u001b[0m\u001b[1;33m\u001b[0m\u001b[0m\n\u001b[1;32m--> 904\u001b[1;33m                 \u001b[1;32mraise\u001b[0m \u001b[0mKeyboardInterrupt\u001b[0m\u001b[1;33m(\u001b[0m\u001b[1;34m\"Interrupted by user\"\u001b[0m\u001b[1;33m)\u001b[0m \u001b[1;32mfrom\u001b[0m \u001b[1;32mNone\u001b[0m\u001b[1;33m\u001b[0m\u001b[1;33m\u001b[0m\u001b[0m\n\u001b[0m\u001b[0;32m    905\u001b[0m             \u001b[1;32mexcept\u001b[0m \u001b[0mException\u001b[0m \u001b[1;32mas\u001b[0m \u001b[0me\u001b[0m\u001b[1;33m:\u001b[0m\u001b[1;33m\u001b[0m\u001b[1;33m\u001b[0m\u001b[0m\n\u001b[0;32m    906\u001b[0m                 \u001b[0mself\u001b[0m\u001b[1;33m.\u001b[0m\u001b[0mlog\u001b[0m\u001b[1;33m.\u001b[0m\u001b[0mwarning\u001b[0m\u001b[1;33m(\u001b[0m\u001b[1;34m\"Invalid Message:\"\u001b[0m\u001b[1;33m,\u001b[0m \u001b[0mexc_info\u001b[0m\u001b[1;33m=\u001b[0m\u001b[1;32mTrue\u001b[0m\u001b[1;33m)\u001b[0m\u001b[1;33m\u001b[0m\u001b[1;33m\u001b[0m\u001b[0m\n",
      "\u001b[1;31mKeyboardInterrupt\u001b[0m: Interrupted by user"
     ]
    }
   ],
   "source": [
    "while True:\n",
    "    user = input('입력:')\n",
    "    if user == 'reset':\n",
    "        f = open('test.txt','w')\n",
    "        f.close()\n",
    "    f = open('test.txt','a')\n",
    "    f.write(user)\n",
    "    f.write('\\n')\n",
    "    f.close()\n",
    "    \n",
    "\n",
    "#if user == True:\n",
    "    #f = open(user.'w')\n",
    "    "
   ]
  },
  {
   "cell_type": "code",
   "execution_count": 44,
   "metadata": {},
   "outputs": [
    {
     "name": "stdout",
     "output_type": "stream",
     "text": [
      "['life', 'is', 'too', 'long']\n"
     ]
    },
    {
     "ename": "TypeError",
     "evalue": "write() argument must be str, not list",
     "output_type": "error",
     "traceback": [
      "\u001b[1;31m---------------------------------------------------------------------------\u001b[0m",
      "\u001b[1;31mTypeError\u001b[0m                                 Traceback (most recent call last)",
      "\u001b[1;32m<ipython-input-44-4fce6bf4d7e1>\u001b[0m in \u001b[0;36m<module>\u001b[1;34m\u001b[0m\n\u001b[0;32m      8\u001b[0m \u001b[1;33m\u001b[0m\u001b[0m\n\u001b[0;32m      9\u001b[0m \u001b[0mf\u001b[0m \u001b[1;33m=\u001b[0m \u001b[0mopen\u001b[0m\u001b[1;33m(\u001b[0m\u001b[1;34m'test.txt'\u001b[0m\u001b[1;33m,\u001b[0m\u001b[1;34m'w'\u001b[0m\u001b[1;33m)\u001b[0m\u001b[1;33m\u001b[0m\u001b[1;33m\u001b[0m\u001b[0m\n\u001b[1;32m---> 10\u001b[1;33m \u001b[0mf\u001b[0m\u001b[1;33m.\u001b[0m\u001b[0mwrite\u001b[0m\u001b[1;33m(\u001b[0m\u001b[0mdata\u001b[0m\u001b[1;33m)\u001b[0m\u001b[1;33m\u001b[0m\u001b[1;33m\u001b[0m\u001b[0m\n\u001b[0m\u001b[0;32m     11\u001b[0m \u001b[0mf\u001b[0m\u001b[1;33m.\u001b[0m\u001b[0mclose\u001b[0m\u001b[1;33m(\u001b[0m\u001b[1;33m)\u001b[0m\u001b[1;33m\u001b[0m\u001b[1;33m\u001b[0m\u001b[0m\n\u001b[0;32m     12\u001b[0m \u001b[1;33m\u001b[0m\u001b[0m\n",
      "\u001b[1;31mTypeError\u001b[0m: write() argument must be str, not list"
     ]
    }
   ],
   "source": [
    "\n",
    "f = open('test.txt','r')\n",
    "data = f.read()\n",
    "f.close()\n",
    "\n",
    "data = data.split()\n",
    "data[3] = 'long'\n",
    "print(data)\n",
    "\n",
    "f = open('test.txt','w')\n",
    "f.write(data)\n",
    "f.close()\n",
    "\n",
    "#f = open('test.txt','r')\n",
    "#f.read()\n",
    "#print(f)\n",
    "#f.close()\n"
   ]
  },
  {
   "cell_type": "code",
   "execution_count": 9,
   "metadata": {},
   "outputs": [
    {
     "name": "stdout",
     "output_type": "stream",
     "text": [
      "7\n"
     ]
    }
   ],
   "source": [
    "result1 = 0\n",
    "result2 = 0\n",
    "\n",
    "def add1(num):\n",
    "    global result1 \n",
    "    result1 += num\n",
    "    return result1\n",
    "\n",
    "def add2(num):\n",
    "    global result2 \n",
    "    result2 += num\n",
    "    return result2\n",
    "\n",
    "a = add1(2)\n",
    "a2 = add1(3)\n",
    "b = add2(3)\n",
    "b2 = add2(2)\n",
    "print(a+a2)"
   ]
  },
  {
   "cell_type": "code",
   "execution_count": 26,
   "metadata": {},
   "outputs": [],
   "source": [
    "class calcul:\n",
    "    \n",
    "    def __init(self):\n",
    "        self.result = 0\n",
    "    \n",
    "    def add(self,*num):\n",
    "        for i in num:\n",
    "            self.result += i\n",
    "            return self.result\n",
    "    \n",
    "a1 = calcul()\n",
    "#a1.add(4,3,3)\n",
    "#a2 = calcul()\n",
    "\n",
    "class cookie:\n",
    "    pass\n",
    "\n",
    "a = cookie()\n",
    "b = cookie()"
   ]
  },
  {
   "cell_type": "code",
   "execution_count": 1,
   "metadata": {},
   "outputs": [
    {
     "ename": "TypeError",
     "evalue": "__init__() missing 2 required positional arguments: 'num1' and 'num2'",
     "output_type": "error",
     "traceback": [
      "\u001b[1;31m---------------------------------------------------------------------------\u001b[0m",
      "\u001b[1;31mTypeError\u001b[0m                                 Traceback (most recent call last)",
      "\u001b[1;32m<ipython-input-1-2d93c355bf01>\u001b[0m in \u001b[0;36m<module>\u001b[1;34m\u001b[0m\n\u001b[0;32m     37\u001b[0m         \u001b[1;32melse\u001b[0m\u001b[1;33m:\u001b[0m\u001b[1;33m\u001b[0m\u001b[1;33m\u001b[0m\u001b[0m\n\u001b[0;32m     38\u001b[0m             \u001b[1;32mreturn\u001b[0m \u001b[0mself\u001b[0m\u001b[1;33m.\u001b[0m\u001b[0mnum1\u001b[0m \u001b[1;33m/\u001b[0m \u001b[0mself\u001b[0m\u001b[1;33m.\u001b[0m\u001b[0mnum2\u001b[0m\u001b[1;33m\u001b[0m\u001b[1;33m\u001b[0m\u001b[0m\n\u001b[1;32m---> 39\u001b[1;33m \u001b[0ma\u001b[0m \u001b[1;33m=\u001b[0m \u001b[0mMoreFCal\u001b[0m\u001b[1;33m(\u001b[0m\u001b[1;33m)\u001b[0m\u001b[1;33m\u001b[0m\u001b[1;33m\u001b[0m\u001b[0m\n\u001b[0m\u001b[0;32m     40\u001b[0m \u001b[0mb\u001b[0m \u001b[1;33m=\u001b[0m \u001b[0mSafeCal\u001b[0m\u001b[1;33m(\u001b[0m\u001b[1;33m)\u001b[0m\u001b[1;33m\u001b[0m\u001b[1;33m\u001b[0m\u001b[0m\n\u001b[0;32m     41\u001b[0m \u001b[1;33m\u001b[0m\u001b[0m\n",
      "\u001b[1;31mTypeError\u001b[0m: __init__() missing 2 required positional arguments: 'num1' and 'num2'"
     ]
    }
   ],
   "source": [
    "class FourCal:\n",
    "    def __init__(self,num1,num2):\n",
    "        self.num1 = num1\n",
    "        self.num2 = num2\n",
    "    \n",
    "    def setdata(self,num1,num2):\n",
    "        self.num1 = num1\n",
    "        self.num2 = num2\n",
    "        \n",
    "    def add(self):\n",
    "        result = self.num1 + self.num2\n",
    "        return result\n",
    "    \n",
    "    def sub(self):\n",
    "        result = self.num1 - self.num2\n",
    "        return result\n",
    "    \n",
    "    def mul(self):\n",
    "        result = self.num1 * self.num2\n",
    "        return result\n",
    "    \n",
    "    def div(self):\n",
    "        result = self.num1 / self.num2\n",
    "        return result\n",
    "a = FourCal(3,4)        \n",
    "a.add()\n",
    "a.mul()\n",
    "\n",
    "class MoreFCal(FourCal):\n",
    "    def pow(self):\n",
    "        result = self.num1 ** self.num2\n",
    "        return result\n",
    "class SafeCal(MoreFCal):\n",
    "    def div(self):\n",
    "        if self.num2 == 0 :\n",
    "            return 0\n",
    "        else:\n",
    "            return self.num1 / self.num2\n",
    "a = MoreFCal()\n",
    "b = SafeCal()\n",
    "\n",
    "a.mul()\n",
    "#a.pow()\n",
    "b.add()\n",
    "b.div()\n"
   ]
  },
  {
   "cell_type": "markdown",
   "metadata": {},
   "source": []
  },
  {
   "cell_type": "code",
   "execution_count": 4,
   "metadata": {},
   "outputs": [
    {
     "data": {
      "text/plain": [
       "5"
      ]
     },
     "execution_count": 4,
     "metadata": {},
     "output_type": "execute_result"
    }
   ],
   "source": [
    "def add(a,b):\n",
    "    result = a + b\n",
    "    return result\n",
    "def sub(a,b):\n",
    "    return a - b\n",
    "\n",
    "#import modtest\n",
    "#print(modtest.add(3,4)\n",
    "      \n",
    "from modtest import add\n",
    "add(2,3)"
   ]
  },
  {
   "cell_type": "code",
   "execution_count": 10,
   "metadata": {},
   "outputs": [
    {
     "data": {
      "text/plain": [
       "12.56"
      ]
     },
     "execution_count": 10,
     "metadata": {},
     "output_type": "execute_result"
    }
   ],
   "source": [
    "import modetest2\n",
    "a = modetest2.Math()\n",
    "modetest2.add(3,5)\n",
    "a.solve(2)\n",
    "\n",
    "#sub(6,7)"
   ]
  },
  {
   "cell_type": "code",
   "execution_count": 2,
   "metadata": {
    "scrolled": true
   },
   "outputs": [
    {
     "ename": "ModuleNotFoundError",
     "evalue": "No module named 'game'",
     "output_type": "error",
     "traceback": [
      "\u001b[1;31m---------------------------------------------------------------------------\u001b[0m",
      "\u001b[1;31mModuleNotFoundError\u001b[0m                       Traceback (most recent call last)",
      "\u001b[1;32m<ipython-input-2-344a3962c43c>\u001b[0m in \u001b[0;36m<module>\u001b[1;34m\u001b[0m\n\u001b[1;32m----> 1\u001b[1;33m \u001b[1;32mimport\u001b[0m \u001b[0mgame\u001b[0m\u001b[1;33m.\u001b[0m\u001b[0msound\u001b[0m\u001b[1;33m.\u001b[0m\u001b[0mecho\u001b[0m\u001b[1;33m\u001b[0m\u001b[1;33m\u001b[0m\u001b[0m\n\u001b[0m\u001b[0;32m      2\u001b[0m \u001b[0mgame\u001b[0m\u001b[1;33m.\u001b[0m\u001b[0msound\u001b[0m\u001b[1;33m.\u001b[0m\u001b[0mecho\u001b[0m\u001b[1;33m.\u001b[0m\u001b[0mecho_test\u001b[0m\u001b[1;33m(\u001b[0m\u001b[1;33m)\u001b[0m\u001b[1;33m\u001b[0m\u001b[1;33m\u001b[0m\u001b[0m\n",
      "\u001b[1;31mModuleNotFoundError\u001b[0m: No module named 'game'"
     ]
    }
   ],
   "source": [
    "import game.sound.echo\n",
    "game.sound.echo.echo_test()\n"
   ]
  },
  {
   "cell_type": "markdown",
   "metadata": {},
   "source": [
    "### 예외처리"
   ]
  },
  {
   "cell_type": "code",
   "execution_count": 5,
   "metadata": {},
   "outputs": [
    {
     "name": "stdout",
     "output_type": "stream",
     "text": [
      "list index out of range\n"
     ]
    }
   ],
   "source": [
    "try:\n",
    "    a=[1,2,3]\n",
    "    a[5]\n",
    "except IndexError as e:\n",
    "    print(e)\n",
    "    \n"
   ]
  },
  {
   "cell_type": "code",
   "execution_count": 12,
   "metadata": {},
   "outputs": [],
   "source": [
    "# #f = open('foo.txt','w')\n",
    "# try:\n",
    "#      f = open('foo.txt','w')\n",
    "# finally:\n",
    "#      f.close()\n",
    "try:\n",
    "    a = [1,2]\n",
    "    print(a[3])\n",
    "    4/0\n",
    "    \n",
    "except ZeroDivisionError as e:\n",
    "    print(e)\n",
    "    \n",
    "except IndexError as e:\n",
    "    pass"
   ]
  },
  {
   "cell_type": "code",
   "execution_count": 19,
   "metadata": {},
   "outputs": [],
   "source": [
    "class bird:\n",
    "    def fly(self):\n",
    "        print('can fly')\n",
    "        raise NotImplementedError\n",
    "        \n",
    "class eagle(bird):\n",
    "    def fly(bird):\n",
    "        pass\n",
    "       # print('very fast')\n",
    "        \n",
    "a = eagle()\n",
    "a.fly()"
   ]
  },
  {
   "cell_type": "code",
   "execution_count": 38,
   "metadata": {},
   "outputs": [
    {
     "name": "stdout",
     "output_type": "stream",
     "text": [
      "허용되지 않은 오류\n"
     ]
    }
   ],
   "source": [
    "class MyError(Exception):\n",
    "    def __str__(self):\n",
    "        return '허용되지 않은 오류'\n",
    "\n",
    "def MyNick(nick):\n",
    "    if nick == '바보':\n",
    "        raise MyError()\n",
    "    print(nick)\n",
    "\n",
    "try:\n",
    "    MyNick('바보')\n",
    "    MyNick('천사')\n",
    "    MyNick('라잉')\n",
    "\n",
    "except MyError as e:\n",
    "    print(e)"
   ]
  },
  {
   "cell_type": "code",
   "execution_count": 40,
   "metadata": {},
   "outputs": [
    {
     "data": {
      "text/plain": [
       "True"
      ]
     },
     "execution_count": 40,
     "metadata": {},
     "output_type": "execute_result"
    }
   ],
   "source": [
    "all ([1,2,0])\n",
    "any ([1,2,0])"
   ]
  },
  {
   "cell_type": "code",
   "execution_count": 4,
   "metadata": {},
   "outputs": [
    {
     "name": "stdout",
     "output_type": "stream",
     "text": [
      "(0, 0)\n",
      "(1, 1)\n",
      "(2, 2)\n",
      "(3, 3)\n",
      "(4, 4)\n",
      "(5, 5)\n",
      "(6, 6)\n",
      "(7, 7)\n",
      "(8, 8)\n",
      "(9, 9)\n",
      "[1, 2, 3, 4, 5, 6]\n"
     ]
    },
    {
     "data": {
      "text/plain": [
       "True"
      ]
     },
     "execution_count": 4,
     "metadata": {},
     "output_type": "execute_result"
    }
   ],
   "source": [
    "chr(48)\n",
    "dir([1])\n",
    "\n",
    "for i in enumerate(range(10)):\n",
    "    print(i)\n",
    "    \n",
    "type(eval('1+3'))\n",
    "\n",
    "def positive(i):\n",
    "    return i>0\n",
    "\n",
    "print(list(filter(positive,[1,2,3,4,5,6,0])))\n",
    "\n",
    "a = (lambda i:i>0,[1,2,3,4,5,6,0])\n",
    "\n",
    "class man:\n",
    "    pass\n",
    "\n",
    "b = man()\n",
    "\n",
    "isinstance(b, man)"
   ]
  },
  {
   "cell_type": "code",
   "execution_count": 23,
   "metadata": {},
   "outputs": [
    {
     "data": {
      "text/plain": [
       "10"
      ]
     },
     "execution_count": 23,
     "metadata": {},
     "output_type": "execute_result"
    }
   ],
   "source": [
    "def twotimes(numlist):\n",
    "    result = []\n",
    "    for num in numlist:\n",
    "        result.append(num*2)\n",
    "    return result\n",
    "\n",
    "twotimes([1,2,3,4,5])\n",
    "\n",
    "def ttimes(num):\n",
    "    return num*2\n",
    "\n",
    "list(map(ttimes,[1,2,3,4,5]))\n",
    "\n",
    "list(map(lambda a : a*2,[1,2,3,4,5]))\n",
    "\n",
    "sorted([3,1,2,4])\n",
    "a = (1,2,3,4)\n",
    "#a.sort()\n",
    "sum(a)"
   ]
  },
  {
   "cell_type": "code",
   "execution_count": 3,
   "metadata": {},
   "outputs": [
    {
     "name": "stdout",
     "output_type": "stream",
     "text": [
      "['C:\\\\Users\\\\leewy\\\\anaconda3\\\\lib\\\\site-packages\\\\ipykernel_launcher.py', '-f', 'C:\\\\Users\\\\leewy\\\\AppData\\\\Roaming\\\\jupyter\\\\runtime\\\\kernel-7ad27693-05b8-4935-b3ec-6047637e64b3.json']\n"
     ]
    },
    {
     "data": {
      "text/plain": [
       "['C:\\\\lys_code\\\\pythonwork\\\\basic',\n",
       " 'C:\\\\Users\\\\leewy\\\\anaconda3\\\\python38.zip',\n",
       " 'C:\\\\Users\\\\leewy\\\\anaconda3\\\\DLLs',\n",
       " 'C:\\\\Users\\\\leewy\\\\anaconda3\\\\lib',\n",
       " 'C:\\\\Users\\\\leewy\\\\anaconda3',\n",
       " '',\n",
       " 'C:\\\\Users\\\\leewy\\\\anaconda3\\\\lib\\\\site-packages',\n",
       " 'C:\\\\Users\\\\leewy\\\\anaconda3\\\\lib\\\\site-packages\\\\win32',\n",
       " 'C:\\\\Users\\\\leewy\\\\anaconda3\\\\lib\\\\site-packages\\\\win32\\\\lib',\n",
       " 'C:\\\\Users\\\\leewy\\\\anaconda3\\\\lib\\\\site-packages\\\\Pythonwin',\n",
       " 'C:\\\\Users\\\\leewy\\\\anaconda3\\\\lib\\\\site-packages\\\\IPython\\\\extensions',\n",
       " 'C:\\\\Users\\\\leewy\\\\.ipython']"
      ]
     },
     "execution_count": 3,
     "metadata": {},
     "output_type": "execute_result"
    }
   ],
   "source": [
    "import sys\n",
    "\n",
    "print(sys.argv)\n",
    "\n",
    "sys.path\n"
   ]
  },
  {
   "cell_type": "code",
   "execution_count": 19,
   "metadata": {},
   "outputs": [
    {
     "name": "stdout",
     "output_type": "stream",
     "text": [
      "{'a': 'man'}\n"
     ]
    }
   ],
   "source": [
    "import pickle\n",
    "\n",
    "a = open('test.txt','rb')\n",
    "# data = {'a':'man'}\n",
    "# pickle.dump(data,a)\n",
    "# a.close()\n",
    "data = pickle.load(a)\n",
    "print(data)\n"
   ]
  },
  {
   "cell_type": "code",
   "execution_count": 20,
   "metadata": {},
   "outputs": [
    {
     "data": {
      "text/plain": [
       "'C:\\\\lys_code\\\\pythonwork\\\\basic'"
      ]
     },
     "execution_count": 20,
     "metadata": {},
     "output_type": "execute_result"
    }
   ],
   "source": [
    "import os \n",
    "os.getcwd()\n",
    "\n"
   ]
  },
  {
   "cell_type": "code",
   "execution_count": null,
   "metadata": {},
   "outputs": [],
   "source": []
  }
 ],
 "metadata": {
  "kernelspec": {
   "display_name": "Python 3",
   "language": "python",
   "name": "python3"
  },
  "language_info": {
   "codemirror_mode": {
    "name": "ipython",
    "version": 3
   },
   "file_extension": ".py",
   "mimetype": "text/x-python",
   "name": "python",
   "nbconvert_exporter": "python",
   "pygments_lexer": "ipython3",
   "version": "3.8.5"
  }
 },
 "nbformat": 4,
 "nbformat_minor": 4
}
