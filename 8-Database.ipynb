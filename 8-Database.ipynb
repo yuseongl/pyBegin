{
 "cells": [
  {
   "cell_type": "markdown",
   "metadata": {},
   "source": [
    "## 1.파이썬과 MySQL활용\n",
    "\n",
    "+ 파이썬과 mysql을 연결해주는 모듈 : mysqlclient, pymysql\n",
    "    - pip install mysqlclient"
   ]
  },
  {
   "cell_type": "code",
   "execution_count": 1,
   "metadata": {},
   "outputs": [
    {
     "name": "stdout",
     "output_type": "stream",
     "text": [
      "Collecting mysqlclient\n",
      "  Downloading mysqlclient-2.0.3-cp38-cp38-win_amd64.whl (179 kB)\n",
      "Installing collected packages: mysqlclient\n",
      "Successfully installed mysqlclient-2.0.3\n"
     ]
    }
   ],
   "source": [
    "! pip install mysqlclient"
   ]
  },
  {
   "cell_type": "code",
   "execution_count": 2,
   "metadata": {},
   "outputs": [
    {
     "name": "stdout",
     "output_type": "stream",
     "text": [
      "Collecting pymysql\n",
      "  Downloading PyMySQL-1.0.2-py3-none-any.whl (43 kB)\n",
      "Installing collected packages: pymysql\n",
      "Successfully installed pymysql-1.0.2\n"
     ]
    }
   ],
   "source": [
    "! pip install pymysql"
   ]
  },
  {
   "cell_type": "code",
   "execution_count": 86,
   "metadata": {},
   "outputs": [
    {
     "name": "stdout",
     "output_type": "stream",
     "text": [
      "<_mysql.connection open to '127.0.0.1' at 00000193AB71A840>\n"
     ]
    }
   ],
   "source": [
    "# mysqlclient 모듈 사용\n",
    "import MySQLdb\n",
    "\n",
    "conn = MySQLdb.connect(host='127.0.0.1', user='root', password='1111', database='world')\n",
    "print(conn)\n",
    "conn.close()"
   ]
  },
  {
   "cell_type": "code",
   "execution_count": 88,
   "metadata": {},
   "outputs": [],
   "source": [
    "config = {'host':'127.0.0.1','user': 'root','password':'1111','database':'world'}"
   ]
  },
  {
   "cell_type": "code",
   "execution_count": 11,
   "metadata": {},
   "outputs": [
    {
     "data": {
      "text/plain": [
       "<_mysql.connection open to '127.0.0.1' at 00000193AAA77DD0>"
      ]
     },
     "execution_count": 11,
     "metadata": {},
     "output_type": "execute_result"
    }
   ],
   "source": [
    "MySQLdb.connect(**config)"
   ]
  },
  {
   "cell_type": "markdown",
   "metadata": {},
   "source": [
    "#### (1) SELECT"
   ]
  },
  {
   "cell_type": "code",
   "execution_count": 22,
   "metadata": {},
   "outputs": [
    {
     "name": "stdout",
     "output_type": "stream",
     "text": [
      "[(1, 'Kabul', 'AFG', 'Kabol', 1780000), (2, 'Qandahar', 'AFG', 'Qandahar', 237500), (3, 'Herat', 'AFG', 'Herat', 186800), (4, 'Mazar-e-Sharif', 'AFG', 'Balkh', 127800), (5, 'Amsterdam', 'NLD', 'Noord-Holland', 731200), (6, 'Rotterdam', 'NLD', 'Zuid-Holland', 593321), (7, 'Haag', 'NLD', 'Zuid-Holland', 440900), (8, 'Utrecht', 'NLD', 'Utrecht', 234323), (9, 'Eindhoven', 'NLD', 'Noord-Brabant', 201843), (10, 'Tilburg', 'NLD', 'Noord-Brabant', 193238)]\n"
     ]
    }
   ],
   "source": [
    "conn = MySQLdb.connect(**config)\n",
    "\n",
    "sql = 'select * from city limit 10'\n",
    "\n",
    "cur = conn.cursor()\n",
    "cur.execute(sql)\n",
    "\n",
    "# print(cur)\n",
    "# for data in cur:\n",
    "#     #print(data)\n",
    "#     print('%d %s %s %s %d'%data)\n",
    "result = list()\n",
    "for data in cur:\n",
    "    result.append(data)\n",
    "    \n",
    "conn.close()\n",
    "\n",
    "print(result)"
   ]
  },
  {
   "cell_type": "markdown",
   "metadata": {},
   "source": [
    "#### (2) INSERT"
   ]
  },
  {
   "cell_type": "code",
   "execution_count": 44,
   "metadata": {},
   "outputs": [
    {
     "ename": "SyntaxError",
     "evalue": "invalid syntax (<ipython-input-44-6416cb8b5e4e>, line 7)",
     "output_type": "error",
     "traceback": [
      "\u001b[1;36m  File \u001b[1;32m\"<ipython-input-44-6416cb8b5e4e>\"\u001b[1;36m, line \u001b[1;32m7\u001b[0m\n\u001b[1;33m    sql = 'insert into tabltest(empno,ename,sal) values(1,'scott',5000)'\u001b[0m\n\u001b[1;37m                                                           ^\u001b[0m\n\u001b[1;31mSyntaxError\u001b[0m\u001b[1;31m:\u001b[0m invalid syntax\n"
     ]
    }
   ],
   "source": [
    "conn = MySQLdb.connect(**config)\n",
    "\n",
    "sql = 'create table if not exists tabltest(empno int,ename varchar(10),sal int, job varchar(10))'\n",
    "cur = conn.cursor()\n",
    "cur.execute(sql)\n",
    "\n",
    "sql = 'insert into tabltest(empno,ename,sal) values(1,'scott',5000)'\n",
    "cur.execute(sql)\n",
    "conn.commit()\n",
    "\n",
    "conn.close()"
   ]
  },
  {
   "cell_type": "code",
   "execution_count": 55,
   "metadata": {},
   "outputs": [
    {
     "ename": "OperationalError",
     "evalue": "(1366, \"Incorrect integer value: '+str(empno)+' for column 'empno' at row 1\")",
     "output_type": "error",
     "traceback": [
      "\u001b[1;31m---------------------------------------------------------------------------\u001b[0m",
      "\u001b[1;31mOperationalError\u001b[0m                          Traceback (most recent call last)",
      "\u001b[1;32m<ipython-input-55-1ba82b6ff0a2>\u001b[0m in \u001b[0;36m<module>\u001b[1;34m\u001b[0m\n\u001b[0;32m      7\u001b[0m \u001b[1;33m\u001b[0m\u001b[0m\n\u001b[0;32m      8\u001b[0m \u001b[0msql\u001b[0m \u001b[1;33m=\u001b[0m \u001b[1;34m\"insert into tabltest(empno, ename, sal) values('+str(empno)+','\"\u001b[0m\u001b[1;33m+\u001b[0m\u001b[0mename\u001b[0m\u001b[1;33m+\u001b[0m\u001b[1;34m\"','+str(sal)+')\"\u001b[0m\u001b[1;33m\u001b[0m\u001b[1;33m\u001b[0m\u001b[0m\n\u001b[1;32m----> 9\u001b[1;33m \u001b[0mcur\u001b[0m\u001b[1;33m.\u001b[0m\u001b[0mexecute\u001b[0m\u001b[1;33m(\u001b[0m\u001b[0msql\u001b[0m\u001b[1;33m)\u001b[0m\u001b[1;33m\u001b[0m\u001b[1;33m\u001b[0m\u001b[0m\n\u001b[0m\u001b[0;32m     10\u001b[0m \u001b[0mconn\u001b[0m\u001b[1;33m.\u001b[0m\u001b[0mcommit\u001b[0m\u001b[1;33m(\u001b[0m\u001b[1;33m)\u001b[0m\u001b[1;33m\u001b[0m\u001b[1;33m\u001b[0m\u001b[0m\n\u001b[0;32m     11\u001b[0m \u001b[1;33m\u001b[0m\u001b[0m\n",
      "\u001b[1;32m~\\anaconda3\\lib\\site-packages\\MySQLdb\\cursors.py\u001b[0m in \u001b[0;36mexecute\u001b[1;34m(self, query, args)\u001b[0m\n\u001b[0;32m    204\u001b[0m \u001b[1;33m\u001b[0m\u001b[0m\n\u001b[0;32m    205\u001b[0m         \u001b[1;32massert\u001b[0m \u001b[0misinstance\u001b[0m\u001b[1;33m(\u001b[0m\u001b[0mquery\u001b[0m\u001b[1;33m,\u001b[0m \u001b[1;33m(\u001b[0m\u001b[0mbytes\u001b[0m\u001b[1;33m,\u001b[0m \u001b[0mbytearray\u001b[0m\u001b[1;33m)\u001b[0m\u001b[1;33m)\u001b[0m\u001b[1;33m\u001b[0m\u001b[1;33m\u001b[0m\u001b[0m\n\u001b[1;32m--> 206\u001b[1;33m         \u001b[0mres\u001b[0m \u001b[1;33m=\u001b[0m \u001b[0mself\u001b[0m\u001b[1;33m.\u001b[0m\u001b[0m_query\u001b[0m\u001b[1;33m(\u001b[0m\u001b[0mquery\u001b[0m\u001b[1;33m)\u001b[0m\u001b[1;33m\u001b[0m\u001b[1;33m\u001b[0m\u001b[0m\n\u001b[0m\u001b[0;32m    207\u001b[0m         \u001b[1;32mreturn\u001b[0m \u001b[0mres\u001b[0m\u001b[1;33m\u001b[0m\u001b[1;33m\u001b[0m\u001b[0m\n\u001b[0;32m    208\u001b[0m \u001b[1;33m\u001b[0m\u001b[0m\n",
      "\u001b[1;32m~\\anaconda3\\lib\\site-packages\\MySQLdb\\cursors.py\u001b[0m in \u001b[0;36m_query\u001b[1;34m(self, q)\u001b[0m\n\u001b[0;32m    317\u001b[0m         \u001b[0mdb\u001b[0m \u001b[1;33m=\u001b[0m \u001b[0mself\u001b[0m\u001b[1;33m.\u001b[0m\u001b[0m_get_db\u001b[0m\u001b[1;33m(\u001b[0m\u001b[1;33m)\u001b[0m\u001b[1;33m\u001b[0m\u001b[1;33m\u001b[0m\u001b[0m\n\u001b[0;32m    318\u001b[0m         \u001b[0mself\u001b[0m\u001b[1;33m.\u001b[0m\u001b[0m_result\u001b[0m \u001b[1;33m=\u001b[0m \u001b[1;32mNone\u001b[0m\u001b[1;33m\u001b[0m\u001b[1;33m\u001b[0m\u001b[0m\n\u001b[1;32m--> 319\u001b[1;33m         \u001b[0mdb\u001b[0m\u001b[1;33m.\u001b[0m\u001b[0mquery\u001b[0m\u001b[1;33m(\u001b[0m\u001b[0mq\u001b[0m\u001b[1;33m)\u001b[0m\u001b[1;33m\u001b[0m\u001b[1;33m\u001b[0m\u001b[0m\n\u001b[0m\u001b[0;32m    320\u001b[0m         \u001b[0mself\u001b[0m\u001b[1;33m.\u001b[0m\u001b[0m_do_get_result\u001b[0m\u001b[1;33m(\u001b[0m\u001b[0mdb\u001b[0m\u001b[1;33m)\u001b[0m\u001b[1;33m\u001b[0m\u001b[1;33m\u001b[0m\u001b[0m\n\u001b[0;32m    321\u001b[0m         \u001b[0mself\u001b[0m\u001b[1;33m.\u001b[0m\u001b[0m_post_get_result\u001b[0m\u001b[1;33m(\u001b[0m\u001b[1;33m)\u001b[0m\u001b[1;33m\u001b[0m\u001b[1;33m\u001b[0m\u001b[0m\n",
      "\u001b[1;32m~\\anaconda3\\lib\\site-packages\\MySQLdb\\connections.py\u001b[0m in \u001b[0;36mquery\u001b[1;34m(self, query)\u001b[0m\n\u001b[0;32m    257\u001b[0m         \u001b[1;32mif\u001b[0m \u001b[0misinstance\u001b[0m\u001b[1;33m(\u001b[0m\u001b[0mquery\u001b[0m\u001b[1;33m,\u001b[0m \u001b[0mbytearray\u001b[0m\u001b[1;33m)\u001b[0m\u001b[1;33m:\u001b[0m\u001b[1;33m\u001b[0m\u001b[1;33m\u001b[0m\u001b[0m\n\u001b[0;32m    258\u001b[0m             \u001b[0mquery\u001b[0m \u001b[1;33m=\u001b[0m \u001b[0mbytes\u001b[0m\u001b[1;33m(\u001b[0m\u001b[0mquery\u001b[0m\u001b[1;33m)\u001b[0m\u001b[1;33m\u001b[0m\u001b[1;33m\u001b[0m\u001b[0m\n\u001b[1;32m--> 259\u001b[1;33m         \u001b[0m_mysql\u001b[0m\u001b[1;33m.\u001b[0m\u001b[0mconnection\u001b[0m\u001b[1;33m.\u001b[0m\u001b[0mquery\u001b[0m\u001b[1;33m(\u001b[0m\u001b[0mself\u001b[0m\u001b[1;33m,\u001b[0m \u001b[0mquery\u001b[0m\u001b[1;33m)\u001b[0m\u001b[1;33m\u001b[0m\u001b[1;33m\u001b[0m\u001b[0m\n\u001b[0m\u001b[0;32m    260\u001b[0m \u001b[1;33m\u001b[0m\u001b[0m\n\u001b[0;32m    261\u001b[0m     \u001b[1;32mdef\u001b[0m \u001b[0m_bytes_literal\u001b[0m\u001b[1;33m(\u001b[0m\u001b[0mself\u001b[0m\u001b[1;33m,\u001b[0m \u001b[0mbs\u001b[0m\u001b[1;33m)\u001b[0m\u001b[1;33m:\u001b[0m\u001b[1;33m\u001b[0m\u001b[1;33m\u001b[0m\u001b[0m\n",
      "\u001b[1;31mOperationalError\u001b[0m: (1366, \"Incorrect integer value: '+str(empno)+' for column 'empno' at row 1\")"
     ]
    }
   ],
   "source": [
    "empno = 2\n",
    "ename = 'miller'\n",
    "sal = 1300\n",
    "\n",
    "conn = MySQLdb.connect(**config)\n",
    "cur = conn.cursor()\n",
    "\n",
    "sql = \"insert into tabltest(empno, ename, sal) values('+str(empno)+','\"+ename+\"','+str(sal)+')\"\n",
    "cur.execute(sql)\n",
    "conn.commit()\n",
    "\n",
    "conn.close()"
   ]
  },
  {
   "cell_type": "code",
   "execution_count": 47,
   "metadata": {},
   "outputs": [],
   "source": [
    "empno = 3\n",
    "ename = 'tom'\n",
    "sal = 2000\n",
    "\n",
    "conn = MySQLdb.connect(**config)\n",
    "cur = conn.cursor()\n",
    "\n",
    "sql = 'insert into tabltest(empno, ename, sal) values(%s, %s, %s)'\n",
    "sql_data = (str(empno), ename,str(sal))\n",
    "\n",
    "cur.execute(sql,sql_data)\n",
    "conn.commit()\n",
    "\n",
    "conn.close()"
   ]
  },
  {
   "cell_type": "code",
   "execution_count": 51,
   "metadata": {},
   "outputs": [],
   "source": [
    "try: \n",
    "    conn =MySQLdb.connect(**config)\n",
    "    cur = conn.cursor()\n",
    "    \n",
    "    empno = 3\n",
    "    ename = 'tom'\n",
    "    sal = 2000\n",
    "    \n",
    "    sql = 'insert into tabltest(empno, ename, sal) values(%s, %s, %s)'\n",
    "    sql_data = (str(empno), ename,str(sal))\n",
    "\n",
    "    \n",
    "    cur.execute(sql,sql_data)\n",
    "    conn.commit()\n",
    "except Exception as e:\n",
    "    print('erro :',e)\n",
    "finally:\n",
    "    conn.close()\n",
    "        "
   ]
  },
  {
   "cell_type": "code",
   "execution_count": 54,
   "metadata": {},
   "outputs": [
    {
     "ename": "SyntaxError",
     "evalue": "invalid syntax (<ipython-input-54-af4444772650>, line 6)",
     "output_type": "error",
     "traceback": [
      "\u001b[1;36m  File \u001b[1;32m\"<ipython-input-54-af4444772650>\"\u001b[1;36m, line \u001b[1;32m6\u001b[0m\n\u001b[1;33m    sql = 'insert into tabltest(empno,ename,sal) values(3,'jane',1000)'\u001b[0m\n\u001b[1;37m                                                           ^\u001b[0m\n\u001b[1;31mSyntaxError\u001b[0m\u001b[1;31m:\u001b[0m invalid syntax\n"
     ]
    }
   ],
   "source": [
    "# 데이터 여러 개 입력\n",
    "conn = MySQLdb.connect(**config)\n",
    "cur = conn.cursor()\n",
    "\n",
    "for i in range(10):\n",
    "    sql = 'insert into tabltest(empno,ename,sal) values(3,'jane',1000)'\n",
    "    cur.execute(sql)\n",
    "    conn.commit()\n",
    "    \n",
    "conn.close()"
   ]
  },
  {
   "cell_type": "markdown",
   "metadata": {},
   "source": [
    "#### (3) cursor 객체의 fetchall(), fetchmany(),fetchone()\n",
    "    - default는 fetchall()"
   ]
  },
  {
   "cell_type": "code",
   "execution_count": 67,
   "metadata": {},
   "outputs": [
    {
     "name": "stdout",
     "output_type": "stream",
     "text": [
      "(3, 'tom', 2000, None)\n",
      "(3, 'tom', 2000, None)\n",
      "(3, 'jane', 1000, None)\n",
      "(3, 'jane', 1000, None)\n"
     ]
    }
   ],
   "source": [
    "try:\n",
    "    conn = MySQLdb.connect(**config)\n",
    "    cur = conn.cursor()\n",
    "    \n",
    "    cur.execute('select * from tabltest limit 4')\n",
    "    \n",
    "    for i in cur:\n",
    "        print(i)\n",
    "    \n",
    "finally:\n",
    "    conn.close()"
   ]
  },
  {
   "cell_type": "markdown",
   "metadata": {},
   "source": [
    "#### (4) DictCursor\n",
    "\n",
    "+ 필드명을 키값으로 사용 가능"
   ]
  },
  {
   "cell_type": "code",
   "execution_count": 72,
   "metadata": {},
   "outputs": [
    {
     "name": "stdout",
     "output_type": "stream",
     "text": [
      "tom 2000 tom\n",
      "tom 2000 tom\n",
      "jane 1000 jane\n",
      "jane 1000 jane\n",
      "jane 1000 jane\n",
      "jane 1000 jane\n",
      "jane 1000 jane\n",
      "jane 1000 jane\n",
      "jane 1000 jane\n",
      "jane 1000 jane\n",
      "jane 1000 jane\n",
      "jane 1000 jane\n"
     ]
    }
   ],
   "source": [
    "try: \n",
    "    conn = MySQLdb.connect(**config)\n",
    "    cur = conn.cursor(MySQLdb.cursors.DictCursor)\n",
    "    \n",
    "    cur.execute('select * from tabltest')\n",
    "    \n",
    "    for i in cur.fetchall():\n",
    "        print(i[\"ename\"],i[\"sal\"],i['ename'])\n",
    "\n",
    "finally:\n",
    "    conn.close()"
   ]
  },
  {
   "cell_type": "markdown",
   "metadata": {},
   "source": [
    "#### (5) 응용 실습1: csv파일을 db에 저장"
   ]
  },
  {
   "cell_type": "code",
   "execution_count": 73,
   "metadata": {},
   "outputs": [
    {
     "data": {
      "text/plain": [
       "'\\nCREATE TABLE IF NOT EXISTS suppliers(\\n    Supplier_Name    varchar(20),\\n    Invoice_Number   varchar(20),\\n    Part_Number      varchar(20),\\n    Cost             float,\\n    Purchase_Date    date\\n);\\n'"
      ]
     },
     "execution_count": 73,
     "metadata": {},
     "output_type": "execute_result"
    }
   ],
   "source": [
    "'''\n",
    "CREATE TABLE IF NOT EXISTS suppliers(\n",
    "    Supplier_Name    varchar(20),\n",
    "    Invoice_Number   varchar(20),\n",
    "    Part_Number      varchar(20),\n",
    "    Cost             float,\n",
    "    Purchase_Date    date\n",
    ");\n",
    "'''\n"
   ]
  },
  {
   "cell_type": "code",
   "execution_count": 87,
   "metadata": {},
   "outputs": [
    {
     "name": "stdout",
     "output_type": "stream",
     "text": [
      "<_csv.reader object at 0x00000193AF35AFA0>\n"
     ]
    }
   ],
   "source": [
    "import csv\n",
    "\n",
    "file = csv.reader(open(\"input.csv\"))\n",
    "print(file)\n",
    "\n",
    "header = next(file)\n",
    "\n",
    "try:\n",
    "    conn = MySQLdb.connect(**config)\n",
    "    cur = conn.cursor()\n",
    "    \n",
    "    cur.execute('delete from suppliers')\n",
    "    conn.commit()\n",
    "    \n",
    "    for row in file:\n",
    "        #print(row)\n",
    "        cur.execute('insert into suppliers values(%s,%s,%s,%s,%s)',row)\n",
    "        \n",
    "    conn.commit()\n",
    "finally:\n",
    "    conn.close()"
   ]
  },
  {
   "cell_type": "code",
   "execution_count": 91,
   "metadata": {},
   "outputs": [
    {
     "name": "stdout",
     "output_type": "stream",
     "text": [
      "<_csv.reader object at 0x00000193AF394CA0>\n"
     ]
    }
   ],
   "source": [
    "import csv\n",
    "import datetime\n",
    "\n",
    "file = csv.reader(open(\"input.csv\"))\n",
    "print(file)\n",
    "\n",
    "header = next(file)\n",
    "\n",
    "try:\n",
    "    conn = MySQLdb.connect(**config)\n",
    "    cur = conn.cursor()\n",
    "    \n",
    "    cur.execute('delete from suppliers')\n",
    "    conn.commit()\n",
    "    \n",
    "    for row in file:\n",
    "        #print(row)\n",
    "        #cur.execute('insert into suppliers values(%s,%s,%s,%s,%s)',row)\n",
    "        data = []\n",
    "        for col in range(len(header)):\n",
    "            if col == 4:\n",
    "                tmp = datetime.datetime.strptime(row[col],'%Y-%m-%d')\n",
    "                data.append(tmp)\n",
    "            else:\n",
    "                data.append(row[col])\n",
    "                \n",
    "        cur.execute('insert into suppliers values(%s,%s,%s,%s,%s)',data)\n",
    "        \n",
    "    conn.commit()\n",
    "finally:\n",
    "    conn.close()"
   ]
  },
  {
   "cell_type": "markdown",
   "metadata": {},
   "source": [
    "#### (5) DB에서 가져온 데이터를 파일로 저장"
   ]
  },
  {
   "cell_type": "code",
   "execution_count": 97,
   "metadata": {},
   "outputs": [],
   "source": [
    "try:\n",
    "    conn = MySQLdb.connect(**config)\n",
    "    cur = conn.cursor()\n",
    "    \n",
    "    cur.execute('select * from suppliers where cost > 500000')\n",
    "    \n",
    "#     for i in cur:\n",
    "#         print(i)\n",
    "    file = csv.writer(open('output.csv','w'),delimiter=',')\n",
    "    \n",
    "    header = ['Supplier Name','Invoice Number','Part Number','Cost','Purchase Date'] \n",
    "    file.writerow(header)\n",
    "    \n",
    "    for row in cur:\n",
    "        file.writerow(row)\n",
    "    \n",
    "finally:\n",
    "    conn.close()"
   ]
  },
  {
   "cell_type": "markdown",
   "metadata": {},
   "source": [
    "## 2. 파이썬과 SQLite\n",
    "\n",
    "1. 로컬DB로 사용할 수 있는 DBMS\n",
    "    + Access\n",
    "    + SQLite\n",
    "    + Microsoft SQL Server Compact Edition\n",
    "    + Firebird Embedded Server\n",
    "    + H2\n",
    "    + HSQL\n",
    "    + Apache Derby\n",
    "    + ...\n",
    "    \n",
    "2. SQLite\n",
    "    + 파일 기반의 dbms, 저메모리, 빠른 처리속도\n",
    "    + 오픈 소스\n",
    "    + 별도의 db서버 없어도 쉽고 편리하게 사용할 수 있는 embedded sql db엔진\n",
    "    + 안드로이드,아이폰, 등의 스마트 폰에 기본 내장된 db\n",
    "    + 파이썬에도 내장\n",
    "    + 표준sql 지원\n",
    "    ---------------------------------------------\n",
    "    + 컬럼 삭제하거나 변경하는 것등이 제한\n",
    "    + left outer join 만 지원\n",
    "    + 읽기 전용 뷰만 제공\n",
    "    + ...\n",
    "    \n",
    "3. 공식 사이트\n",
    "    + http://www.sqlite.org\n",
    "    \n",
    "4. 클라이언트 툴\n",
    "    + http://www.sqliteexpert.com"
   ]
  },
  {
   "cell_type": "code",
   "execution_count": 1,
   "metadata": {},
   "outputs": [],
   "source": [
    "import sqlite3"
   ]
  },
  {
   "cell_type": "code",
   "execution_count": 100,
   "metadata": {},
   "outputs": [
    {
     "name": "stdout",
     "output_type": "stream",
     "text": [
      "2.6.0\n",
      "3.33.0\n"
     ]
    }
   ],
   "source": [
    "print(sqlite3.version)\n",
    "print(sqlite3.sqlite_version)"
   ]
  },
  {
   "cell_type": "code",
   "execution_count": 101,
   "metadata": {},
   "outputs": [
    {
     "data": {
      "text/plain": [
       "<sqlite3.Connection at 0x193af372300>"
      ]
     },
     "execution_count": 101,
     "metadata": {},
     "output_type": "execute_result"
    }
   ],
   "source": [
    "sqlite3.connect('data/sqlitetest.db')"
   ]
  },
  {
   "cell_type": "code",
   "execution_count": 7,
   "metadata": {},
   "outputs": [
    {
     "name": "stdout",
     "output_type": "stream",
     "text": [
      "('최주현', '하늘과 땅')\n",
      "('최주현', '바다')\n",
      "('유은정', '바다')\n",
      "('박성우', '문')\n",
      "('최주현', '문')\n",
      "('박성우', '천국')\n",
      "('최지은', '천국')\n",
      "('최주현', '천국')\n",
      "('박성우', '고슴도치')\n",
      "('서금동', '나')\n"
     ]
    }
   ],
   "source": [
    "# select\n",
    "\n",
    "conn = sqlite3.connect('data/sqlitetest.db')\n",
    "cur = conn.cursor()\n",
    "\n",
    "cur.execute('select * from tblbook')\n",
    "for i in cur:\n",
    "    print(i)\n",
    "\n",
    "conn.close()"
   ]
  },
  {
   "cell_type": "code",
   "execution_count": 6,
   "metadata": {},
   "outputs": [
    {
     "name": "stdout",
     "output_type": "stream",
     "text": [
      "(1, '홍길동', '2020-12-25')\n",
      "(2, '임꺽정', '2021-04-27')\n"
     ]
    }
   ],
   "source": [
    "conn = sqlite3.connect('data/sqlitetest.db')\n",
    "cur = conn.cursor()\n",
    "\n",
    "sql = ('select * from tblmember')\n",
    "cur.execute(sql)\n",
    "\n",
    "for i in cur:\n",
    "    print(i)"
   ]
  },
  {
   "cell_type": "code",
   "execution_count": 3,
   "metadata": {},
   "outputs": [
    {
     "name": "stdout",
     "output_type": "stream",
     "text": [
      "(1, '홍길동')\n",
      "(1, '홍길동')\n"
     ]
    }
   ],
   "source": [
    "# 자동으로 db 생성하고 테이블 생성\n",
    "\n",
    "conn = sqlite3.connect(\"data/auto.db\")\n",
    "# print(conn)\n",
    "cur = conn.cursor()\n",
    "\n",
    "cur.execute(\"create table if not exists tblmember(id   int, name varchar(10))\")\n",
    "conn.commit()\n",
    "\n",
    "cur.execute(\"insert into tblmember values(1, '홍길동')\")\n",
    "conn.commit()\n",
    "\n",
    "cur.execute(\"select * from tblMember\")\n",
    "for row in cur:\n",
    "    print(row)\n",
    "\n",
    "conn.close()"
   ]
  },
  {
   "cell_type": "code",
   "execution_count": 14,
   "metadata": {},
   "outputs": [
    {
     "name": "stdout",
     "output_type": "stream",
     "text": [
      "('table', 'tblBook', 'tblBook', 2, 'CREATE TABLE tblBook(\\r\\n                          author  varchar(20),\\r\\n                          title varchar(20)\\r\\n\\t)')\n",
      "('table', 'tblMember', 'tblMember', 3, 'CREATE TABLE tblMember(\\r\\n    id   int,\\r\\n    name  varchar(10),\\r\\n    regdate  datetime\\r\\n)')\n",
      "('table', 'suppliers', 'suppliers', 4, 'CREATE TABLE suppliers(\\r\\n    Supplier_Name    varchar(20),\\r\\n    Invoice_Number   varchar(20),\\r\\n    Part_Number      varchar(20),\\r\\n    Cost             float,\\r\\n    Purchase_Date    date\\r\\n)')\n"
     ]
    }
   ],
   "source": [
    "# csv파일을 읽어들여서 db에 저장\n",
    "import csv\n",
    "\n",
    "conn = sqlite3.connect('data/sqlitetest.db')\n",
    "cur = conn.cursor()\n",
    "\n",
    "# 테이블 조회\n",
    "tables = cur.execute(\"select * from sqlite_master where type='table'\")\n",
    "for i in tables:\n",
    "    print(i)\n",
    "    \n",
    "# 파일 불러오기\n",
    "file = csv.reader(open('input.csv','r'),delimiter=',')\n",
    "# for i in file:\n",
    "#     print(i)\n",
    "\n",
    "next(file)\n",
    "\n",
    "for row in file:\n",
    "    cur.execute('insert into suppliers values(?,?,?,?,?)',row)\n",
    "    \n",
    "conn.commit()\n",
    "\n",
    "\n",
    "conn.close()"
   ]
  },
  {
   "cell_type": "code",
   "execution_count": 21,
   "metadata": {},
   "outputs": [
    {
     "name": "stdout",
     "output_type": "stream",
     "text": [
      "<sqlite3.Connection object at 0x0000017E2CBFCA80>\n",
      "('tom', '010-111-1111')\n",
      "('jane', '010-333-3333')\n",
      "('jerry', '010-444-4444')\n",
      "('marry', '010-555-5555')\n"
     ]
    }
   ],
   "source": [
    "################ Memory DB ##################\n",
    "conn = sqlite3.connect(':memory:')\n",
    "print(conn)\n",
    "cur = conn.cursor()\n",
    "\n",
    "cur.execute('create table phonebook(name varchar(10), phonenumber text);')\n",
    "cur.execute('insert into phonebook values(?,?);',('tom','010-111-1111'))\n",
    "\n",
    "# 여러 데이터 한번에 입력\n",
    "datalist = (('jane','010-333-3333'),('jerry','010-444-4444'),('marry','010-555-5555'))\n",
    "cur.executemany('insert into phonebook values(?,?)',datalist)\n",
    "\n",
    "\n",
    "cur.execute('select * from phonebook')\n",
    "for row in cur:\n",
    "    print(row)\n",
    "    \n",
    "# 작업내용 스크립트 저장\n",
    "f = open('dump.sql','w')\n",
    "for line in conn.iterdump():\n",
    "    f.write('{}\\n'.format(line))\n",
    "    \n",
    "f.close()\n",
    "    \n",
    "conn.close()"
   ]
  },
  {
   "cell_type": "code",
   "execution_count": 24,
   "metadata": {},
   "outputs": [
    {
     "name": "stdout",
     "output_type": "stream",
     "text": [
      "BEGIN TRANSACTION;\n",
      "CREATE TABLE phonebook(name varchar(10), phonenumber text);\n",
      "INSERT INTO \"phonebook\" VALUES('tom','010-111-1111');\n",
      "INSERT INTO \"phonebook\" VALUES('jane','010-333-3333');\n",
      "INSERT INTO \"phonebook\" VALUES('jerry','010-444-4444');\n",
      "INSERT INTO \"phonebook\" VALUES('marry','010-555-5555');\n",
      "COMMIT;\n",
      "\n"
     ]
    }
   ],
   "source": [
    "conn = sqlite3.connect('sqlitetest.db')\n",
    "cur = conn.cursor()\n",
    "\n",
    "file = open('dump.sql','r')\n",
    "script = file.read()\n",
    "print(script)\n",
    "\n",
    "cur.executescript(script)\n",
    "\n",
    "conn.close()"
   ]
  },
  {
   "cell_type": "markdown",
   "metadata": {},
   "source": [
    "## 3. 파이썬과 MongoDB연동\n",
    "\n",
    "    + pip install pymongo"
   ]
  },
  {
   "cell_type": "code",
   "execution_count": 1,
   "metadata": {},
   "outputs": [],
   "source": [
    "import pymongo"
   ]
  },
  {
   "cell_type": "markdown",
   "metadata": {},
   "source": [
    "### (1) 서버 연결"
   ]
  },
  {
   "cell_type": "code",
   "execution_count": 2,
   "metadata": {},
   "outputs": [
    {
     "name": "stdout",
     "output_type": "stream",
     "text": [
      "MongoClient(host=['127.0.0.1:27017'], document_class=dict, tz_aware=False, connect=True)\n"
     ]
    }
   ],
   "source": [
    "conn = pymongo.MongoClient('127.0.0.1',27017)\n",
    "print(conn)\n",
    "conn.close()"
   ]
  },
  {
   "cell_type": "markdown",
   "metadata": {},
   "source": [
    "### (2) DB연동"
   ]
  },
  {
   "cell_type": "code",
   "execution_count": 7,
   "metadata": {},
   "outputs": [
    {
     "name": "stdout",
     "output_type": "stream",
     "text": [
      "Database(MongoClient(host=['127.0.0.1:27017'], document_class=dict, tz_aware=False, connect=True), 'tset')\n"
     ]
    }
   ],
   "source": [
    "conn = pymongo.MongoClient('127.0.0.1',27017)\n",
    "\n",
    "#dbname = conn.get_database('test')\n",
    "#dbname = conn.test\n",
    "dbname = conn['tset']\n",
    "print(dbname)\n",
    "\n",
    "conn.close()"
   ]
  },
  {
   "cell_type": "markdown",
   "metadata": {},
   "source": [
    "### (3) collection 연결"
   ]
  },
  {
   "cell_type": "code",
   "execution_count": 8,
   "metadata": {},
   "outputs": [
    {
     "name": "stdout",
     "output_type": "stream",
     "text": [
      "Collection(Database(MongoClient(host=['127.0.0.1:27017'], document_class=dict, tz_aware=False, connect=True), 'test'), 'articles')\n"
     ]
    }
   ],
   "source": [
    "conn = pymongo.MongoClient('127.0.0.1',27017)\n",
    "\n",
    "dbname = conn.test\n",
    "\n",
    "collect = dbname.articles\n",
    "print(collect)\n",
    "\n",
    "conn.close()"
   ]
  },
  {
   "cell_type": "markdown",
   "metadata": {},
   "source": [
    "#### (4) 데이터 입력(1개)"
   ]
  },
  {
   "cell_type": "code",
   "execution_count": 14,
   "metadata": {},
   "outputs": [
    {
     "name": "stdout",
     "output_type": "stream",
     "text": [
      "7\n",
      "{'_id': ObjectId('608a5933e639169ac8b823cb'), 'name': 'Abet', 'age': 19.0, 'score': 10.0}\n",
      "{'_id': ObjectId('608a5933e639169ac8b823cc'), 'name': 'Betty', 'age': 20.0, 'score': 10.0}\n",
      "{'_id': ObjectId('608a5933e639169ac8b823cd'), 'name': 'Charlie', 'age': 23.0, 'skills': ['mongodb', 'nodejs', ['c', 'c++']]}\n",
      "{'_id': ObjectId('608a5933e639169ac8b823ce'), 'name': 'David', 'age': 23.0, 'score': 20.0}\n",
      "{'_id': ObjectId('608a6229e964309c86983daf'), 'name': 'Ellt', 'age': 17.0, 'score': 10.0}\n",
      "{'_id': ObjectId('608b574c22c0a878a4545b85'), 'autor': 'MIke', 'text': 'my first', 'tag': ['mongodb', 'python']}\n",
      "{'_id': ObjectId('608b588822c0a878a4545b87'), 'autor': 'Tom', 'text': 'my first', 'tag': ['mongodb', 'python']}\n"
     ]
    }
   ],
   "source": [
    "conn = pymongo.MongoClient('127.0.0.1',27017)\n",
    "dbname = conn.test\n",
    "collect = dbname.people\n",
    "\n",
    "# data = {'autor':'MIke','text':'my first','tag':['mongodb','python']}\n",
    "# collect.insert_one(data)\n",
    "\n",
    "# 입력하면서 id가져오기\n",
    "# data = {'autor':'Tom','text':'my first','tag':['mongodb','python']}\n",
    "# post = collect.insert_one(data).inserted_id\n",
    "# print(post)\n",
    "\n",
    "print(collect.count_documents({}))\n",
    "\n",
    "for i in collect.find():\n",
    "    print(i)\n",
    "\n",
    "conn.close()"
   ]
  },
  {
   "cell_type": "markdown",
   "metadata": {},
   "source": [
    "#### (5) 데이터 입력하기(여러 개)"
   ]
  },
  {
   "cell_type": "code",
   "execution_count": 16,
   "metadata": {},
   "outputs": [
    {
     "name": "stdout",
     "output_type": "stream",
     "text": [
      "7\n",
      "17\n"
     ]
    }
   ],
   "source": [
    "conn = pymongo.MongoClient('127.0.0.1',27017)\n",
    "dbname = conn.test\n",
    "collect = dbname.people\n",
    "\n",
    "print(collect.count_documents({}))\n",
    "\n",
    "collect.insert_many([{'number' :i} for i in range(10)])\n",
    "\n",
    "print(collect.count_documents({}))\n",
    "\n",
    "conn.close()"
   ]
  },
  {
   "cell_type": "code",
   "execution_count": 17,
   "metadata": {},
   "outputs": [],
   "source": [
    "conn = pymongo.MongoClient('127.0.0.1',27017)\n",
    "dbname = conn.test\n",
    "collect = dbname.people\n",
    "\n",
    "data = list()\n",
    "data.append({'name':'aron','age':20})\n",
    "data.append({'name':'tom','age':21})\n",
    "data.append({'name':'jane','age':22})\n",
    "data.append({'name':'jerry','age':23})\n",
    "\n",
    "collect.insert_many(data)\n",
    "\n",
    "conn.close()"
   ]
  },
  {
   "cell_type": "markdown",
   "metadata": {},
   "source": [
    "#### (6) 조회"
   ]
  },
  {
   "cell_type": "code",
   "execution_count": 22,
   "metadata": {},
   "outputs": [
    {
     "name": "stdout",
     "output_type": "stream",
     "text": [
      "{'_id': ObjectId('608a5933e639169ac8b823cd'), 'name': 'Charlie', 'age': 23.0, 'skills': ['mongodb', 'nodejs', ['c', 'c++']]}\n",
      "{'_id': ObjectId('608a5933e639169ac8b823ce'), 'name': 'David', 'age': 23.0, 'score': 20.0}\n",
      "{'_id': ObjectId('608b5e8922c0a878a4545b9a'), 'name': 'jerry', 'age': 23}\n",
      "-----------------------------------\n",
      "{'_id': ObjectId('608a5933e639169ac8b823cb'), 'name': 'Abet', 'age': 19.0, 'score': 10.0}\n"
     ]
    }
   ],
   "source": [
    "conn = pymongo.MongoClient('127.0.0.1',27017)\n",
    "dbname = conn.test\n",
    "collect = dbname.people\n",
    "\n",
    "# # 전체 조회\n",
    "# for i in collect.find():\n",
    "#     print(i)\n",
    "    \n",
    "# # 나이가 20살인 도큐먼트 조회\n",
    "# for i in collect.find({'age':20}):\n",
    "#     print(i)\n",
    "    \n",
    "# 나이가 23세 이상인 도큐먼트\n",
    "for i in collect.find({'age':{'$gte':23}}):\n",
    "    print(i)\n",
    "\n",
    "print('-----------------------------------')\n",
    "\n",
    "print(collect.find_one())\n",
    "    \n",
    "conn.close()"
   ]
  },
  {
   "cell_type": "markdown",
   "metadata": {},
   "source": [
    "#### (7) 수정"
   ]
  },
  {
   "cell_type": "code",
   "execution_count": 29,
   "metadata": {},
   "outputs": [
    {
     "name": "stdout",
     "output_type": "stream",
     "text": [
      "None\n"
     ]
    }
   ],
   "source": [
    "conn = pymongo.MongoClient('127.0.0.1',27017)\n",
    "dbname = conn.test\n",
    "collect = dbname.people\n",
    "\n",
    "print(collect.find_one({'athor':'tom'}))\n",
    "\n",
    "#collect.update_one()\n",
    "\n",
    "conn.close()"
   ]
  },
  {
   "cell_type": "code",
   "execution_count": null,
   "metadata": {},
   "outputs": [],
   "source": []
  }
 ],
 "metadata": {
  "kernelspec": {
   "display_name": "Python 3",
   "language": "python",
   "name": "python3"
  },
  "language_info": {
   "codemirror_mode": {
    "name": "ipython",
    "version": 3
   },
   "file_extension": ".py",
   "mimetype": "text/x-python",
   "name": "python",
   "nbconvert_exporter": "python",
   "pygments_lexer": "ipython3",
   "version": "3.8.5"
  }
 },
 "nbformat": 4,
 "nbformat_minor": 4
}
