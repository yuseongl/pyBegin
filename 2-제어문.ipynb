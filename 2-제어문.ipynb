{
 "cells": [
  {
   "cell_type": "markdown",
   "metadata": {},
   "source": [
    "## 1. 입력기능"
   ]
  },
  {
   "cell_type": "markdown",
   "metadata": {},
   "source": []
  },
  {
   "cell_type": "code",
   "execution_count": 3,
   "metadata": {},
   "outputs": [
    {
     "name": "stdout",
     "output_type": "stream",
     "text": [
      "당신의 이름은?dd\n",
      "안녕하세요! dd님 어서오세요\n"
     ]
    }
   ],
   "source": [
    "name = input('당신의 이름은?')\n",
    "print('안녕하세요! {}님 어서오세요'.format(name))"
   ]
  },
  {
   "cell_type": "code",
   "execution_count": 12,
   "metadata": {},
   "outputs": [
    {
     "name": "stdout",
     "output_type": "stream",
     "text": [
      "첫번째 :1\n",
      "두번째 :2\n",
      "결과 :  3\n"
     ]
    }
   ],
   "source": [
    "num1 = int(input('첫번째 :'))\n",
    "num2 = int(input('두번째 :'))\n",
    "\n",
    "\n",
    "print('결과 : ', num1 + num2)"
   ]
  },
  {
   "cell_type": "code",
   "execution_count": 13,
   "metadata": {
    "scrolled": false
   },
   "outputs": [
    {
     "ename": "SyntaxError",
     "evalue": "invalid syntax (<ipython-input-13-8385415f4176>, line 1)",
     "output_type": "error",
     "traceback": [
      "\u001b[1;36m  File \u001b[1;32m\"<ipython-input-13-8385415f4176>\"\u001b[1;36m, line \u001b[1;32m1\u001b[0m\n\u001b[1;33m    ***\u001b[0m\n\u001b[1;37m    ^\u001b[0m\n\u001b[1;31mSyntaxError\u001b[0m\u001b[1;31m:\u001b[0m invalid syntax\n"
     ]
    }
   ],
   "source": [
    "***\n",
    "동전 교환 프로그램\n",
    "==================\n",
    "교환할 돈은 얼마입니까? 2763 (엔터키)\n",
    "\n",
    "결과:\n",
    "오백원짜리 ===> 5개\n",
    "백원짜리 ===> 2개\n",
    "오십원짜리 ===> 1개\n",
    "십원짜리 ===> 1개\n",
    "나머지 바꾸지 못한 잔돈 ===> 3원\n",
    "***"
   ]
  },
  {
   "cell_type": "code",
   "execution_count": 64,
   "metadata": {},
   "outputs": [
    {
     "name": "stdout",
     "output_type": "stream",
     "text": [
      "교환할 돈은 얼마입니까? :2763\n",
      "결과:\n",
      "오백원짜리 ===> 5\n",
      "      \n",
      "백원짜리 ===> 1\n",
      "      \n",
      "오십원짜리 ===> 1\n",
      "      \n",
      "십원짜리 ===> 0\n",
      "      \n",
      "잔돈 ===> 0\n"
     ]
    }
   ],
   "source": [
    "num = int(input(\"교환할 돈은 얼마입니까? :\"))\n",
    "result1 = num//500      #500원 개수\n",
    "a = num&500             #500원짜리 뺸 나머지\n",
    "result2 = a//100        #100원 개수\n",
    "b = a&100               #100원짜리 뺀 나머지\n",
    "result3 = b//50         #50원 개수\n",
    "c = b&50                #50원짜리 뺀 나머지\n",
    "result4 = c//10         #10원 개수\n",
    "d = c&10                #10원 짜리\n",
    "\n",
    "#print(result1)\n",
    "print('''결과:\\n오백원짜리 ===> {}\n",
    "      \\n백원짜리 ===> {}\n",
    "      \\n오십원짜리 ===> {}\n",
    "      \\n십원짜리 ===> {}\n",
    "      \\n잔돈 ===> {}'''.format(result1,result2,result3,result4,d))"
   ]
  },
  {
   "cell_type": "markdown",
   "metadata": {},
   "source": [
    "## 2. 제어문\n",
    "\n",
    "    1) 조건문\n",
    "        - if\n",
    "        - swich\n",
    "        \n",
    "    2) 반복문\n",
    "        -while\n",
    "        -for\n",
    "        "
   ]
  },
  {
   "cell_type": "markdown",
   "metadata": {},
   "source": [
    "### (1) if\n",
    "\n",
    "    1) if 조건식:\n",
    "            문장\n",
    "            ...\n",
    "       if 조건식: 문장\n",
    "    \n",
    "    2) if 조건식:\n",
    "            문장\n",
    "            ...\n",
    "       else:\n",
    "            문장\n",
    "            ...\n",
    "            \n",
    "    3) if 조건식:\n",
    "            문장\n",
    "            ...\n",
    "       elif 조건식:\n",
    "            문장\n",
    "            ...\n",
    "       elif 조건식:\n",
    "            ...\n",
    "       (else\n",
    "            문장\n",
    "            ...)\n",
    "            \n",
    "    4) 중첩 조건문(nested)\n",
    "        if 조건문:\n",
    "            문장\n",
    "            ...\n",
    "            if조건식:\n",
    "                문장\n",
    "                ..."
   ]
  },
  {
   "cell_type": "code",
   "execution_count": 51,
   "metadata": {
    "scrolled": true
   },
   "outputs": [
    {
     "name": "stdout",
     "output_type": "stream",
     "text": [
      "숫자 입력:3\n",
      "3 은 홀수입니다!\n"
     ]
    }
   ],
   "source": [
    "# 입력숫자가 짝수,홀수인지 판별하는 프로그램\n",
    "\n",
    "num = int(input('숫자 입력:'))\n",
    "\n",
    "if num % 2 == 0:\n",
    "    print('{}는 짝수입니다!'.format(num))\n",
    "else:\n",
    "    print(num,'은 홀수입니다!')"
   ]
  },
  {
   "cell_type": "code",
   "execution_count": 45,
   "metadata": {
    "scrolled": false
   },
   "outputs": [
    {
     "name": "stdout",
     "output_type": "stream",
     "text": [
      "정답 입력:c\n",
      "오답입니다\n"
     ]
    }
   ],
   "source": [
    "# 입력값이 a,b,c,d이면 정답, 아니면 오답출력 (과제)\n",
    "num = input('정답 입력:')\n",
    "\n",
    "if num == ['c']:\n",
    "    print('정답입니다')\n",
    "else:\n",
    "    print('오답입니다')"
   ]
  },
  {
   "cell_type": "code",
   "execution_count": 7,
   "metadata": {
    "scrolled": true
   },
   "outputs": [
    {
     "name": "stdout",
     "output_type": "stream",
     "text": [
      "입력:a\n",
      "정답\n"
     ]
    }
   ],
   "source": [
    "\n",
    "num = input('입력:')\n",
    "ans = ['a','b','c','d','e']\n",
    "\n",
    "if num in ans:\n",
    "    print('정답')\n",
    "else:\n",
    "    print('오답')"
   ]
  },
  {
   "cell_type": "code",
   "execution_count": 20,
   "metadata": {},
   "outputs": [
    {
     "name": "stdout",
     "output_type": "stream",
     "text": [
      "값 : a\n",
      "오답\n"
     ]
    }
   ],
   "source": [
    "num1 = str(input(\"값 : \"))\n",
    "\n",
    "if num1 == ['a' and 'b' and 'c' and 'd']:\n",
    "    print(\"정답\")\n",
    "else:\n",
    "    print(\"오답\")"
   ]
  },
  {
   "cell_type": "code",
   "execution_count": 28,
   "metadata": {},
   "outputs": [
    {
     "name": "stdout",
     "output_type": "stream",
     "text": [
      "정답 입력:abcd\n",
      "오답입니다\n"
     ]
    }
   ],
   "source": [
    "num = input('정답 입력:')\n",
    "\n",
    "if num in ['a'and'b'and'c'and'd']:\n",
    "    print('정답입니다')\n",
    "else:\n",
    "    print('오답입니다')"
   ]
  },
  {
   "cell_type": "code",
   "execution_count": 46,
   "metadata": {},
   "outputs": [
    {
     "data": {
      "text/plain": [
       "'\\n윤년 계산 프로그램\\n-------------------\\n1) 기원 연수가 4로 나누어 떨어지는 해는 우선 윤년으로 한다.\\n2) 그 중에서 100으로 나누어 떨어지는 해는 평년으로 한다.\\n3) 다만 400으로 나누어 떨어지는 해는 다시 윤년으로 정한다.\\n\\n연도를 입력 : 2019(엔터)\\n결과 : 윤년입니다.(윤년이 아닙니다)\\n'"
      ]
     },
     "execution_count": 46,
     "metadata": {},
     "output_type": "execute_result"
    }
   ],
   "source": [
    "\"\"\"\n",
    "윤년 계산 프로그램\n",
    "-------------------\n",
    "1) 기원 연수가 4로 나누어 떨어지는 해는 우선 윤년으로 한다.\n",
    "2) 그 중에서 100으로 나누어 떨어지는 해는 평년으로 한다.\n",
    "3) 다만 400으로 나누어 떨어지는 해는 다시 윤년으로 정한다.\n",
    "\n",
    "연도를 입력 : 2019(엔터) 2020년이 윤년\n",
    "결과 : 윤년입니다.(윤년이 아닙니다)\n",
    "\"\"\"\n"
   ]
  },
  {
   "cell_type": "code",
   "execution_count": 92,
   "metadata": {},
   "outputs": [
    {
     "name": "stdout",
     "output_type": "stream",
     "text": [
      "연도를 입력 :2019\n",
      "윤년이 아닙니다\n"
     ]
    }
   ],
   "source": [
    "num = int(input('연도를 입력 :'))\n",
    "result1 = num % 4 \n",
    "result2 = num % 100\n",
    "result3 = num%400\n",
    "\n",
    "if result1 == 0:\n",
    "    print('윤년입니다')\n",
    "    if result2 == 0:\n",
    "        print('평년입니다')\n",
    "        if result3 == 0:\n",
    "            print('윤년입니다')\n",
    "else:\n",
    "    print('윤년이 아닙니다')\n",
    "    "
   ]
  },
  {
   "cell_type": "code",
   "execution_count": 49,
   "metadata": {},
   "outputs": [
    {
     "ename": "NameError",
     "evalue": "name 'avg' is not defined",
     "output_type": "error",
     "traceback": [
      "\u001b[1;31m---------------------------------------------------------------------------\u001b[0m",
      "\u001b[1;31mNameError\u001b[0m                                 Traceback (most recent call last)",
      "\u001b[1;32m<ipython-input-49-fef33229cbc7>\u001b[0m in \u001b[0;36m<module>\u001b[1;34m\u001b[0m\n\u001b[0;32m      1\u001b[0m \u001b[1;31m# 다중 if\u001b[0m\u001b[1;33m\u001b[0m\u001b[1;33m\u001b[0m\u001b[1;33m\u001b[0m\u001b[0m\n\u001b[0;32m      2\u001b[0m \u001b[1;33m\u001b[0m\u001b[0m\n\u001b[1;32m----> 3\u001b[1;33m \u001b[1;32mif\u001b[0m \u001b[0mavg\u001b[0m \u001b[1;33m>=\u001b[0m \u001b[1;36m90\u001b[0m\u001b[1;33m:\u001b[0m\u001b[1;33m\u001b[0m\u001b[1;33m\u001b[0m\u001b[0m\n\u001b[0m\u001b[0;32m      4\u001b[0m     \u001b[0mprint\u001b[0m\u001b[1;33m(\u001b[0m\u001b[1;34m'A'\u001b[0m\u001b[1;33m)\u001b[0m\u001b[1;33m\u001b[0m\u001b[1;33m\u001b[0m\u001b[0m\n\u001b[0;32m      5\u001b[0m \u001b[1;32melif\u001b[0m \u001b[0mavg\u001b[0m \u001b[1;33m>=\u001b[0m \u001b[1;36m80\u001b[0m\u001b[1;33m:\u001b[0m\u001b[1;33m\u001b[0m\u001b[1;33m\u001b[0m\u001b[0m\n",
      "\u001b[1;31mNameError\u001b[0m: name 'avg' is not defined"
     ]
    }
   ],
   "source": [
    "# 다중 if\n",
    "\n",
    "if avg >= 90:\n",
    "    print('A')\n",
    "elif avg >= 80:\n",
    "    print('B')\n",
    "else:\n",
    "    print('F')"
   ]
  },
  {
   "cell_type": "code",
   "execution_count": 50,
   "metadata": {},
   "outputs": [
    {
     "data": {
      "text/plain": [
       "'\\n전자 계산기 프로그램(사칙연산)\\n----------------------------------\\n연산자 : +\\n숫자1 : 10\\n숫자2 : 5\\n\\n결과 : 10 + 5 = 15\\n'"
      ]
     },
     "execution_count": 50,
     "metadata": {},
     "output_type": "execute_result"
    }
   ],
   "source": [
    "\"\"\"\n",
    "전자 계산기 프로그램(사칙연산)\n",
    "----------------------------------\n",
    "연산자 : +\n",
    "숫자1 : 10\n",
    "숫자2 : 5\n",
    "\n",
    "결과 : 10 + 5 = 15\n",
    "\"\"\"\n"
   ]
  },
  {
   "cell_type": "code",
   "execution_count": 86,
   "metadata": {},
   "outputs": [
    {
     "name": "stdout",
     "output_type": "stream",
     "text": [
      "연산자 입력 :*\n",
      "숫자1 :3\n",
      "숫자2 :2\n",
      "결과 :3*2 = 6\n"
     ]
    }
   ],
   "source": [
    "a = input('연산자 입력 :')\n",
    "num1 = int(input('숫자1 :'))\n",
    "num2 = int(input('숫자2 :'))\n",
    "\n",
    "if a == '+':\n",
    "    result = num1 + num2\n",
    "    print('결과 :{}{}{} = {}'.format(num1,a,num2,result))\n",
    "elif a == '-':\n",
    "    result = num1 - num2\n",
    "    print('결과 :{}{}{} = {}'.format(num1,a,num2,result))\n",
    "elif a == '*':\n",
    "    result = num1*num2\n",
    "    print('결과 :{}{}{} = {}'.format(num1,a,num2,result))\n",
    "elif a == '%':\n",
    "    result = num1%num2\n",
    "    print('결과 :{}{}{} = {}'.format(num1,a,num2,result))\n",
    "else:\n",
    "    print('지원하지 않는 연산자 입니다')"
   ]
  },
  {
   "cell_type": "code",
   "execution_count": 6,
   "metadata": {},
   "outputs": [
    {
     "name": "stdout",
     "output_type": "stream",
     "text": [
      "b가 제일 크다\n",
      "========================================\n",
      "아이디 입력:leeus96\n",
      "비번:1\n",
      "비번이 틀렸습니다\n"
     ]
    }
   ],
   "source": [
    "# 조건문 중첩\n",
    "\n",
    "a,b,c = 8,10,3\n",
    "\n",
    "if a>b:\n",
    "    if a>c:\n",
    "        print('a가 제일 크다')\n",
    "    else:\n",
    "        print('c가 제일 크다')\n",
    "else:\n",
    "    if b>c:\n",
    "        print('b가 제일 크다')\n",
    "    else:\n",
    "        print('c가 제일 크다')\n",
    "    \n",
    "print('========================================')\n",
    "\n",
    "id = input('아이디 입력:') #\n",
    "pw = input('비번:')\n",
    "\n",
    "if id ==\"leeus96\":\n",
    "    if pw == '1111':\n",
    "        print('로그인 되었습니다')\n",
    "    else:\n",
    "        print('비번이 틀렸습니다')\n",
    "else:\n",
    "        print('아이디가 틀렸습니다')"
   ]
  },
  {
   "cell_type": "code",
   "execution_count": 8,
   "metadata": {},
   "outputs": [
    {
     "data": {
      "text/plain": [
       "8"
      ]
     },
     "execution_count": 8,
     "metadata": {},
     "output_type": "execute_result"
    }
   ],
   "source": [
    "import random\n",
    "\n",
    "random.randint(0,10)"
   ]
  },
  {
   "cell_type": "code",
   "execution_count": 11,
   "metadata": {},
   "outputs": [
    {
     "name": "stdout",
     "output_type": "stream",
     "text": [
      "입력:가위\n",
      "나: 가위\n",
      "상대: 바위 \n",
      "졌습니다.\n"
     ]
    }
   ],
   "source": [
    "# 가위 바위 보 게임\n",
    "import random\n",
    "a = input('입력:')\n",
    "\n",
    "b = random.randint(0,2)\n",
    "\n",
    "if a == '가위':\n",
    "    print('나:',a)\n",
    "    if b == 1:\n",
    "        print('상대: 가위 \\n비겼습니다.')\n",
    "    elif b == 2:\n",
    "        print('상대: 바위 \\n졌습니다.')\n",
    "    elif b == 3:\n",
    "        print('상대: 보 \\n이겼습니다.')\n",
    "if a == '바위':\n",
    "    print('나:',a)\n",
    "    if b == 1:\n",
    "        print('상대: 가위 \\n이겼습니다.')\n",
    "    elif b == 2:\n",
    "        print('상대: 바위 \\n비겼습니다.')\n",
    "    elif b == 3:\n",
    "        print('상대: 보 \\n졌습니다.')\n",
    "if a == '보':\n",
    "    print('나:',a)\n",
    "    if b == 1:\n",
    "        print('상대: 가위 \\n졌습니다.')\n",
    "    elif b == 2:\n",
    "        print('상대: 바위 \\n이겼습니다.')\n",
    "    elif b == 3:\n",
    "        print('상대: 보 \\n비겼습니다.')"
   ]
  },
  {
   "cell_type": "code",
   "execution_count": 15,
   "metadata": {},
   "outputs": [
    {
     "ename": "TypeError",
     "evalue": "random() takes no arguments (3 given)",
     "output_type": "error",
     "traceback": [
      "\u001b[1;31m---------------------------------------------------------------------------\u001b[0m",
      "\u001b[1;31mTypeError\u001b[0m                                 Traceback (most recent call last)",
      "\u001b[1;32m<ipython-input-15-8ec57abfb226>\u001b[0m in \u001b[0;36m<module>\u001b[1;34m\u001b[0m\n\u001b[1;32m----> 1\u001b[1;33m \u001b[0ma\u001b[0m \u001b[1;33m=\u001b[0m \u001b[0mrandom\u001b[0m\u001b[1;33m.\u001b[0m\u001b[0mrandom\u001b[0m\u001b[1;33m(\u001b[0m\u001b[1;34m'가위'\u001b[0m\u001b[1;33m,\u001b[0m\u001b[1;34m'바위'\u001b[0m\u001b[1;33m,\u001b[0m\u001b[1;34m'보'\u001b[0m\u001b[1;33m)\u001b[0m\u001b[1;33m\u001b[0m\u001b[1;33m\u001b[0m\u001b[0m\n\u001b[0m",
      "\u001b[1;31mTypeError\u001b[0m: random() takes no arguments (3 given)"
     ]
    }
   ],
   "source": [
    "a = random.random('가위','바위','보')\n"
   ]
  },
  {
   "cell_type": "markdown",
   "metadata": {},
   "source": [
    "### (2) while\n",
    "\n",
    "+ 문법\n",
    "    \n",
    "    while 조건식:        * 무한반복, 반복횟수 중요\n",
    "        문장\n",
    "        ..."
   ]
  },
  {
   "cell_type": "code",
   "execution_count": 6,
   "metadata": {},
   "outputs": [
    {
     "name": "stdout",
     "output_type": "stream",
     "text": [
      "**********"
     ]
    }
   ],
   "source": [
    "a = 0\n",
    "\n",
    "while a <10:\n",
    "    print('*',end='')\n",
    "    a += 1"
   ]
  },
  {
   "cell_type": "code",
   "execution_count": 15,
   "metadata": {},
   "outputs": [
    {
     "name": "stdout",
     "output_type": "stream",
     "text": [
      "55\n"
     ]
    }
   ],
   "source": [
    "# 1 부터 10까지 합계\n",
    "\n",
    "a = 0\n",
    "b = 0\n",
    "while a < 11:\n",
    "    b = b + a\n",
    "    a = a + 1\n",
    "    \n",
    "print(b)"
   ]
  },
  {
   "cell_type": "markdown",
   "metadata": {},
   "source": [
    "### (3) for\n",
    "\n",
    "+ 문법\n",
    "\n",
    "    for 변수 in 집합자료형\n",
    "        문장\n",
    "        ..."
   ]
  },
  {
   "cell_type": "code",
   "execution_count": 24,
   "metadata": {},
   "outputs": [
    {
     "name": "stdout",
     "output_type": "stream",
     "text": [
      "10\n",
      "20\n",
      "이유성\n",
      "3.14\n",
      "True\n",
      "================================\n",
      "10\n",
      "20\n",
      "이유성\n",
      "3.14\n",
      "True\n",
      "================================\n",
      "**********"
     ]
    }
   ],
   "source": [
    "data = [10,20,'이유성',3.14,True]\n",
    "cnt = 0\n",
    "\n",
    "while cnt < len(data):\n",
    "    print(data[cnt])\n",
    "    cnt += 1\n",
    "    \n",
    "print('================================')\n",
    "for a in data:\n",
    "    print(a)\n",
    "\n",
    "print('================================')\n",
    "#for a in [1,1,1,1,1,1,1,1,1,1]:\n",
    "    #print('*',end='')\n",
    "\n",
    "for a in range(10):\n",
    "    print('*',end=\"\")"
   ]
  },
  {
   "cell_type": "markdown",
   "metadata": {},
   "source": [
    "#### (4) 반복문 강제 종료\n",
    "\n",
    "+ break: 완전 종료\n",
    "+ continue:일시 종료"
   ]
  },
  {
   "cell_type": "code",
   "execution_count": 31,
   "metadata": {},
   "outputs": [
    {
     "name": "stdout",
     "output_type": "stream",
     "text": [
      "0\n",
      "1\n",
      "2\n",
      "3\n",
      "4\n",
      "********************"
     ]
    }
   ],
   "source": [
    "for v in range(10):\n",
    "    if v == 5:\n",
    "        break\n",
    "    print(v)\n",
    "\n",
    "cnt = 0\n",
    "while True:\n",
    "    if cnt == 20:\n",
    "        break\n",
    "    print('*',end='')\n",
    "    cnt += 1"
   ]
  },
  {
   "cell_type": "markdown",
   "metadata": {},
   "source": [
    "#### (5) 반복문의 중첩\n"
   ]
  },
  {
   "cell_type": "code",
   "execution_count": 7,
   "metadata": {},
   "outputs": [
    {
     "name": "stdout",
     "output_type": "stream",
     "text": [
      "**********\n",
      "**********\n",
      "**********\n"
     ]
    }
   ],
   "source": [
    "for v1 in range(3):\n",
    "    for v2 in range(10):\n",
    "        print(\"*\",end='')\n",
    "    print('')\n",
    "    "
   ]
  },
  {
   "cell_type": "markdown",
   "metadata": {},
   "source": [
    "###### a = 1\n",
    "for v1 in range(6):\n",
    "    for v2 in range(v1):\n",
    "        print(\"*\",end = '')\n",
    "        \n",
    "    print()"
   ]
  },
  {
   "cell_type": "code",
   "execution_count": 42,
   "metadata": {},
   "outputs": [
    {
     "ename": "IndentationError",
     "evalue": "unindent does not match any outer indentation level (<tokenize>, line 3)",
     "output_type": "error",
     "traceback": [
      "\u001b[1;36m  File \u001b[1;32m\"<tokenize>\"\u001b[1;36m, line \u001b[1;32m3\u001b[0m\n\u001b[1;33m    ***\u001b[0m\n\u001b[1;37m    ^\u001b[0m\n\u001b[1;31mIndentationError\u001b[0m\u001b[1;31m:\u001b[0m unindent does not match any outer indentation level\n"
     ]
    }
   ],
   "source": [
    "***\n",
    "        *\n",
    "       ***\n",
    "      *****\n",
    "     *******\n",
    "    *********"
   ]
  },
  {
   "cell_type": "code",
   "execution_count": 27,
   "metadata": {},
   "outputs": [
    {
     "name": "stdout",
     "output_type": "stream",
     "text": [
      "      *\n",
      "     ***\n",
      "    *****\n",
      "   *******\n",
      "  *********\n",
      "    *     \n",
      "   ***    \n",
      "  *****   \n",
      " *******  \n",
      "********* \n"
     ]
    }
   ],
   "source": [
    "a = 6\n",
    "for j in range(10):\n",
    "    if j % 2 != 0:\n",
    "        a = a -1\n",
    "        print(' '*a,'*'*j)\n",
    "\n",
    "a = 6\n",
    "for i in range(10):\n",
    "    if i % 2 != 0:\n",
    "        print('{:^10}'.format('*'*i))"
   ]
  },
  {
   "cell_type": "markdown",
   "metadata": {},
   "source": [
    "#### (6) List Comprehension"
   ]
  },
  {
   "cell_type": "code",
   "execution_count": 2,
   "metadata": {
    "scrolled": true
   },
   "outputs": [
    {
     "name": "stdout",
     "output_type": "stream",
     "text": [
      "[0, 1, 2, 3, 4, 5, 6, 7, 8, 9]\n",
      "[0, 1, 2, 3, 4, 5, 6, 7, 8, 9]\n",
      "[0, 2, 4, 6, 8]\n"
     ]
    },
    {
     "ename": "NameError",
     "evalue": "name 'c1' is not defined",
     "output_type": "error",
     "traceback": [
      "\u001b[1;31m---------------------------------------------------------------------------\u001b[0m",
      "\u001b[1;31mNameError\u001b[0m                                 Traceback (most recent call last)",
      "\u001b[1;32m<ipython-input-2-e9ca003689b3>\u001b[0m in \u001b[0;36m<module>\u001b[1;34m\u001b[0m\n\u001b[0;32m     20\u001b[0m \u001b[1;31m#c2 = [\"d\",\"e\",\"a\"]\u001b[0m\u001b[1;33m\u001b[0m\u001b[1;33m\u001b[0m\u001b[1;33m\u001b[0m\u001b[0m\n\u001b[0;32m     21\u001b[0m \u001b[1;33m\u001b[0m\u001b[0m\n\u001b[1;32m---> 22\u001b[1;33m \u001b[0mresult\u001b[0m \u001b[1;33m=\u001b[0m \u001b[1;33m[\u001b[0m\u001b[0mi\u001b[0m\u001b[1;33m+\u001b[0m\u001b[0mj\u001b[0m \u001b[1;32mfor\u001b[0m \u001b[0mi\u001b[0m \u001b[1;32min\u001b[0m \u001b[0mc1\u001b[0m \u001b[1;32mfor\u001b[0m \u001b[0mj\u001b[0m \u001b[1;32min\u001b[0m \u001b[0mc2\u001b[0m \u001b[1;32mif\u001b[0m \u001b[0mi\u001b[0m\u001b[1;33m!=\u001b[0m\u001b[0mj\u001b[0m\u001b[1;33m]\u001b[0m\u001b[1;33m\u001b[0m\u001b[1;33m\u001b[0m\u001b[0m\n\u001b[0m\u001b[0;32m     23\u001b[0m \u001b[0mprint\u001b[0m\u001b[1;33m(\u001b[0m\u001b[0mresult\u001b[0m\u001b[1;33m)\u001b[0m\u001b[1;33m\u001b[0m\u001b[1;33m\u001b[0m\u001b[0m\n",
      "\u001b[1;31mNameError\u001b[0m: name 'c1' is not defined"
     ]
    }
   ],
   "source": [
    "# [0~9]\n",
    "result = []\n",
    "\n",
    "for v1 in range(10):\n",
    "    result.append(v1)\n",
    "    \n",
    "print(result)\n",
    "\n",
    "result = [i for i in range(10)]\n",
    "print(result)\n",
    "\n",
    "###################################\n",
    "\n",
    "result = [i for i in range(10) if i%2 == 0]\n",
    "print(result)\n",
    "\n",
    "###################################\n",
    "\n",
    "#c1 = ['a','b','c']\n",
    "#c2 = [\"d\",\"e\",\"a\"]\n",
    "\n",
    "result = [i+j for i in c1 for j in c2 if i!=j]\n",
    "print(result)"
   ]
  },
  {
   "cell_type": "code",
   "execution_count": 52,
   "metadata": {},
   "outputs": [
    {
     "name": "stdout",
     "output_type": "stream",
     "text": [
      "['ad', 'ae', 'aa', 'bd', 'be', 'ba', 'cd', 'ce', 'ca']\n"
     ]
    }
   ],
   "source": [
    "c1 = ['a','b','c']\n",
    "c2 = [\"d\",\"e\",\"a\"]\n",
    "\n",
    "result = []\n",
    "for row in c1:\n",
    "    for col in c2:\n",
    "        result.append(row + col)\n",
    "        \n",
    "print(result)\n"
   ]
  },
  {
   "cell_type": "code",
   "execution_count": 94,
   "metadata": {},
   "outputs": [
    {
     "name": "stdout",
     "output_type": "stream",
     "text": [
      "[['ad'], ['ae'], ['bd'], ['be'], ['ba'], ['cd'], ['ce'], ['ca']]\n",
      "[['ad', 'bd', 'cd'], ['ae', 'be', 'ce'], ['aa', 'ba', 'ca']]\n",
      "[['ad', 'ae', 'aa'], ['bd', 'be', 'ba'], ['cd', 'ce', 'ca']]\n"
     ]
    }
   ],
   "source": [
    "result = [[i+j] for i in c1 for j in c2 if i!=j]\n",
    "print(result)\n",
    "\n",
    "result = [[i+j for i in c1 ]for j in c2 ]\n",
    "print(result)\n",
    "\n",
    "temp = []\n",
    "result = []\n",
    "for i in c1:\n",
    "    for j in c2:\n",
    "        result.append(i+ j)\n",
    "    temp.append(result)\n",
    "    result = []\n",
    "    \n",
    "print(temp)"
   ]
  },
  {
   "cell_type": "code",
   "execution_count": 13,
   "metadata": {},
   "outputs": [
    {
     "name": "stdout",
     "output_type": "stream",
     "text": [
      "[[], [], [], [], [], [], [], []]\n"
     ]
    }
   ],
   "source": [
    "word = 'some where over the rainbow way up high'\n",
    "\n",
    "result = word.split()\n",
    "result2 = word.upper().split()\n",
    "\n",
    "a = []\n",
    "b = []\n",
    "for i in result:\n",
    "    for j in result2:\n",
    "        if i == j:\n",
    "            num = str(len(i))\n",
    "           # a.append(i)\n",
    "            #a.append(j)\n",
    "            a.append(num+i+j)\n",
    "    a = []       \n",
    "    b.append(a)\n",
    "print(b)\n",
    " \n"
   ]
  },
  {
   "cell_type": "code",
   "execution_count": 8,
   "metadata": {},
   "outputs": [
    {
     "ename": "TypeError",
     "evalue": "append() takes exactly one argument (2 given)",
     "output_type": "error",
     "traceback": [
      "\u001b[1;31m---------------------------------------------------------------------------\u001b[0m",
      "\u001b[1;31mTypeError\u001b[0m                                 Traceback (most recent call last)",
      "\u001b[1;32m<ipython-input-8-1285dec3e2c0>\u001b[0m in \u001b[0;36m<module>\u001b[1;34m\u001b[0m\n\u001b[0;32m      6\u001b[0m     \u001b[0mnum\u001b[0m \u001b[1;33m=\u001b[0m \u001b[0mlen\u001b[0m\u001b[1;33m(\u001b[0m\u001b[0mi\u001b[0m\u001b[1;33m)\u001b[0m\u001b[1;33m\u001b[0m\u001b[1;33m\u001b[0m\u001b[0m\n\u001b[0;32m      7\u001b[0m     \u001b[0mi\u001b[0m\u001b[1;33m.\u001b[0m\u001b[0mupper\u001b[0m\u001b[1;33m(\u001b[0m\u001b[1;33m)\u001b[0m\u001b[1;33m\u001b[0m\u001b[1;33m\u001b[0m\u001b[0m\n\u001b[1;32m----> 8\u001b[1;33m     \u001b[0ma\u001b[0m\u001b[1;33m.\u001b[0m\u001b[0mappend\u001b[0m\u001b[1;33m(\u001b[0m\u001b[0mi\u001b[0m\u001b[1;33m,\u001b[0m\u001b[0mnum\u001b[0m\u001b[1;33m)\u001b[0m\u001b[1;33m\u001b[0m\u001b[1;33m\u001b[0m\u001b[0m\n\u001b[0m\u001b[0;32m      9\u001b[0m \u001b[0mb\u001b[0m\u001b[1;33m.\u001b[0m\u001b[0mappend\u001b[0m\u001b[1;33m(\u001b[0m\u001b[0ma\u001b[0m\u001b[1;33m)\u001b[0m\u001b[1;33m\u001b[0m\u001b[1;33m\u001b[0m\u001b[0m\n\u001b[0;32m     10\u001b[0m \u001b[0mprint\u001b[0m\u001b[1;33m(\u001b[0m\u001b[0ma\u001b[0m\u001b[1;33m)\u001b[0m\u001b[1;33m\u001b[0m\u001b[1;33m\u001b[0m\u001b[0m\n",
      "\u001b[1;31mTypeError\u001b[0m: append() takes exactly one argument (2 given)"
     ]
    }
   ],
   "source": [
    "word = 'some where over the rainbow way up high'\n",
    "result = word.split()\n",
    "b = []\n",
    "a = []\n",
    "for i in result:\n",
    "    num = len(i)\n",
    "    i.upper()\n",
    "    a.append(i,num)\n",
    "b.append(a)\n",
    "print(a)"
   ]
  },
  {
   "cell_type": "markdown",
   "metadata": {},
   "source": [
    "#### (7) 실행파일 만들기(exe파일 만들기)\n",
    "\n",
    "+ pyinstaller, py2exe, ...\n",
    "+ pip install pyinstaller\n",
    "+ https://media.readthedocs.org/pdf/pyinstaller/cross-compiling/pyinstaller.pdf\n",
    "+ pyinstaller 파일명.py\n",
    "+ pyinstaller -F 파일명.py"
   ]
  },
  {
   "cell_type": "markdown",
   "metadata": {},
   "source": [
    "#### 문제1\n",
    "\n",
    "전자 계산기 프로그램 반복문 이용\n",
    "(끝나는 조건은 연산자 x입력하면 종료)"
   ]
  },
  {
   "cell_type": "code",
   "execution_count": 1,
   "metadata": {},
   "outputs": [
    {
     "name": "stdout",
     "output_type": "stream",
     "text": [
      "연산자를 입력하세요:x\n",
      "숫자1:1\n",
      "숫자2:2\n"
     ]
    }
   ],
   "source": [
    "#a = input('연산자를 입력하세요:')\n",
    "#num1 = int(input('숫자1:'))\n",
    "#num2 = int(input('숫자2:'))\n",
    "\n",
    "while True:\n",
    "    a = input('연산자를 입력하세요:')\n",
    "    num1 = int(input('숫자1:'))\n",
    "    num2 = int(input('숫자2:'))\n",
    "    if a == '+':\n",
    "        print(num1 + num2)\n",
    "    elif a == '-':\n",
    "        print(num1 - num2)\n",
    "    elif a == '*':\n",
    "        print(num1 - num2)\n",
    "    elif a == '/':\n",
    "        print(num1 / num2)\n",
    "    elif a == 'x':\n",
    "        break\n",
    "    else:\n",
    "        print('연산자가 아닙니다')"
   ]
  },
  {
   "cell_type": "markdown",
   "metadata": {},
   "source": [
    "#### 문제 2\n",
    "\n",
    "가위바위보 반복문 이용 업그레이드\n",
    "(끝나는 조건은 x나 q입력)\n",
    "\n",
    "끝나면 결과로 n승n패 출력"
   ]
  },
  {
   "cell_type": "code",
   "execution_count": 21,
   "metadata": {},
   "outputs": [
    {
     "name": "stdout",
     "output_type": "stream",
     "text": [
      "입력:rkdnl\n",
      "다시 입력하세요\n",
      "입력:가위\n",
      "나: 가위\n",
      "상대: 바위 \n",
      "졌습니다.\n",
      "입력:바이\n",
      "다시 입력하세요\n",
      "입력:ㅌ\n",
      "다시 입력하세요\n",
      "입력:x\n",
      "결과: 승0 패1 비김0\n",
      "종료 합니다\n"
     ]
    }
   ],
   "source": [
    "import random\n",
    "win = 0\n",
    "lose = 0\n",
    "same = 0\n",
    "while True:\n",
    "    a = input('입력:')\n",
    "    b = random.randint(0,2)\n",
    "        \n",
    "    if a == '가위':\n",
    "        print('나:',a)\n",
    "        if b == 1:\n",
    "            same += 1\n",
    "            print('상대: 가위 \\n비겼습니다.')\n",
    "        elif b == 2:\n",
    "            lose += 1\n",
    "            print('상대: 바위 \\n졌습니다.')\n",
    "        elif b == 3:\n",
    "            win += 1\n",
    "            print('상대: 보 \\n이겼습니다.')\n",
    "    elif a == '바위':\n",
    "        print('나:',a)\n",
    "        if b == 1:\n",
    "            win += 1\n",
    "            print('상대: 가위 \\n이겼습니다.')\n",
    "        elif b == 2:\n",
    "            same += 1\n",
    "            print('상대: 바위 \\n비겼습니다.')\n",
    "        elif b == 3:\n",
    "            lose +=1\n",
    "            print('상대: 보 \\n졌습니다.')\n",
    "    elif a == '보':\n",
    "        print('나:',a)\n",
    "        if b == 1:\n",
    "            lose += 1\n",
    "            print('상대: 가위 \\n졌습니다.')\n",
    "        elif b == 2:\n",
    "            win += 1\n",
    "            print('상대: 바위 \\n이겼습니다.')\n",
    "        elif b == 3:\n",
    "            same += 1\n",
    "            print('상대: 보 \\n비겼습니다.')\n",
    "    elif a == 'x' or a == 'q':\n",
    "        print('결과: 승{} 패{} 비김{}'.format(win,lose,same))\n",
    "        print('종료 합니다')\n",
    "        break\n",
    "    else:\n",
    "        print('다시 입력하세요')"
   ]
  },
  {
   "cell_type": "markdown",
   "metadata": {},
   "source": [
    "#### 문제3\n",
    "\n",
    "숫자 입력받아 짝수의 합과 홀수의 합을 구하시오(0립력하면 종료) 무한대 입력가능 "
   ]
  },
  {
   "cell_type": "code",
   "execution_count": 20,
   "metadata": {},
   "outputs": [
    {
     "name": "stdout",
     "output_type": "stream",
     "text": [
      "숫자 입력:1\n",
      "숫자 입력:2\n",
      "숫자 입력:87\n",
      "숫자 입력:78\n",
      "숫자 입력:567\n",
      "숫자 입력:43\n",
      "숫자 입력:0\n",
      "홀수:698 짝수:80\n"
     ]
    }
   ],
   "source": [
    "even = 0\n",
    "odd = 0\n",
    "num = 0\n",
    "while True:\n",
    "    num = int(input('숫자 입력:'))\n",
    "    if num == 0:\n",
    "        print('홀수:{} 짝수:{}'.format(odd,even))\n",
    "        break\n",
    "    elif num % 2 == 0:\n",
    "        even += num\n",
    "    else:\n",
    "        odd += num"
   ]
  },
  {
   "cell_type": "markdown",
   "metadata": {},
   "source": [
    "#### 문제 4\n",
    "\n",
    "숫자 맞추기 게임\n",
    "\n",
    "예시 )\n",
    "1부터 100 사이의 숫자를 맞추시오\n",
    "\n",
    "숫자입력 : 50\n",
    "낮음\n",
    "\n",
    "숫자 입력: 75\n",
    "낮음\n",
    "\n",
    "...\n",
    "\n",
    "숫자입력: 89\n",
    "정답입니다.시도횟수는 n번입니다."
   ]
  },
  {
   "cell_type": "code",
   "execution_count": 19,
   "metadata": {},
   "outputs": [
    {
     "ename": "KeyboardInterrupt",
     "evalue": "Interrupted by user",
     "output_type": "error",
     "traceback": [
      "\u001b[1;31m---------------------------------------------------------------------------\u001b[0m",
      "\u001b[1;31mKeyboardInterrupt\u001b[0m                         Traceback (most recent call last)",
      "\u001b[1;32m<ipython-input-19-927bad7eb2bd>\u001b[0m in \u001b[0;36m<module>\u001b[1;34m\u001b[0m\n\u001b[0;32m      5\u001b[0m \u001b[1;33m\u001b[0m\u001b[0m\n\u001b[0;32m      6\u001b[0m \u001b[1;32mwhile\u001b[0m \u001b[1;32mTrue\u001b[0m\u001b[1;33m:\u001b[0m\u001b[1;33m\u001b[0m\u001b[1;33m\u001b[0m\u001b[0m\n\u001b[1;32m----> 7\u001b[1;33m     \u001b[0mnum\u001b[0m \u001b[1;33m=\u001b[0m \u001b[0mint\u001b[0m\u001b[1;33m(\u001b[0m\u001b[0minput\u001b[0m\u001b[1;33m(\u001b[0m\u001b[1;34m'숫자입력:'\u001b[0m\u001b[1;33m)\u001b[0m\u001b[1;33m)\u001b[0m\u001b[1;33m\u001b[0m\u001b[1;33m\u001b[0m\u001b[0m\n\u001b[0m\u001b[0;32m      8\u001b[0m     \u001b[0mrannum\u001b[0m \u001b[1;33m=\u001b[0m \u001b[0mrandom\u001b[0m\u001b[1;33m.\u001b[0m\u001b[0mrandint\u001b[0m\u001b[1;33m(\u001b[0m\u001b[1;36m1\u001b[0m\u001b[1;33m,\u001b[0m\u001b[1;36m100\u001b[0m\u001b[1;33m)\u001b[0m\u001b[1;33m\u001b[0m\u001b[1;33m\u001b[0m\u001b[0m\n\u001b[0;32m      9\u001b[0m     \u001b[1;32mif\u001b[0m \u001b[0mrannum\u001b[0m \u001b[1;33m>\u001b[0m \u001b[0mnum\u001b[0m\u001b[1;33m:\u001b[0m\u001b[1;33m\u001b[0m\u001b[1;33m\u001b[0m\u001b[0m\n",
      "\u001b[1;32m~\\anaconda3\\lib\\site-packages\\ipykernel\\kernelbase.py\u001b[0m in \u001b[0;36mraw_input\u001b[1;34m(self, prompt)\u001b[0m\n\u001b[0;32m    858\u001b[0m                 \u001b[1;34m\"raw_input was called, but this frontend does not support input requests.\"\u001b[0m\u001b[1;33m\u001b[0m\u001b[1;33m\u001b[0m\u001b[0m\n\u001b[0;32m    859\u001b[0m             )\n\u001b[1;32m--> 860\u001b[1;33m         return self._input_request(str(prompt),\n\u001b[0m\u001b[0;32m    861\u001b[0m             \u001b[0mself\u001b[0m\u001b[1;33m.\u001b[0m\u001b[0m_parent_ident\u001b[0m\u001b[1;33m,\u001b[0m\u001b[1;33m\u001b[0m\u001b[1;33m\u001b[0m\u001b[0m\n\u001b[0;32m    862\u001b[0m             \u001b[0mself\u001b[0m\u001b[1;33m.\u001b[0m\u001b[0m_parent_header\u001b[0m\u001b[1;33m,\u001b[0m\u001b[1;33m\u001b[0m\u001b[1;33m\u001b[0m\u001b[0m\n",
      "\u001b[1;32m~\\anaconda3\\lib\\site-packages\\ipykernel\\kernelbase.py\u001b[0m in \u001b[0;36m_input_request\u001b[1;34m(self, prompt, ident, parent, password)\u001b[0m\n\u001b[0;32m    902\u001b[0m             \u001b[1;32mexcept\u001b[0m \u001b[0mKeyboardInterrupt\u001b[0m\u001b[1;33m:\u001b[0m\u001b[1;33m\u001b[0m\u001b[1;33m\u001b[0m\u001b[0m\n\u001b[0;32m    903\u001b[0m                 \u001b[1;31m# re-raise KeyboardInterrupt, to truncate traceback\u001b[0m\u001b[1;33m\u001b[0m\u001b[1;33m\u001b[0m\u001b[1;33m\u001b[0m\u001b[0m\n\u001b[1;32m--> 904\u001b[1;33m                 \u001b[1;32mraise\u001b[0m \u001b[0mKeyboardInterrupt\u001b[0m\u001b[1;33m(\u001b[0m\u001b[1;34m\"Interrupted by user\"\u001b[0m\u001b[1;33m)\u001b[0m \u001b[1;32mfrom\u001b[0m \u001b[1;32mNone\u001b[0m\u001b[1;33m\u001b[0m\u001b[1;33m\u001b[0m\u001b[0m\n\u001b[0m\u001b[0;32m    905\u001b[0m             \u001b[1;32mexcept\u001b[0m \u001b[0mException\u001b[0m \u001b[1;32mas\u001b[0m \u001b[0me\u001b[0m\u001b[1;33m:\u001b[0m\u001b[1;33m\u001b[0m\u001b[1;33m\u001b[0m\u001b[0m\n\u001b[0;32m    906\u001b[0m                 \u001b[0mself\u001b[0m\u001b[1;33m.\u001b[0m\u001b[0mlog\u001b[0m\u001b[1;33m.\u001b[0m\u001b[0mwarning\u001b[0m\u001b[1;33m(\u001b[0m\u001b[1;34m\"Invalid Message:\"\u001b[0m\u001b[1;33m,\u001b[0m \u001b[0mexc_info\u001b[0m\u001b[1;33m=\u001b[0m\u001b[1;32mTrue\u001b[0m\u001b[1;33m)\u001b[0m\u001b[1;33m\u001b[0m\u001b[1;33m\u001b[0m\u001b[0m\n",
      "\u001b[1;31mKeyboardInterrupt\u001b[0m: Interrupted by user"
     ]
    }
   ],
   "source": [
    "import random\n",
    "num = 0\n",
    "rannum = 0\n",
    "count = 0\n",
    "\n",
    "while True:\n",
    "    num = int(input('숫자입력:'))\n",
    "    rannum = random.randint(1,100)\n",
    "    if rannum > num: \n",
    "        count = count +1\n",
    "        print(num,'낮음')\n",
    "    elif rannum < num:\n",
    "        count = count +1\n",
    "        print(num,'큼')\n",
    "    elif rannum == num:\n",
    "        print('{}은 정답입니다. 시도횟수는 {}번 입니다.'.format(num,count))\n",
    "        break"
   ]
  },
  {
   "cell_type": "code",
   "execution_count": 1,
   "metadata": {},
   "outputs": [
    {
     "name": "stdout",
     "output_type": "stream",
     "text": [
      "메뉴를 선택 :2\n",
      "이름을 입력 :ddd\n",
      "1.친구 리스트 출력 \n",
      "2.친구 추가 \n",
      "3.친구 삭제 \n",
      "4.이름변경 \n",
      "9.종료\n",
      "메뉴를 선택 :2\n",
      "이름을 입력 :sss\n",
      "1.친구 리스트 출력 \n",
      "2.친구 추가 \n",
      "3.친구 삭제 \n",
      "4.이름변경 \n",
      "9.종료\n",
      "메뉴를 선택 :2\n",
      "이름을 입력 :rrr\n",
      "1.친구 리스트 출력 \n",
      "2.친구 추가 \n",
      "3.친구 삭제 \n",
      "4.이름변경 \n",
      "9.종료\n",
      "메뉴를 선택 :4\n",
      "변경할 이름 선택 :sss\n",
      "변경하고 싶은 이름 입력 :qqq\n",
      "1.친구 리스트 출력 \n",
      "2.친구 추가 \n",
      "3.친구 삭제 \n",
      "4.이름변경 \n",
      "9.종료\n",
      "메뉴를 선택 :1\n",
      "['ddd', 'qqq', 'rrr']\n",
      "1.친구 리스트 출력 \n",
      "2.친구 추가 \n",
      "3.친구 삭제 \n",
      "4.이름변경 \n",
      "9.종료\n",
      "메뉴를 선택 :4\n",
      "변경할 이름 선택 :ddd\n",
      "변경하고 싶은 이름 입력 :xxx\n",
      "1.친구 리스트 출력 \n",
      "2.친구 추가 \n",
      "3.친구 삭제 \n",
      "4.이름변경 \n",
      "9.종료\n",
      "메뉴를 선택 :1\n",
      "['xxx', 'qqq', 'rrr']\n",
      "1.친구 리스트 출력 \n",
      "2.친구 추가 \n",
      "3.친구 삭제 \n",
      "4.이름변경 \n",
      "9.종료\n",
      "메뉴를 선택 :9\n"
     ]
    }
   ],
   "source": [
    "print('친구관리 프로그램  \\n{}'.format('='*20))\n",
    "menu = 0\n",
    "name = 0\n",
    "list = []\n",
    "while True:\n",
    "    print('1.친구 리스트 출력 \\n2.친구 추가 \\n3.친구 삭제 \\n4.이름변경 \\n9.종료')\n",
    "    menu = int(input('메뉴를 선택 :'))\n",
    "    \n",
    "    if menu == 1:\n",
    "        print(list)\n",
    "    elif menu == 2:\n",
    "        name = input('이름을 입력 :')\n",
    "        list.append(name)\n",
    "    elif menu == 3:\n",
    "        name = input('이름을 입력 :')\n",
    "        list.remove(name)\n",
    "    elif menu == 4:\n",
    "        chname = input('변경할 이름 선택 :')\n",
    "        nwname = input('변경하고 싶은 이름 입력 :')\n",
    "        ind = list.index(chname)\n",
    "        del list[ind]\n",
    "        list.insert(ind,nwname)\n",
    "    elif menu == 9:\n",
    "        break"
   ]
  },
  {
   "cell_type": "code",
   "execution_count": 28,
   "metadata": {},
   "outputs": [
    {
     "data": {
      "text/plain": [
       "'\\n친구 관리 프로그램\\n====================\\n\\n1.친구 리스트 출력\\n2.친구 추가\\n3.친구 삭제\\n4.이름 변경\\n9.종료\\n메뉴를 선택 : 2 (엔터)\\n이름을 입력 : 홍길동 (엔터)\\n-----------------------\\n1.친구 리스트 출력\\n2.친구 추가\\n3.친구 삭제\\n4.이름 변경\\n9.종료\\n메뉴를 선택 : 2 (엔터)\\n이름을 입력 : 임꺽정 (엔터)\\n-----------------------\\n1.친구 리스트 출력\\n2.친구 추가\\n3.친구 삭제\\n4.이름 변경\\n9.종료\\n메뉴를 선택 : 1 (엔터)\\n[\"홍길동\", \"임꺽정\"]\\n----------------------\\n1.친구 리스트 출력\\n2.친구 추가\\n3.친구 삭제\\n4.이름 변경\\n9.종료\\n메뉴를 선택 : 4 (엔터)\\n변경할 이름 선택 : 홍길동 (엔터)\\n변경하고 싶은 이름 입력 : 홍길순 (엔터)\\n-------------------------------\\n1.친구 리스트 출력\\n2.친구 추가\\n3.친구 삭제\\n4.이름 변경\\n9.종료\\n메뉴를 선택 : 1 (엔터)\\n[\"홍길순\", \"임꺽정\"]\\n-------------------------------\\n1.친구 리스트 출력\\n2.친구 추가\\n3.친구 삭제\\n4.이름 변경\\n9.종료\\n메뉴를 선택 : 3 (엔터)\\n삭제할 이름 입력 : 홍길순\\n------------------------------\\n'"
      ]
     },
     "execution_count": 28,
     "metadata": {},
     "output_type": "execute_result"
    }
   ],
   "source": [
    "\"\"\"\n",
    "친구 관리 프로그램\n",
    "====================\n",
    "\n",
    "1.친구 리스트 출력\n",
    "2.친구 추가\n",
    "3.친구 삭제\n",
    "4.이름 변경\n",
    "9.종료\n",
    "메뉴를 선택 : 2 (엔터)\n",
    "이름을 입력 : 홍길동 (엔터)\n",
    "-----------------------\n",
    "1.친구 리스트 출력\n",
    "2.친구 추가\n",
    "3.친구 삭제\n",
    "4.이름 변경\n",
    "9.종료\n",
    "메뉴를 선택 : 2 (엔터)\n",
    "이름을 입력 : 임꺽정 (엔터)\n",
    "-----------------------\n",
    "1.친구 리스트 출력\n",
    "2.친구 추가\n",
    "3.친구 삭제\n",
    "4.이름 변경\n",
    "9.종료\n",
    "메뉴를 선택 : 1 (엔터)\n",
    "[\"홍길동\", \"임꺽정\"]\n",
    "----------------------\n",
    "1.친구 리스트 출력\n",
    "2.친구 추가\n",
    "3.친구 삭제\n",
    "4.이름 변경\n",
    "9.종료\n",
    "메뉴를 선택 : 4 (엔터)\n",
    "변경할 이름 선택 : 홍길동 (엔터)\n",
    "변경하고 싶은 이름 입력 : 홍길순 (엔터)\n",
    "-------------------------------\n",
    "1.친구 리스트 출력\n",
    "2.친구 추가\n",
    "3.친구 삭제\n",
    "4.이름 변경\n",
    "9.종료\n",
    "메뉴를 선택 : 1 (엔터)\n",
    "[\"홍길순\", \"임꺽정\"]\n",
    "-------------------------------\n",
    "1.친구 리스트 출력\n",
    "2.친구 추가\n",
    "3.친구 삭제\n",
    "4.이름 변경\n",
    "9.종료\n",
    "메뉴를 선택 : 3 (엔터)\n",
    "삭제할 이름 입력 : 홍길순\n",
    "------------------------------\n",
    "\"\"\"\n"
   ]
  },
  {
   "cell_type": "code",
   "execution_count": null,
   "metadata": {},
   "outputs": [],
   "source": []
  }
 ],
 "metadata": {
  "kernelspec": {
   "display_name": "Python 3",
   "language": "python",
   "name": "python3"
  },
  "language_info": {
   "codemirror_mode": {
    "name": "ipython",
    "version": 3
   },
   "file_extension": ".py",
   "mimetype": "text/x-python",
   "name": "python",
   "nbconvert_exporter": "python",
   "pygments_lexer": "ipython3",
   "version": "3.8.5"
  }
 },
 "nbformat": 4,
 "nbformat_minor": 4
}
